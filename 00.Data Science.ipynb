{
 "cells": [
  {
   "cell_type": "markdown",
   "metadata": {},
   "source": [
    "# Data Science"
   ]
  },
  {
   "cell_type": "markdown",
   "metadata": {},
   "source": [
    "## Bla bla"
   ]
  },
  {
   "cell_type": "code",
   "execution_count": null,
   "metadata": {
    "collapsed": true
   },
   "outputs": [],
   "source": []
  },
  {
   "cell_type": "code",
   "execution_count": null,
   "metadata": {
    "collapsed": true
   },
   "outputs": [],
   "source": []
  },
  {
   "cell_type": "markdown",
   "metadata": {},
   "source": [
    "JVP:\n",
    "\n",
    "1) Computational Expertise;\n",
    "\n",
    "2) Statistical Expertise;\n",
    "\n",
    "3) Domain Exeprtise.\n"
   ]
  },
  {
   "cell_type": "raw",
   "metadata": {
    "collapsed": true
   },
   "source": [
    "%%javascript\n",
    "console.log(\"Section numbering...\");\n",
    "\n",
    "function number_sections(threshold) {\n",
    "\n",
    "  var h1_number = 0;\n",
    "  var h2_number = 0;\n",
    "\n",
    "  if (threshold === undefined) {\n",
    "    threshold = 2;  // does nothing so far\n",
    "  }\n",
    "\n",
    "  var cells = IPython.notebook.get_cells();\n",
    "  \n",
    "  for (var i=0; i < cells.length; i++) {\n",
    "\n",
    "    var cell = cells[i];\n",
    "    if (cell.cell_type !== 'markdown') continue;\n",
    "    \n",
    "    var h1_element = cell.element.find('h1');\n",
    "    if (h1_element.length !== 0) {\n",
    "        \n",
    "        h1_number ++;\n",
    "        \n",
    "        var h1_html = h1_element.html();\n",
    "        \n",
    "        console.log(\"h1_html: \" + h1_html);\n",
    "\n",
    "        var patt = /^[0-9]+\\.\\s(.*)/;   // section number at start of string\n",
    "        var title = h1_html.match(patt);  // just the title\n",
    "\n",
    "        if (title != null) {  \n",
    "          h1_element.html(h1_number + \". \" + title[1]);\n",
    "        }\n",
    "        else {\n",
    "          h1_element.html(h1_number + \". \" + h1_html);\n",
    "        }\n",
    "        \n",
    "        h2_number = 0;\n",
    "        \n",
    "    }\n",
    "    \n",
    "    var h2_element = cell.element.find('h2');\n",
    "    if (h2_element.length !== 0) {\n",
    "    \n",
    "        h2_number ++;\n",
    "        \n",
    "        var h2_html = h2_element.html();\n",
    "\n",
    "        console.log(\"h2_html: \" + h2_html);\n",
    "\n",
    "        \n",
    "        var patt = /^[0-9]+\\.[0-9]+\\.\\s/;\n",
    "        var result = h2_html.match(patt);\n",
    "\n",
    "        if (result != null) {\n",
    "          h2_html = h2_html.replace(result, \"\");\n",
    "        }\n",
    "\n",
    "        h2_element.html(h1_number + \".\" + h2_number + \". \" + h2_html);\n",
    "        \n",
    "    }\n",
    "    \n",
    "  }\n",
    "  \n",
    "}\n",
    "\n",
    "number_sections();\n",
    "\n",
    "// $([IPython.evnts]).on('create.Cell', number_sections);\n",
    "\n",
    "$([IPython.events]).on('selected_cell_type_changed.Notebook', number_sections);\n"
   ]
  },
  {
   "cell_type": "code",
   "execution_count": 15,
   "metadata": {
    "collapsed": false
   },
   "outputs": [
    {
     "data": {
      "application/javascript": [
       "$.getScript( \"http://tessarinseve.pythonanywhere.com/JupyterNotebooks/sectionnumbering.js\", function( data, textStatus, jqxhr ) {\n",
       "  console.log( data ); // Data returned\n",
       "  console.log( textStatus ); // Success\n",
       "  console.log( jqxhr.status ); // 200\n",
       "});"
      ],
      "text/plain": [
       "<IPython.core.display.Javascript object>"
      ]
     },
     "metadata": {},
     "output_type": "display_data"
    }
   ],
   "source": [
    "%%javascript\n",
    "$.getScript( \"http://tessarinseve.pythonanywhere.com/JupyterNotebooks/sectionnumbering.js\", function( data, textStatus, jqxhr ) {\n",
    "  console.log( data ); // Data returned\n",
    "  console.log( textStatus ); // Success\n",
    "  console.log( jqxhr.status ); // 200\n",
    "});"
   ]
  },
  {
   "cell_type": "raw",
   "metadata": {},
   "source": [
    "%%html\n",
    "<html>\n",
    "<body>\n",
    "    <div id='fileNames'></div>\n",
    "</body>\n",
    "<script src=\"js/jquery.js\"></script>\n",
    "\n",
    "<script type=\"text/javascript\">\n",
    "    $(document).ready(function () \n",
    "    {\n",
    "        $.get(\"/notebooks\", function(data) \n",
    "        {\n",
    "            $(\"#fileNames\").append(data);\n",
    "        });\n",
    "    })\n",
    "</script>"
   ]
  },
  {
   "cell_type": "code",
   "execution_count": null,
   "metadata": {
    "collapsed": true
   },
   "outputs": [],
   "source": []
  }
 ],
 "metadata": {
  "hide_input": false,
  "kernelspec": {
   "display_name": "Python 3",
   "language": "python",
   "name": "python3"
  },
  "language_info": {
   "codemirror_mode": {
    "name": "ipython",
    "version": 3
   },
   "file_extension": ".py",
   "mimetype": "text/x-python",
   "name": "python",
   "nbconvert_exporter": "python",
   "pygments_lexer": "ipython3",
   "version": "3.4.3"
  },
  "widgets": {
   "state": {},
   "version": "1.1.0"
  }
 },
 "nbformat": 4,
 "nbformat_minor": 0
}
