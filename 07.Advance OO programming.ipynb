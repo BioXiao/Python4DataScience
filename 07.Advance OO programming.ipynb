{
 "cells": [
  {
   "cell_type": "markdown",
   "metadata": {},
   "source": [
    "## Object Oriented Programming"
   ]
  },
  {
   "cell_type": "markdown",
   "metadata": {},
   "source": [
    "-----------------------"
   ]
  },
  {
   "cell_type": "code",
   "execution_count": 2,
   "metadata": {
    "collapsed": false
   },
   "outputs": [
    {
     "data": {
      "text/plain": [
       "'__main__'"
      ]
     },
     "execution_count": 2,
     "metadata": {},
     "output_type": "execute_result"
    }
   ],
   "source": [
    "##python private variable \n",
    "__name__"
   ]
  },
  {
   "cell_type": "code",
   "execution_count": 3,
   "metadata": {
    "collapsed": false
   },
   "outputs": [],
   "source": [
    "class Message():\n",
    "    def __init__(self,msg):\n",
    "        self.msg=msg\n",
    "    \n",
    "    def SayHello(self,msg):\n",
    "        if msg=='':\n",
    "            return 'Ciao %s' %self.msg\n",
    "        else:\n",
    "            return 'Ciao %s' %msg\n",
    "    \n",
    "    def Capitalise(self):\n",
    "        import string as __string\n",
    "        return __string.capitalize(self.msg)"
   ]
  },
  {
   "cell_type": "code",
   "execution_count": 4,
   "metadata": {
    "collapsed": false
   },
   "outputs": [],
   "source": [
    "x=Message('seve')## instance of a new message"
   ]
  },
  {
   "cell_type": "code",
   "execution_count": 5,
   "metadata": {
    "collapsed": false
   },
   "outputs": [
    {
     "data": {
      "text/plain": [
       "'Ciao seve'"
      ]
     },
     "execution_count": 5,
     "metadata": {},
     "output_type": "execute_result"
    }
   ],
   "source": [
    "x.SayHello('')"
   ]
  },
  {
   "cell_type": "code",
   "execution_count": 6,
   "metadata": {
    "collapsed": false
   },
   "outputs": [
    {
     "name": "stdout",
     "output_type": "stream",
     "text": [
      "<<Hello, world!>em>b\n"
     ]
    }
   ],
   "source": [
    "def tag_wrap(tag):\n",
    "    def decorator(fn):\n",
    "        def inner(s):\n",
    "            return '<%s>%s' % (fn(s), tag)\n",
    "        return inner\n",
    "    return decorator\n",
    " \n",
    "@tag_wrap('b')\n",
    "@tag_wrap('em')\n",
    "def greet(name):\n",
    "    return 'Hello, %s!' % name\n",
    " \n",
    "print(greet('world'))"
   ]
  },
  {
   "cell_type": "markdown",
   "metadata": {},
   "source": [
    "------------------"
   ]
  },
  {
   "cell_type": "code",
   "execution_count": 113,
   "metadata": {
    "collapsed": false
   },
   "outputs": [],
   "source": [
    "## Pure Decorator means return the very same funcrtion \n",
    "\n",
    "def PrintNameFunction(f):\n",
    "    \"\"\" Print the name of the function \"\"\"\n",
    "    print(f.__name__)\n",
    "    return f"
   ]
  },
  {
   "cell_type": "code",
   "execution_count": 114,
   "metadata": {
    "collapsed": false
   },
   "outputs": [],
   "source": [
    "\n",
    "def Dummy():\n",
    "    print(\"Ciao\")"
   ]
  },
  {
   "cell_type": "code",
   "execution_count": 115,
   "metadata": {
    "collapsed": false
   },
   "outputs": [
    {
     "name": "stdout",
     "output_type": "stream",
     "text": [
      "Dummy\n"
     ]
    }
   ],
   "source": [
    "Dummy2=PrintNameFunction(Dummy)"
   ]
  },
  {
   "cell_type": "code",
   "execution_count": 116,
   "metadata": {
    "collapsed": false
   },
   "outputs": [
    {
     "name": "stdout",
     "output_type": "stream",
     "text": [
      "Ciao\n"
     ]
    }
   ],
   "source": [
    "Dummy2()"
   ]
  },
  {
   "cell_type": "code",
   "execution_count": 117,
   "metadata": {
    "collapsed": false
   },
   "outputs": [
    {
     "name": "stdout",
     "output_type": "stream",
     "text": [
      "NoName\n"
     ]
    }
   ],
   "source": [
    "@PrintNameFunction\n",
    "def NoName():\n",
    "    pass\n"
   ]
  },
  {
   "cell_type": "raw",
   "metadata": {},
   "source": [
    "@decorator # ❷\n",
    "def function(): # ❶\n",
    "    pass\n",
    "\n",
    "it's equivalent to\n",
    "function=decorator(function)"
   ]
  },
  {
   "cell_type": "code",
   "execution_count": 139,
   "metadata": {
    "collapsed": false
   },
   "outputs": [],
   "source": [
    "### the function name is passed implicitly \n",
    "\n",
    "def PrintNameFunction(f):\n",
    "    \"\"\" Print the name of the function \"\"\"\n",
    "    @functools.wraps\n",
    "    def wrapper(*args, **kwargs):\n",
    "        print(f.__name__)\n",
    "        return  wrapper\n",
    "    \n",
    "    return f"
   ]
  },
  {
   "cell_type": "code",
   "execution_count": 140,
   "metadata": {
    "collapsed": false
   },
   "outputs": [],
   "source": [
    "Dummy2=PrintNameFunction(Dummy)"
   ]
  },
  {
   "cell_type": "code",
   "execution_count": 141,
   "metadata": {
    "collapsed": false
   },
   "outputs": [
    {
     "name": "stdout",
     "output_type": "stream",
     "text": [
      "Ciao\n"
     ]
    }
   ],
   "source": [
    "Dummy2()"
   ]
  },
  {
   "cell_type": "markdown",
   "metadata": {},
   "source": [
    "------------------"
   ]
  },
  {
   "cell_type": "raw",
   "metadata": {},
   "source": [
    "The only requirement on decorators is that they can be called with a single argument. This means that decorators\n",
    "can be implemented as normal functions, or as classes with a __call__ method, or in theory, even as lambda\n",
    "functions."
   ]
  },
  {
   "cell_type": "code",
   "execution_count": 127,
   "metadata": {
    "collapsed": false
   },
   "outputs": [],
   "source": [
    "def mean(first, second, *rest):\n",
    "    numbers = (first, second) + rest\n",
    "    return sum(numbers) / len(numbers)"
   ]
  },
  {
   "cell_type": "code",
   "execution_count": 129,
   "metadata": {
    "collapsed": false
   },
   "outputs": [
    {
     "data": {
      "text/plain": [
       "5.0"
      ]
     },
     "execution_count": 129,
     "metadata": {},
     "output_type": "execute_result"
    }
   ],
   "source": [
    "##Ok\n",
    "mean(1,12,3,4,5)"
   ]
  },
  {
   "cell_type": "code",
   "execution_count": 130,
   "metadata": {
    "collapsed": false
   },
   "outputs": [
    {
     "ename": "TypeError",
     "evalue": "unsupported operand type(s) for +: 'int' and 'str'",
     "output_type": "error",
     "traceback": [
      "\u001b[1;31m---------------------------------------------------------------------------\u001b[0m\n\u001b[1;31mTypeError\u001b[0m                                 Traceback (most recent call last)",
      "\u001b[1;32m<ipython-input-130-8c6752802467>\u001b[0m in \u001b[0;36m<module>\u001b[1;34m()\u001b[0m\n\u001b[0;32m      1\u001b[0m \u001b[1;31m##But\u001b[0m\u001b[1;33m\u001b[0m\u001b[1;33m\u001b[0m\u001b[0m\n\u001b[1;32m----> 2\u001b[1;33m \u001b[0mmean\u001b[0m\u001b[1;33m(\u001b[0m\u001b[1;34m\"1\"\u001b[0m\u001b[1;33m,\u001b[0m\u001b[1;36m12.5\u001b[0m\u001b[1;33m,\u001b[0m\u001b[1;36m3\u001b[0m\u001b[1;33m,\u001b[0m\u001b[1;36m4\u001b[0m\u001b[1;33m,\u001b[0m\u001b[1;36m5\u001b[0m\u001b[1;33m)\u001b[0m\u001b[1;33m\u001b[0m\u001b[0m\n\u001b[0m",
      "\u001b[1;32m<ipython-input-127-7a1812d0320a>\u001b[0m in \u001b[0;36mmean\u001b[1;34m(first, second, *rest)\u001b[0m\n\u001b[0;32m      1\u001b[0m \u001b[1;32mdef\u001b[0m \u001b[0mmean\u001b[0m\u001b[1;33m(\u001b[0m\u001b[0mfirst\u001b[0m\u001b[1;33m,\u001b[0m \u001b[0msecond\u001b[0m\u001b[1;33m,\u001b[0m \u001b[1;33m*\u001b[0m\u001b[0mrest\u001b[0m\u001b[1;33m)\u001b[0m\u001b[1;33m:\u001b[0m\u001b[1;33m\u001b[0m\u001b[0m\n\u001b[0;32m      2\u001b[0m     \u001b[0mnumbers\u001b[0m \u001b[1;33m=\u001b[0m \u001b[1;33m(\u001b[0m\u001b[0mfirst\u001b[0m\u001b[1;33m,\u001b[0m \u001b[0msecond\u001b[0m\u001b[1;33m)\u001b[0m \u001b[1;33m+\u001b[0m \u001b[0mrest\u001b[0m\u001b[1;33m\u001b[0m\u001b[0m\n\u001b[1;32m----> 3\u001b[1;33m     \u001b[1;32mreturn\u001b[0m \u001b[0msum\u001b[0m\u001b[1;33m(\u001b[0m\u001b[0mnumbers\u001b[0m\u001b[1;33m)\u001b[0m \u001b[1;33m/\u001b[0m \u001b[0mlen\u001b[0m\u001b[1;33m(\u001b[0m\u001b[0mnumbers\u001b[0m\u001b[1;33m)\u001b[0m\u001b[1;33m\u001b[0m\u001b[0m\n\u001b[0m",
      "\u001b[1;31mTypeError\u001b[0m: unsupported operand type(s) for +: 'int' and 'str'"
     ]
    }
   ],
   "source": [
    "##But \n",
    "mean(\"1\",12.5,3,4,5)"
   ]
  },
  {
   "cell_type": "code",
   "execution_count": 137,
   "metadata": {
    "collapsed": false
   },
   "outputs": [],
   "source": [
    "import functools\n",
    "def float_args_and_return(function):\n",
    "    @functools.wraps\n",
    "    def wrapper(*args, **kwargs):\n",
    "        args = [float(arg) for arg in args]\n",
    "        return float(function(*args, **kwargs))\n",
    "    \n",
    "    return wrapper"
   ]
  },
  {
   "cell_type": "raw",
   "metadata": {},
   "source": [
    "@functools.wraps decorator, which can be used to decorate a wrapper function\n",
    "inside a decorator and ensures that the wrapped function’s __name__ and __doc__\n",
    "attributes hold the original function’s name and docstring."
   ]
  },
  {
   "cell_type": "code",
   "execution_count": 138,
   "metadata": {
    "collapsed": false
   },
   "outputs": [],
   "source": [
    "@float_args_and_return\n",
    "def meanc(first, second, *rest):\n",
    "    numbers = (first, second) + rest\n",
    "    return sum(numbers) / len(numbers)"
   ]
  },
  {
   "cell_type": "code",
   "execution_count": 134,
   "metadata": {
    "collapsed": false
   },
   "outputs": [
    {
     "data": {
      "text/plain": [
       "5.1"
      ]
     },
     "execution_count": 134,
     "metadata": {},
     "output_type": "execute_result"
    }
   ],
   "source": [
    "##ok\n",
    "meanc(\"1\",12.5,3,4,5)"
   ]
  },
  {
   "cell_type": "code",
   "execution_count": 7,
   "metadata": {
    "collapsed": false
   },
   "outputs": [],
   "source": [
    "\n",
    "def decorator(fn):\n",
    "    def inner(n):\n",
    "        return fn(n) + 1\n",
    "    return inner\n",
    " \n",
    "@decorator\n",
    "def f(n):\n",
    "    return n + 1"
   ]
  },
  {
   "cell_type": "code",
   "execution_count": 8,
   "metadata": {
    "collapsed": false
   },
   "outputs": [
    {
     "data": {
      "text/plain": [
       "12"
      ]
     },
     "execution_count": 8,
     "metadata": {},
     "output_type": "execute_result"
    }
   ],
   "source": [
    "f(10)"
   ]
  },
  {
   "cell_type": "code",
   "execution_count": 122,
   "metadata": {
    "collapsed": false
   },
   "outputs": [],
   "source": [
    "\n",
    "def b(fn):\n",
    "    return lambda s: '<b>%s</b>' % fn(s)\n",
    " \n",
    "def em(fn):\n",
    "    return lambda s: '<em>%s</em>' % fn(s)\n",
    " \n",
    "@b\n",
    "@em\n",
    "def greet(name):\n",
    "    return 'Hello, %s!' % name"
   ]
  },
  {
   "cell_type": "code",
   "execution_count": 123,
   "metadata": {
    "collapsed": false
   },
   "outputs": [
    {
     "data": {
      "text/plain": [
       "'<b><em>Hello, seve!</em></b>'"
      ]
     },
     "execution_count": 123,
     "metadata": {},
     "output_type": "execute_result"
    }
   ],
   "source": [
    "greet(\"seve\")"
   ]
  },
  {
   "cell_type": "raw",
   "metadata": {},
   "source": [
    " The @decorator notation is simply a special syntax to call an existing function, passing the new function as an argument, and use the return value to replace the new function."
   ]
  },
  {
   "cell_type": "code",
   "execution_count": 3,
   "metadata": {
    "collapsed": false
   },
   "outputs": [
    {
     "name": "stdout",
     "output_type": "stream",
     "text": [
      "2\n",
      "2\n"
     ]
    }
   ],
   "source": [
    "\n",
    "class Kls(object):\n",
    "    no_inst = 0\n",
    " \n",
    "    def __init__(self):\n",
    "        Kls.no_inst = Kls.no_inst + 1\n",
    " \n",
    "    ##instaed of self it pass the instace of the class\n",
    "    @classmethod\n",
    "    def get_no_of_instance(cls_obj):\n",
    "        return cls_obj.no_inst\n",
    " \n",
    "ik1 = Kls()\n",
    "ik2 = Kls()\n",
    " \n",
    "print (ik1.get_no_of_instance())\n",
    "print (Kls.get_no_of_instance())"
   ]
  },
  {
   "cell_type": "raw",
   "metadata": {},
   "source": [
    "class methods. This means that when they are called the class is passed as\n",
    "their first argument (rather like self is passed for normal methods)."
   ]
  },
  {
   "cell_type": "code",
   "execution_count": 4,
   "metadata": {
    "collapsed": false
   },
   "outputs": [
    {
     "name": "stdout",
     "output_type": "stream",
     "text": [
      "Reset done for: 12\n",
      "DB connection made for:  12\n"
     ]
    }
   ],
   "source": [
    "\n",
    "\n",
    "IND = 'ON'\n",
    " \n",
    "class Kls(object):\n",
    "    def __init__(self, data):\n",
    "        self.data = data\n",
    " \n",
    "    @staticmethod\n",
    "    def checkind():\n",
    "        return (IND == 'ON')\n",
    " \n",
    "    def do_reset(self):\n",
    "        if self.checkind():\n",
    "            print('Reset done for:', self.data)\n",
    " \n",
    "    def set_db(self):\n",
    "        if self.checkind():\n",
    "            self.db = 'New db connection'\n",
    "        print('DB connection made for: ', self.data)\n",
    " \n",
    "ik1 = Kls(12)\n",
    "ik1.do_reset()\n",
    "ik1.set_db()"
   ]
  },
  {
   "cell_type": "markdown",
   "metadata": {},
   "source": [
    "Often there is some functionality that relates to the class, but does not need the class or any instance(s) to do some work. Perhaps something like setting environmental variables, changing an attribute in another class, etc. In these situation we can also use a function, however doing so also spreads the interrelated code which can cause maintenance issues later."
   ]
  },
  {
   "cell_type": "code",
   "execution_count": null,
   "metadata": {
    "collapsed": false
   },
   "outputs": [],
   "source": []
  },
  {
   "cell_type": "raw",
   "metadata": {},
   "source": [
    "Decorators are a syntactic convenience, that allows a Python source file to say what it is going to do with the result of a function or a class statement before rather than after the statement. Decorators on function statements have been available since Python 2.4, and on class statements since Python 2.6.\n",
    "\n",
    "This section describes the decorator syntax and give examples of its use. In addition, we will discuss functions (and other callables) that are specifically designed for use as decorators. They are also called decorators.\n",
    "\n"
   ]
  },
  {
   "cell_type": "raw",
   "metadata": {},
   "source": [
    "Bound methods\n",
    "\n",
    "Unless you tell it not to, Python will create what is called a bound method when a function is an attribute of a class and you can access it via an instance of a class. This may sound complicated but it does exactly what you want."
   ]
  },
  {
   "cell_type": "code",
   "execution_count": 10,
   "metadata": {
    "collapsed": false
   },
   "outputs": [],
   "source": [
    "class A(object):\n",
    "    \n",
    "    def method(*argv):\n",
    "        return argv"
   ]
  },
  {
   "cell_type": "code",
   "execution_count": 18,
   "metadata": {
    "collapsed": false
   },
   "outputs": [
    {
     "data": {
      "text/plain": [
       "(<__main__.A at 0xb1f3d4c>, 'zzzzzz')"
      ]
     },
     "execution_count": 18,
     "metadata": {},
     "output_type": "execute_result"
    }
   ],
   "source": [
    "a=A()\n",
    "a.method(\"zzzzzz\")[0],a.method(\"zzzzzz\")[1]"
   ]
  },
  {
   "cell_type": "markdown",
   "metadata": {},
   "source": [
    "*staticmethod*\n"
   ]
  },
  {
   "cell_type": "code",
   "execution_count": 19,
   "metadata": {
    "collapsed": false
   },
   "outputs": [],
   "source": [
    "class B(object):\n",
    "    @staticmethod\n",
    "    def method(*argv):\n",
    "        return argv"
   ]
  },
  {
   "cell_type": "code",
   "execution_count": 24,
   "metadata": {
    "collapsed": false
   },
   "outputs": [
    {
     "data": {
      "text/plain": [
       "'vvvvvv'"
      ]
     },
     "execution_count": 24,
     "metadata": {},
     "output_type": "execute_result"
    }
   ],
   "source": [
    "b=B()\n",
    "b.method(\"vvvvvv\")[0] ## the __main__.B is not present"
   ]
  },
  {
   "cell_type": "markdown",
   "metadata": {},
   "source": [
    "*classmethod*\n"
   ]
  },
  {
   "cell_type": "code",
   "execution_count": 57,
   "metadata": {
    "collapsed": false
   },
   "outputs": [],
   "source": [
    "class C(object):\n",
    "    @classmethod\n",
    "    def method(*argv):\n",
    "        return argv"
   ]
  },
  {
   "cell_type": "code",
   "execution_count": 58,
   "metadata": {
    "collapsed": false
   },
   "outputs": [],
   "source": [
    "c=C()"
   ]
  },
  {
   "cell_type": "code",
   "execution_count": 59,
   "metadata": {
    "collapsed": false
   },
   "outputs": [
    {
     "data": {
      "text/plain": [
       "(__main__.C, 'ccccc')"
      ]
     },
     "execution_count": 59,
     "metadata": {},
     "output_type": "execute_result"
    }
   ],
   "source": [
    "c.method(\"ccccc\")###the instance of the class is passed as an additional argument."
   ]
  },
  {
   "cell_type": "code",
   "execution_count": 29,
   "metadata": {
    "collapsed": false
   },
   "outputs": [
    {
     "data": {
      "text/plain": [
       "<dictproxy {'__dict__': <attribute '__dict__' of 'A' objects>,\n",
       " '__doc__': None,\n",
       " '__module__': '__main__',\n",
       " '__weakref__': <attribute '__weakref__' of 'A' objects>,\n",
       " 'method': <function __main__.method>}>"
      ]
     },
     "execution_count": 29,
     "metadata": {},
     "output_type": "execute_result"
    }
   ],
   "source": [
    "A.__dict__"
   ]
  },
  {
   "cell_type": "code",
   "execution_count": 30,
   "metadata": {
    "collapsed": false
   },
   "outputs": [
    {
     "data": {
      "text/plain": [
       "<dictproxy {'__dict__': <attribute '__dict__' of 'C' objects>,\n",
       " '__doc__': None,\n",
       " '__module__': '__main__',\n",
       " '__weakref__': <attribute '__weakref__' of 'C' objects>,\n",
       " 'method': <classmethod at 0xb262344>}>"
      ]
     },
     "execution_count": 30,
     "metadata": {},
     "output_type": "execute_result"
    }
   ],
   "source": [
    "C.__dict__"
   ]
  },
  {
   "cell_type": "markdown",
   "metadata": {},
   "source": [
    "------------------------"
   ]
  },
  {
   "cell_type": "code",
   "execution_count": 1,
   "metadata": {
    "collapsed": false
   },
   "outputs": [],
   "source": [
    "def addthis(A):\n",
    "    return math.cos(A)"
   ]
  },
  {
   "cell_type": "code",
   "execution_count": 30,
   "metadata": {
    "collapsed": false
   },
   "outputs": [
    {
     "ename": "NameError",
     "evalue": "global name 'arg' is not defined",
     "output_type": "error",
     "traceback": [
      "\u001b[1;31m---------------------------------------------------------------------------\u001b[0m\n\u001b[1;31mNameError\u001b[0m                                 Traceback (most recent call last)",
      "\u001b[1;32m<ipython-input-30-12a60bae3163>\u001b[0m in \u001b[0;36m<module>\u001b[1;34m()\u001b[0m\n\u001b[1;32m----> 1\u001b[1;33m \u001b[0maddthis\u001b[0m\u001b[1;33m(\u001b[0m\u001b[1;33m)\u001b[0m\u001b[1;33m\u001b[0m\u001b[0m\n\u001b[0m",
      "\u001b[1;32m<ipython-input-29-0d5ce220f995>\u001b[0m in \u001b[0;36maddthis\u001b[1;34m()\u001b[0m\n\u001b[0;32m      1\u001b[0m \u001b[1;32mdef\u001b[0m \u001b[0maddthis\u001b[0m\u001b[1;33m(\u001b[0m\u001b[1;33m)\u001b[0m\u001b[1;33m:\u001b[0m\u001b[1;33m\u001b[0m\u001b[0m\n\u001b[1;32m----> 2\u001b[1;33m     \u001b[1;32mreturn\u001b[0m \u001b[0mmath\u001b[0m\u001b[1;33m.\u001b[0m\u001b[0mcos\u001b[0m\u001b[1;33m(\u001b[0m\u001b[0marg\u001b[0m\u001b[1;33m)\u001b[0m\u001b[1;33m\u001b[0m\u001b[0m\n\u001b[0m",
      "\u001b[1;31mNameError\u001b[0m: global name 'arg' is not defined"
     ]
    }
   ],
   "source": [
    "addthis()"
   ]
  },
  {
   "cell_type": "code",
   "execution_count": 2,
   "metadata": {
    "collapsed": false
   },
   "outputs": [
    {
     "ename": "TypeError",
     "evalue": "a float is required",
     "output_type": "error",
     "traceback": [
      "\u001b[1;31m---------------------------------------------------------------------------\u001b[0m\n\u001b[1;31mTypeError\u001b[0m                                 Traceback (most recent call last)",
      "\u001b[1;32m<ipython-input-2-3d4bccfb9bbe>\u001b[0m in \u001b[0;36m<module>\u001b[1;34m()\u001b[0m\n\u001b[1;32m----> 1\u001b[1;33m \u001b[1;33m@\u001b[0m\u001b[0maddthis\u001b[0m\u001b[1;33m\u001b[0m\u001b[0m\n\u001b[0m\u001b[0;32m      2\u001b[0m \u001b[1;32mdef\u001b[0m \u001b[0madd\u001b[0m\u001b[1;33m(\u001b[0m\u001b[0mA\u001b[0m\u001b[1;33m)\u001b[0m\u001b[1;33m:\u001b[0m\u001b[1;33m\u001b[0m\u001b[0m\n\u001b[0;32m      3\u001b[0m     \u001b[1;32mreturn\u001b[0m \u001b[0mA\u001b[0m\u001b[1;33m+\u001b[0m\u001b[0mmath\u001b[0m\u001b[1;33m.\u001b[0m\u001b[0mpi\u001b[0m\u001b[1;33m\u001b[0m\u001b[0m\n",
      "\u001b[1;32m<ipython-input-1-897468fc1f38>\u001b[0m in \u001b[0;36maddthis\u001b[1;34m(A)\u001b[0m\n\u001b[0;32m      1\u001b[0m \u001b[1;32mdef\u001b[0m \u001b[0maddthis\u001b[0m\u001b[1;33m(\u001b[0m\u001b[0mA\u001b[0m\u001b[1;33m)\u001b[0m\u001b[1;33m:\u001b[0m\u001b[1;33m\u001b[0m\u001b[0m\n\u001b[1;32m----> 2\u001b[1;33m     \u001b[1;32mreturn\u001b[0m \u001b[0mmath\u001b[0m\u001b[1;33m.\u001b[0m\u001b[0mcos\u001b[0m\u001b[1;33m(\u001b[0m\u001b[0mA\u001b[0m\u001b[1;33m)\u001b[0m\u001b[1;33m\u001b[0m\u001b[0m\n\u001b[0m",
      "\u001b[1;31mTypeError\u001b[0m: a float is required"
     ]
    }
   ],
   "source": [
    "@addthis\n",
    "def add(A):\n",
    "    return A+math.pi"
   ]
  },
  {
   "cell_type": "raw",
   "metadata": {},
   "source": [
    "A decorator is a function that accepts a function as input and returns a new function as output.\n",
    "add=addthis(add)"
   ]
  },
  {
   "cell_type": "raw",
   "metadata": {},
   "source": [
    "built-in decorators such as @staticmethod, @classmethod, and @property "
   ]
  },
  {
   "cell_type": "code",
   "execution_count": 110,
   "metadata": {
    "collapsed": false
   },
   "outputs": [],
   "source": [
    "class Log:\n",
    "    import os\n",
    "    def __init__(self):\n",
    "        __a__,__b__,__c__,__d__,__e__=os.times()\n",
    "        self.t=__e__\n",
    "    \n",
    "    ##@staticmethod ## RETURN <function __main__.showtime>\n",
    "    ##@classmethod  ## return  <bound method classobj.showtime of <class __main__.Log at 0xaa97f8c>>\n",
    "    @property  ##normal function \n",
    "    def showtime(self):\n",
    "        print(self.t)\n",
    "        \n",
    "    @classmethod   \n",
    "    ##provide directly the instance (self) not access to the member of the class\n",
    "    def diff(self,tn):\n",
    "        __a__,__b__,__c__,__d__,__e__=os.times()\n",
    "        ##print(self.t)  \n",
    "        return __e__-tn.t\n",
    "    \n",
    "    #self not recognised \n",
    "    @staticmethod\n",
    "    def diff2(tn):\n",
    "        __a__,__b__,__c__,__d__,__e__=os.times()\n",
    "        return __e__-tn.t\n",
    "    \n",
    "    @property \n",
    "    def diff3(self):\n",
    "        __a__,__b__,__c__,__d__,__e__=os.times()\n",
    "        return __e__-self.t\n"
   ]
  },
  {
   "cell_type": "code",
   "execution_count": 112,
   "metadata": {
    "collapsed": false
   },
   "outputs": [
    {
     "name": "stdout",
     "output_type": "stream",
     "text": [
      "17208734.06\n"
     ]
    },
    {
     "data": {
      "text/plain": [
       "0.0"
      ]
     },
     "execution_count": 112,
     "metadata": {},
     "output_type": "execute_result"
    }
   ],
   "source": [
    "tn=Log()\n",
    "##tn.showtime()\n",
    "tn.showtime\n",
    "tn.diff(tn)"
   ]
  },
  {
   "cell_type": "code",
   "execution_count": 113,
   "metadata": {
    "collapsed": false
   },
   "outputs": [
    {
     "data": {
      "text/plain": [
       "6.110000003129244"
      ]
     },
     "execution_count": 113,
     "metadata": {},
     "output_type": "execute_result"
    }
   ],
   "source": [
    "tn.diff2(tn)"
   ]
  },
  {
   "cell_type": "code",
   "execution_count": 123,
   "metadata": {
    "collapsed": false
   },
   "outputs": [
    {
     "data": {
      "text/plain": [
       "24.63000000268221"
      ]
     },
     "execution_count": 123,
     "metadata": {},
     "output_type": "execute_result"
    }
   ],
   "source": [
    "tn.diff3"
   ]
  },
  {
   "cell_type": "code",
   "execution_count": null,
   "metadata": {
    "collapsed": false
   },
   "outputs": [],
   "source": []
  },
  {
   "cell_type": "code",
   "execution_count": 148,
   "metadata": {
    "collapsed": false
   },
   "outputs": [],
   "source": [
    "def arguments(*args,**kwargs):\n",
    "    print(*args)\n",
    "    print(**kwargs)\n",
    "    return args"
   ]
  },
  {
   "cell_type": "code",
   "execution_count": 150,
   "metadata": {
    "collapsed": false
   },
   "outputs": [
    {
     "name": "stdout",
     "output_type": "stream",
     "text": [
      "1 2 3 4\n",
      "\n"
     ]
    },
    {
     "data": {
      "text/plain": [
       "2"
      ]
     },
     "execution_count": 150,
     "metadata": {},
     "output_type": "execute_result"
    }
   ],
   "source": [
    "a=arguments(1,2,3,4)\n",
    "a[1]"
   ]
  },
  {
   "cell_type": "code",
   "execution_count": 139,
   "metadata": {
    "collapsed": false
   },
   "outputs": [],
   "source": [
    "def arg(**kwargs):\n",
    "    print(**kwargs)"
   ]
  },
  {
   "cell_type": "raw",
   "metadata": {},
   "source": [
    "\n",
    "Variable-length argument lists are allowed in Python functions. An asterix as\n",
    "prefix to the argument name signifies a variable-length argument list. "
   ]
  },
  {
   "cell_type": "code",
   "execution_count": 152,
   "metadata": {
    "collapsed": false
   },
   "outputs": [],
   "source": [
    "def statistics(*args):\n",
    "    \"\"\"\n",
    "Compute the average, minimum and maximum of all arguments.\n",
    "Input: a variable no of arguments (must be numbers).\n",
    "Output: tuple (average, min, max).\n",
    "    \"\"\"\n",
    "    avg = 0; n = 0; # avg and n are local variables\n",
    "    for number in args: # sum up all numbers (arguments)\n",
    "        n += 1; avg += number\n",
    "        avg /= float(n)\n",
    "        min = args[0]; max = args[0]\n",
    "\n",
    "    for term in args:\n",
    "        if term < min: min = term\n",
    "        if term > max: max = term\n",
    "\n",
    "    return avg, min, max"
   ]
  },
  {
   "cell_type": "code",
   "execution_count": 153,
   "metadata": {
    "collapsed": false
   },
   "outputs": [
    {
     "data": {
      "text/plain": [
       "(1.275, 1, 5)"
      ]
     },
     "execution_count": 153,
     "metadata": {},
     "output_type": "execute_result"
    }
   ],
   "source": [
    "statistics(1,2,3,4,5)"
   ]
  },
  {
   "cell_type": "code",
   "execution_count": 10,
   "metadata": {
    "collapsed": false
   },
   "outputs": [],
   "source": [
    "from sympy import *\n",
    "init_printing()"
   ]
  },
  {
   "cell_type": "code",
   "execution_count": 11,
   "metadata": {
    "collapsed": false
   },
   "outputs": [
    {
     "data": {
      "text/plain": [
       "(x, y)"
      ]
     },
     "execution_count": 11,
     "metadata": {},
     "output_type": "execute_result"
    }
   ],
   "source": [
    "var('x y')"
   ]
  },
  {
   "cell_type": "raw",
   "metadata": {},
   "source": [
    "then copy just the theme folder (it's subfolder in css folder in downloaded theme archive), and put it in your ..\\IPython\\frontend\\html\\notebook\\static\\jquery\\css\\themes local folder. Following the screenshots we have created ..\\IPython\\frontend\\html\\notebook\\static\\jquery\\css\\themes\\redmond folder.\n",
    "In this newly created theme folder (..\\redmond) copy this file: jquery-ui.min.css [1]\n",
    "Now edit the first line in jquery-ui.min.css to match the release of the downloaded theme (current release 1.8.22):\n",
    "@import url(\"jquery-ui-1.8.21.custom.css\");\n",
    "@import url(\"jquery-ui-1.8.22.custom.css\");\n",
    "...\n",
    "Finally edit line 9 in ..\\IPython\\frontend\\html\\notebook\\templates\\page.html and set new theme for IPython Notebook:\n",
    "...\n",
    "<link rel=\"stylesheet\" href=\"{{static_url(\"jquery/css/themes/base/jquery-ui.min.css\") }}\" type=\"text/css\" />\n",
    "<link rel=\"stylesheet\" href=\"{{static_url(\"jquery/css/themes/redmond/jquery-ui.min.css\") }}\" type=\"text/css\" />\n",
    "..."
   ]
  },
  {
   "cell_type": "code",
   "execution_count": 25,
   "metadata": {
    "collapsed": false
   },
   "outputs": [
    {
     "data": {
      "text/plain": [
       "256"
      ]
     },
     "execution_count": 25,
     "metadata": {},
     "output_type": "execute_result"
    }
   ],
   "source": [
    "import os\n",
    "os.system(\"chmod uog+rwx /optd/git/pico_content/log.md\")"
   ]
  },
  {
   "cell_type": "raw",
   "metadata": {},
   "source": [
    "os.chmod\n",
    "- support only numerical modes"
   ]
  },
  {
   "cell_type": "code",
   "execution_count": 1,
   "metadata": {
    "collapsed": false
   },
   "outputs": [],
   "source": [
    "import types\n"
   ]
  },
  {
   "cell_type": "code",
   "execution_count": null,
   "metadata": {
    "collapsed": false
   },
   "outputs": [],
   "source": [
    "types.FunctionType()"
   ]
  }
 ],
 "metadata": {
  "hide_input": false,
  "kernelspec": {
   "display_name": "Python 3",
   "language": "python",
   "name": "python3"
  },
  "language_info": {
   "codemirror_mode": {
    "name": "ipython",
    "version": 3
   },
   "file_extension": ".py",
   "mimetype": "text/x-python",
   "name": "python",
   "nbconvert_exporter": "python",
   "pygments_lexer": "ipython3",
   "version": "3.4.3"
  },
  "widgets": {
   "state": {},
   "version": "1.1.0"
  }
 },
 "nbformat": 4,
 "nbformat_minor": 0
}
