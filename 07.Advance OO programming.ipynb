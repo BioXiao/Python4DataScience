{
 "metadata": {
  "name": "",
  "signature": "sha256:badda91c0ecc3c46377c9d6f97215cf447f60868744eaf78000f8774d61ba570"
 },
 "nbformat": 3,
 "nbformat_minor": 0,
 "worksheets": [
  {
   "cells": [
    {
     "cell_type": "heading",
     "level": 2,
     "metadata": {},
     "source": [
      "Object Oriented Programming"
     ]
    },
    {
     "cell_type": "markdown",
     "metadata": {},
     "source": [
      "-----------------------"
     ]
    },
    {
     "cell_type": "code",
     "collapsed": false,
     "input": [
      "##python private variable \n",
      "__name__"
     ],
     "language": "python",
     "metadata": {},
     "outputs": [
      {
       "metadata": {},
       "output_type": "pyout",
       "prompt_number": 2,
       "text": [
        "'__main__'"
       ]
      }
     ],
     "prompt_number": 2
    },
    {
     "cell_type": "code",
     "collapsed": false,
     "input": [
      "class Message():\n",
      "    def __init__(self,msg):\n",
      "        self.msg=msg\n",
      "    \n",
      "    def SayHello(self,msg):\n",
      "        if msg=='':\n",
      "            return 'Ciao %s' %self.msg\n",
      "        else:\n",
      "            return 'Ciao %s' %msg\n",
      "    \n",
      "    def Capitalise(self):\n",
      "        import string as __string\n",
      "        return __string.capitalize(self.msg)"
     ],
     "language": "python",
     "metadata": {},
     "outputs": [],
     "prompt_number": 3
    },
    {
     "cell_type": "code",
     "collapsed": false,
     "input": [
      "x=Message('seve')## instance of a new message"
     ],
     "language": "python",
     "metadata": {},
     "outputs": [],
     "prompt_number": 4
    },
    {
     "cell_type": "code",
     "collapsed": false,
     "input": [
      "x.SayHello('')"
     ],
     "language": "python",
     "metadata": {},
     "outputs": [
      {
       "metadata": {},
       "output_type": "pyout",
       "prompt_number": 5,
       "text": [
        "'Ciao seve'"
       ]
      }
     ],
     "prompt_number": 5
    },
    {
     "cell_type": "code",
     "collapsed": false,
     "input": [
      "def tag_wrap(tag):\n",
      "    def decorator(fn):\n",
      "        def inner(s):\n",
      "            return '<%s>%s' % (fn(s), tag)\n",
      "        return inner\n",
      "    return decorator\n",
      " \n",
      "@tag_wrap('b')\n",
      "@tag_wrap('em')\n",
      "def greet(name):\n",
      "    return 'Hello, %s!' % name\n",
      " \n",
      "print(greet('world'))"
     ],
     "language": "python",
     "metadata": {},
     "outputs": [
      {
       "output_type": "stream",
       "stream": "stdout",
       "text": [
        "<<Hello, world!>em>b\n"
       ]
      }
     ],
     "prompt_number": 6
    },
    {
     "cell_type": "markdown",
     "metadata": {},
     "source": [
      "------------------"
     ]
    },
    {
     "cell_type": "code",
     "collapsed": false,
     "input": [
      "## Pure Decorator means return the very same funcrtion \n",
      "\n",
      "def PrintNameFunction(f):\n",
      "    \"\"\" Print the name of the function \"\"\"\n",
      "    print(f.__name__)\n",
      "    return f"
     ],
     "language": "python",
     "metadata": {},
     "outputs": [],
     "prompt_number": 113
    },
    {
     "cell_type": "code",
     "collapsed": false,
     "input": [
      "\n",
      "def Dummy():\n",
      "    print(\"Ciao\")"
     ],
     "language": "python",
     "metadata": {},
     "outputs": [],
     "prompt_number": 114
    },
    {
     "cell_type": "code",
     "collapsed": false,
     "input": [
      "Dummy2=PrintNameFunction(Dummy)"
     ],
     "language": "python",
     "metadata": {},
     "outputs": [
      {
       "output_type": "stream",
       "stream": "stdout",
       "text": [
        "Dummy\n"
       ]
      }
     ],
     "prompt_number": 115
    },
    {
     "cell_type": "code",
     "collapsed": false,
     "input": [
      "Dummy2()"
     ],
     "language": "python",
     "metadata": {},
     "outputs": [
      {
       "output_type": "stream",
       "stream": "stdout",
       "text": [
        "Ciao\n"
       ]
      }
     ],
     "prompt_number": 116
    },
    {
     "cell_type": "code",
     "collapsed": false,
     "input": [
      "@PrintNameFunction\n",
      "def NoName():\n",
      "    pass\n"
     ],
     "language": "python",
     "metadata": {},
     "outputs": [
      {
       "output_type": "stream",
       "stream": "stdout",
       "text": [
        "NoName\n"
       ]
      }
     ],
     "prompt_number": 117
    },
    {
     "cell_type": "raw",
     "metadata": {},
     "source": [
      "@decorator # \u2777\n",
      "def function(): # \u2776\n",
      "    pass\n",
      "\n",
      "it's equivalent to\n",
      "function=decorator(function)"
     ]
    },
    {
     "cell_type": "code",
     "collapsed": false,
     "input": [
      "### the function name is pass implicitly \n",
      "\n",
      "def PrintNameFunction(f):\n",
      "    \"\"\" Print the name of the function \"\"\"\n",
      "    @functools.wraps\n",
      "    def wrapper(*args, **kwargs):\n",
      "        print(f.__name__)\n",
      "        return  wrapper\n",
      "    \n",
      "    return f"
     ],
     "language": "python",
     "metadata": {},
     "outputs": [],
     "prompt_number": 139
    },
    {
     "cell_type": "code",
     "collapsed": false,
     "input": [
      "Dummy2=PrintNameFunction(Dummy)"
     ],
     "language": "python",
     "metadata": {},
     "outputs": [],
     "prompt_number": 140
    },
    {
     "cell_type": "code",
     "collapsed": false,
     "input": [
      "Dummy2()"
     ],
     "language": "python",
     "metadata": {},
     "outputs": [
      {
       "output_type": "stream",
       "stream": "stdout",
       "text": [
        "Ciao\n"
       ]
      }
     ],
     "prompt_number": 141
    },
    {
     "cell_type": "markdown",
     "metadata": {},
     "source": [
      "------------------"
     ]
    },
    {
     "cell_type": "raw",
     "metadata": {},
     "source": [
      "The only requirement on decorators is that they can be called with a single argument. This means that decorators\n",
      "can be implemented as normal functions, or as classes with a __call__ method, or in theory, even as lambda\n",
      "functions."
     ]
    },
    {
     "cell_type": "code",
     "collapsed": false,
     "input": [
      "def mean(first, second, *rest):\n",
      "    numbers = (first, second) + rest\n",
      "    return sum(numbers) / len(numbers)"
     ],
     "language": "python",
     "metadata": {},
     "outputs": [],
     "prompt_number": 127
    },
    {
     "cell_type": "code",
     "collapsed": false,
     "input": [
      "##Ok\n",
      "mean(1,12,3,4,5)"
     ],
     "language": "python",
     "metadata": {},
     "outputs": [
      {
       "metadata": {},
       "output_type": "pyout",
       "prompt_number": 129,
       "text": [
        "5.0"
       ]
      }
     ],
     "prompt_number": 129
    },
    {
     "cell_type": "code",
     "collapsed": false,
     "input": [
      "##But \n",
      "mean(\"1\",12.5,3,4,5)"
     ],
     "language": "python",
     "metadata": {},
     "outputs": [
      {
       "ename": "TypeError",
       "evalue": "unsupported operand type(s) for +: 'int' and 'str'",
       "output_type": "pyerr",
       "traceback": [
        "\u001b[1;31m---------------------------------------------------------------------------\u001b[0m\n\u001b[1;31mTypeError\u001b[0m                                 Traceback (most recent call last)",
        "\u001b[1;32m<ipython-input-130-8c6752802467>\u001b[0m in \u001b[0;36m<module>\u001b[1;34m()\u001b[0m\n\u001b[0;32m      1\u001b[0m \u001b[1;31m##But\u001b[0m\u001b[1;33m\u001b[0m\u001b[1;33m\u001b[0m\u001b[0m\n\u001b[1;32m----> 2\u001b[1;33m \u001b[0mmean\u001b[0m\u001b[1;33m(\u001b[0m\u001b[1;34m\"1\"\u001b[0m\u001b[1;33m,\u001b[0m\u001b[1;36m12.5\u001b[0m\u001b[1;33m,\u001b[0m\u001b[1;36m3\u001b[0m\u001b[1;33m,\u001b[0m\u001b[1;36m4\u001b[0m\u001b[1;33m,\u001b[0m\u001b[1;36m5\u001b[0m\u001b[1;33m)\u001b[0m\u001b[1;33m\u001b[0m\u001b[0m\n\u001b[0m",
        "\u001b[1;32m<ipython-input-127-7a1812d0320a>\u001b[0m in \u001b[0;36mmean\u001b[1;34m(first, second, *rest)\u001b[0m\n\u001b[0;32m      1\u001b[0m \u001b[1;32mdef\u001b[0m \u001b[0mmean\u001b[0m\u001b[1;33m(\u001b[0m\u001b[0mfirst\u001b[0m\u001b[1;33m,\u001b[0m \u001b[0msecond\u001b[0m\u001b[1;33m,\u001b[0m \u001b[1;33m*\u001b[0m\u001b[0mrest\u001b[0m\u001b[1;33m)\u001b[0m\u001b[1;33m:\u001b[0m\u001b[1;33m\u001b[0m\u001b[0m\n\u001b[0;32m      2\u001b[0m     \u001b[0mnumbers\u001b[0m \u001b[1;33m=\u001b[0m \u001b[1;33m(\u001b[0m\u001b[0mfirst\u001b[0m\u001b[1;33m,\u001b[0m \u001b[0msecond\u001b[0m\u001b[1;33m)\u001b[0m \u001b[1;33m+\u001b[0m \u001b[0mrest\u001b[0m\u001b[1;33m\u001b[0m\u001b[0m\n\u001b[1;32m----> 3\u001b[1;33m     \u001b[1;32mreturn\u001b[0m \u001b[0msum\u001b[0m\u001b[1;33m(\u001b[0m\u001b[0mnumbers\u001b[0m\u001b[1;33m)\u001b[0m \u001b[1;33m/\u001b[0m \u001b[0mlen\u001b[0m\u001b[1;33m(\u001b[0m\u001b[0mnumbers\u001b[0m\u001b[1;33m)\u001b[0m\u001b[1;33m\u001b[0m\u001b[0m\n\u001b[0m",
        "\u001b[1;31mTypeError\u001b[0m: unsupported operand type(s) for +: 'int' and 'str'"
       ]
      }
     ],
     "prompt_number": 130
    },
    {
     "cell_type": "code",
     "collapsed": false,
     "input": [
      "import functools\n",
      "def float_args_and_return(function):\n",
      "    @functools.wraps\n",
      "    def wrapper(*args, **kwargs):\n",
      "        args = [float(arg) for arg in args]\n",
      "        return float(function(*args, **kwargs))\n",
      "    \n",
      "    return wrapper"
     ],
     "language": "python",
     "metadata": {},
     "outputs": [],
     "prompt_number": 137
    },
    {
     "cell_type": "raw",
     "metadata": {},
     "source": [
      "@functools.wraps decorator, which can be used to decorate a wrapper function\n",
      "inside a decorator and ensures that the wrapped function\u2019s __name__ and __doc__\n",
      "attributes hold the original function\u2019s name and docstring."
     ]
    },
    {
     "cell_type": "code",
     "collapsed": false,
     "input": [
      "@float_args_and_return\n",
      "def meanc(first, second, *rest):\n",
      "    numbers = (first, second) + rest\n",
      "    return sum(numbers) / len(numbers)"
     ],
     "language": "python",
     "metadata": {},
     "outputs": [],
     "prompt_number": 138
    },
    {
     "cell_type": "code",
     "collapsed": false,
     "input": [
      "##ok\n",
      "meanc(\"1\",12.5,3,4,5)"
     ],
     "language": "python",
     "metadata": {},
     "outputs": [
      {
       "metadata": {},
       "output_type": "pyout",
       "prompt_number": 134,
       "text": [
        "5.1"
       ]
      }
     ],
     "prompt_number": 134
    },
    {
     "cell_type": "code",
     "collapsed": false,
     "input": [
      "\n",
      "def decorator(fn):\n",
      "    def inner(n):\n",
      "        return fn(n) + 1\n",
      "    return inner\n",
      " \n",
      "@decorator\n",
      "def f(n):\n",
      "    return n + 1"
     ],
     "language": "python",
     "metadata": {},
     "outputs": [],
     "prompt_number": 7
    },
    {
     "cell_type": "code",
     "collapsed": false,
     "input": [],
     "language": "python",
     "metadata": {},
     "outputs": []
    },
    {
     "cell_type": "code",
     "collapsed": false,
     "input": [],
     "language": "python",
     "metadata": {},
     "outputs": []
    },
    {
     "cell_type": "code",
     "collapsed": false,
     "input": [
      "f(10)"
     ],
     "language": "python",
     "metadata": {},
     "outputs": [
      {
       "metadata": {},
       "output_type": "pyout",
       "prompt_number": 8,
       "text": [
        "12"
       ]
      }
     ],
     "prompt_number": 8
    },
    {
     "cell_type": "code",
     "collapsed": false,
     "input": [
      "\n",
      "def b(fn):\n",
      "    return lambda s: '<b>%s</b>' % fn(s)\n",
      " \n",
      "def em(fn):\n",
      "    return lambda s: '<em>%s</em>' % fn(s)\n",
      " \n",
      "@b\n",
      "@em\n",
      "def greet(name):\n",
      "    return 'Hello, %s!' % name"
     ],
     "language": "python",
     "metadata": {},
     "outputs": [],
     "prompt_number": 122
    },
    {
     "cell_type": "code",
     "collapsed": false,
     "input": [
      "greet(\"seve\")"
     ],
     "language": "python",
     "metadata": {},
     "outputs": [
      {
       "metadata": {},
       "output_type": "pyout",
       "prompt_number": 123,
       "text": [
        "'<b><em>Hello, seve!</em></b>'"
       ]
      }
     ],
     "prompt_number": 123
    },
    {
     "cell_type": "raw",
     "metadata": {},
     "source": [
      " The @decorator notation is simply a special syntax to call an existing function, passing the new function as an argument, and use the return value to replace the new function."
     ]
    },
    {
     "cell_type": "code",
     "collapsed": false,
     "input": [
      "\n",
      "class Kls(object):\n",
      "    no_inst = 0\n",
      " \n",
      "    def __init__(self):\n",
      "        Kls.no_inst = Kls.no_inst + 1\n",
      " \n",
      "    ##instaed of self it pass the instace of the class\n",
      "    @classmethod\n",
      "    def get_no_of_instance(cls_obj):\n",
      "        return cls_obj.no_inst\n",
      " \n",
      "ik1 = Kls()\n",
      "ik2 = Kls()\n",
      " \n",
      "print (ik1.get_no_of_instance())\n",
      "print (Kls.get_no_of_instance())"
     ],
     "language": "python",
     "metadata": {},
     "outputs": [
      {
       "output_type": "stream",
       "stream": "stdout",
       "text": [
        "2\n",
        "2\n"
       ]
      }
     ],
     "prompt_number": 3
    },
    {
     "cell_type": "raw",
     "metadata": {},
     "source": [
      "class methods. This means that when they are called the class is passed as\n",
      "their first argument (rather like self is passed for normal methods)."
     ]
    },
    {
     "cell_type": "code",
     "collapsed": false,
     "input": [
      "\n",
      "\n",
      "IND = 'ON'\n",
      " \n",
      "class Kls(object):\n",
      "    def __init__(self, data):\n",
      "        self.data = data\n",
      " \n",
      "    @staticmethod\n",
      "    def checkind():\n",
      "        return (IND == 'ON')\n",
      " \n",
      "    def do_reset(self):\n",
      "        if self.checkind():\n",
      "            print('Reset done for:', self.data)\n",
      " \n",
      "    def set_db(self):\n",
      "        if self.checkind():\n",
      "            self.db = 'New db connection'\n",
      "        print('DB connection made for: ', self.data)\n",
      " \n",
      "ik1 = Kls(12)\n",
      "ik1.do_reset()\n",
      "ik1.set_db()"
     ],
     "language": "python",
     "metadata": {},
     "outputs": [
      {
       "output_type": "stream",
       "stream": "stdout",
       "text": [
        "Reset done for: 12\n",
        "DB connection made for:  12\n"
       ]
      }
     ],
     "prompt_number": 4
    },
    {
     "cell_type": "markdown",
     "metadata": {},
     "source": [
      "Often there is some functionality that relates to the class, but does not need the class or any instance(s) to do some work. Perhaps something like setting environmental variables, changing an attribute in another class, etc. In these situation we can also use a function, however doing so also spreads the interrelated code which can cause maintenance issues later."
     ]
    },
    {
     "cell_type": "code",
     "collapsed": false,
     "input": [],
     "language": "python",
     "metadata": {},
     "outputs": []
    },
    {
     "cell_type": "raw",
     "metadata": {},
     "source": [
      "Decorators are a syntactic convenience, that allows a Python source file to say what it is going to do with the result of a function or a class statement before rather than after the statement. Decorators on function statements have been available since Python 2.4, and on class statements since Python 2.6.\n",
      "\n",
      "In this section we describe the decorator syntax and give examples of its use. In addition, we will discuss functions (and other callables) that are specifically designed for use as decorators. They are also called decorators.\n",
      "\n"
     ]
    },
    {
     "cell_type": "raw",
     "metadata": {},
     "source": [
      "Bound methods\n",
      "\n",
      "Unless you tell it not to, Python will create what is called a bound method when a function is an attribute of a class and you access it via an instance of a class. This may sound complicated but it does exactly what you want."
     ]
    },
    {
     "cell_type": "code",
     "collapsed": false,
     "input": [
      "class A(object):\n",
      "    \n",
      "    def method(*argv):\n",
      "        return argv"
     ],
     "language": "python",
     "metadata": {},
     "outputs": [],
     "prompt_number": 10
    },
    {
     "cell_type": "code",
     "collapsed": false,
     "input": [
      "a=A()\n",
      "a.method(\"zzzzzz\")[0],a.method(\"zzzzzz\")[1]"
     ],
     "language": "python",
     "metadata": {},
     "outputs": [
      {
       "metadata": {},
       "output_type": "pyout",
       "prompt_number": 18,
       "text": [
        "(<__main__.A at 0xb1f3d4c>, 'zzzzzz')"
       ]
      }
     ],
     "prompt_number": 18
    },
    {
     "cell_type": "markdown",
     "metadata": {},
     "source": [
      "*staticmethod*\n"
     ]
    },
    {
     "cell_type": "code",
     "collapsed": false,
     "input": [
      "class B(object):\n",
      "    @staticmethod\n",
      "    def method(*argv):\n",
      "        return argv"
     ],
     "language": "python",
     "metadata": {},
     "outputs": [],
     "prompt_number": 19
    },
    {
     "cell_type": "code",
     "collapsed": false,
     "input": [
      "b=B()\n",
      "b.method(\"vvvvvv\")[0] ## the __main__.B is not present"
     ],
     "language": "python",
     "metadata": {},
     "outputs": [
      {
       "metadata": {},
       "output_type": "pyout",
       "prompt_number": 24,
       "text": [
        "'vvvvvv'"
       ]
      }
     ],
     "prompt_number": 24
    },
    {
     "cell_type": "markdown",
     "metadata": {},
     "source": [
      "*classmethod*\n"
     ]
    },
    {
     "cell_type": "code",
     "collapsed": false,
     "input": [
      "class C(object):\n",
      "    @classmethod\n",
      "    def method(*argv):\n",
      "        return argv"
     ],
     "language": "python",
     "metadata": {},
     "outputs": [],
     "prompt_number": 57
    },
    {
     "cell_type": "code",
     "collapsed": false,
     "input": [
      "c=C()"
     ],
     "language": "python",
     "metadata": {},
     "outputs": [],
     "prompt_number": 58
    },
    {
     "cell_type": "code",
     "collapsed": false,
     "input": [
      "c.method(\"ccccc\")###the instance of the class is passed as an additional argument."
     ],
     "language": "python",
     "metadata": {},
     "outputs": [
      {
       "metadata": {},
       "output_type": "pyout",
       "prompt_number": 59,
       "text": [
        "(__main__.C, 'ccccc')"
       ]
      }
     ],
     "prompt_number": 59
    },
    {
     "cell_type": "code",
     "collapsed": false,
     "input": [
      "A.__dict__"
     ],
     "language": "python",
     "metadata": {},
     "outputs": [
      {
       "metadata": {},
       "output_type": "pyout",
       "prompt_number": 29,
       "text": [
        "<dictproxy {'__dict__': <attribute '__dict__' of 'A' objects>,\n",
        " '__doc__': None,\n",
        " '__module__': '__main__',\n",
        " '__weakref__': <attribute '__weakref__' of 'A' objects>,\n",
        " 'method': <function __main__.method>}>"
       ]
      }
     ],
     "prompt_number": 29
    },
    {
     "cell_type": "code",
     "collapsed": false,
     "input": [
      "C.__dict__"
     ],
     "language": "python",
     "metadata": {},
     "outputs": [
      {
       "metadata": {},
       "output_type": "pyout",
       "prompt_number": 30,
       "text": [
        "<dictproxy {'__dict__': <attribute '__dict__' of 'C' objects>,\n",
        " '__doc__': None,\n",
        " '__module__': '__main__',\n",
        " '__weakref__': <attribute '__weakref__' of 'C' objects>,\n",
        " 'method': <classmethod at 0xb262344>}>"
       ]
      }
     ],
     "prompt_number": 30
    },
    {
     "cell_type": "markdown",
     "metadata": {},
     "source": [
      "------------------------"
     ]
    },
    {
     "cell_type": "code",
     "collapsed": false,
     "input": [
      "def addthis(A):\n",
      "    return math.cos(A)"
     ],
     "language": "python",
     "metadata": {},
     "outputs": [],
     "prompt_number": 1
    },
    {
     "cell_type": "code",
     "collapsed": false,
     "input": [
      "addthis()"
     ],
     "language": "python",
     "metadata": {},
     "outputs": [
      {
       "ename": "NameError",
       "evalue": "global name 'arg' is not defined",
       "output_type": "pyerr",
       "traceback": [
        "\u001b[1;31m---------------------------------------------------------------------------\u001b[0m\n\u001b[1;31mNameError\u001b[0m                                 Traceback (most recent call last)",
        "\u001b[1;32m<ipython-input-30-12a60bae3163>\u001b[0m in \u001b[0;36m<module>\u001b[1;34m()\u001b[0m\n\u001b[1;32m----> 1\u001b[1;33m \u001b[0maddthis\u001b[0m\u001b[1;33m(\u001b[0m\u001b[1;33m)\u001b[0m\u001b[1;33m\u001b[0m\u001b[0m\n\u001b[0m",
        "\u001b[1;32m<ipython-input-29-0d5ce220f995>\u001b[0m in \u001b[0;36maddthis\u001b[1;34m()\u001b[0m\n\u001b[0;32m      1\u001b[0m \u001b[1;32mdef\u001b[0m \u001b[0maddthis\u001b[0m\u001b[1;33m(\u001b[0m\u001b[1;33m)\u001b[0m\u001b[1;33m:\u001b[0m\u001b[1;33m\u001b[0m\u001b[0m\n\u001b[1;32m----> 2\u001b[1;33m     \u001b[1;32mreturn\u001b[0m \u001b[0mmath\u001b[0m\u001b[1;33m.\u001b[0m\u001b[0mcos\u001b[0m\u001b[1;33m(\u001b[0m\u001b[0marg\u001b[0m\u001b[1;33m)\u001b[0m\u001b[1;33m\u001b[0m\u001b[0m\n\u001b[0m",
        "\u001b[1;31mNameError\u001b[0m: global name 'arg' is not defined"
       ]
      }
     ],
     "prompt_number": 30
    },
    {
     "cell_type": "code",
     "collapsed": false,
     "input": [
      "@addthis\n",
      "def add(A):\n",
      "    return A+math.pi"
     ],
     "language": "python",
     "metadata": {},
     "outputs": [
      {
       "ename": "TypeError",
       "evalue": "a float is required",
       "output_type": "pyerr",
       "traceback": [
        "\u001b[1;31m---------------------------------------------------------------------------\u001b[0m\n\u001b[1;31mTypeError\u001b[0m                                 Traceback (most recent call last)",
        "\u001b[1;32m<ipython-input-2-3d4bccfb9bbe>\u001b[0m in \u001b[0;36m<module>\u001b[1;34m()\u001b[0m\n\u001b[1;32m----> 1\u001b[1;33m \u001b[1;33m@\u001b[0m\u001b[0maddthis\u001b[0m\u001b[1;33m\u001b[0m\u001b[0m\n\u001b[0m\u001b[0;32m      2\u001b[0m \u001b[1;32mdef\u001b[0m \u001b[0madd\u001b[0m\u001b[1;33m(\u001b[0m\u001b[0mA\u001b[0m\u001b[1;33m)\u001b[0m\u001b[1;33m:\u001b[0m\u001b[1;33m\u001b[0m\u001b[0m\n\u001b[0;32m      3\u001b[0m     \u001b[1;32mreturn\u001b[0m \u001b[0mA\u001b[0m\u001b[1;33m+\u001b[0m\u001b[0mmath\u001b[0m\u001b[1;33m.\u001b[0m\u001b[0mpi\u001b[0m\u001b[1;33m\u001b[0m\u001b[0m\n",
        "\u001b[1;32m<ipython-input-1-897468fc1f38>\u001b[0m in \u001b[0;36maddthis\u001b[1;34m(A)\u001b[0m\n\u001b[0;32m      1\u001b[0m \u001b[1;32mdef\u001b[0m \u001b[0maddthis\u001b[0m\u001b[1;33m(\u001b[0m\u001b[0mA\u001b[0m\u001b[1;33m)\u001b[0m\u001b[1;33m:\u001b[0m\u001b[1;33m\u001b[0m\u001b[0m\n\u001b[1;32m----> 2\u001b[1;33m     \u001b[1;32mreturn\u001b[0m \u001b[0mmath\u001b[0m\u001b[1;33m.\u001b[0m\u001b[0mcos\u001b[0m\u001b[1;33m(\u001b[0m\u001b[0mA\u001b[0m\u001b[1;33m)\u001b[0m\u001b[1;33m\u001b[0m\u001b[0m\n\u001b[0m",
        "\u001b[1;31mTypeError\u001b[0m: a float is required"
       ]
      }
     ],
     "prompt_number": 2
    },
    {
     "cell_type": "raw",
     "metadata": {},
     "source": [
      "A decorator is a function that accepts a function as input and returns a new function as output.\n",
      "add=addthis(add)"
     ]
    },
    {
     "cell_type": "raw",
     "metadata": {},
     "source": [
      "built-in decorators such as @staticmethod, @classmethod, and @property "
     ]
    },
    {
     "cell_type": "code",
     "collapsed": false,
     "input": [
      "class Log:\n",
      "    import os\n",
      "    def __init__(self):\n",
      "        __a__,__b__,__c__,__d__,__e__=os.times()\n",
      "        self.t=__e__\n",
      "    \n",
      "    ##@staticmethod ## RETURN <function __main__.showtime>\n",
      "    ##@classmethod  ## return  <bound method classobj.showtime of <class __main__.Log at 0xaa97f8c>>\n",
      "    @property  ##normal function \n",
      "    def showtime(self):\n",
      "        print(self.t)\n",
      "        \n",
      "    @classmethod   \n",
      "    ##provide directly the instance (self) not access to the member of the class\n",
      "    def diff(self,tn):\n",
      "        __a__,__b__,__c__,__d__,__e__=os.times()\n",
      "        ##print(self.t)  \n",
      "        return __e__-tn.t\n",
      "    \n",
      "    #self not recognised \n",
      "    @staticmethod\n",
      "    def diff2(tn):\n",
      "        __a__,__b__,__c__,__d__,__e__=os.times()\n",
      "        return __e__-tn.t\n",
      "    \n",
      "    @property \n",
      "    def diff3(self):\n",
      "        __a__,__b__,__c__,__d__,__e__=os.times()\n",
      "        return __e__-self.t\n"
     ],
     "language": "python",
     "metadata": {},
     "outputs": [],
     "prompt_number": 110
    },
    {
     "cell_type": "code",
     "collapsed": false,
     "input": [
      "tn=Log()\n",
      "##tn.showtime()\n",
      "tn.showtime\n",
      "tn.diff(tn)"
     ],
     "language": "python",
     "metadata": {},
     "outputs": [
      {
       "output_type": "stream",
       "stream": "stdout",
       "text": [
        "17208734.06\n"
       ]
      },
      {
       "metadata": {},
       "output_type": "pyout",
       "prompt_number": 112,
       "text": [
        "0.0"
       ]
      }
     ],
     "prompt_number": 112
    },
    {
     "cell_type": "code",
     "collapsed": false,
     "input": [
      "tn.diff2(tn)"
     ],
     "language": "python",
     "metadata": {},
     "outputs": [
      {
       "metadata": {},
       "output_type": "pyout",
       "prompt_number": 113,
       "text": [
        "6.110000003129244"
       ]
      }
     ],
     "prompt_number": 113
    },
    {
     "cell_type": "code",
     "collapsed": false,
     "input": [
      "tn.diff3"
     ],
     "language": "python",
     "metadata": {},
     "outputs": [
      {
       "metadata": {},
       "output_type": "pyout",
       "prompt_number": 123,
       "text": [
        "24.63000000268221"
       ]
      }
     ],
     "prompt_number": 123
    },
    {
     "cell_type": "code",
     "collapsed": false,
     "input": [],
     "language": "python",
     "metadata": {},
     "outputs": []
    },
    {
     "cell_type": "code",
     "collapsed": false,
     "input": [
      "def arguments(*args,**kwargs):\n",
      "    print(*args)\n",
      "    print(**kwargs)\n",
      "    return args"
     ],
     "language": "python",
     "metadata": {},
     "outputs": [],
     "prompt_number": 148
    },
    {
     "cell_type": "code",
     "collapsed": false,
     "input": [
      "a=arguments(1,2,3,4)\n",
      "a[1]"
     ],
     "language": "python",
     "metadata": {},
     "outputs": [
      {
       "output_type": "stream",
       "stream": "stdout",
       "text": [
        "1 2 3 4\n",
        "\n"
       ]
      },
      {
       "metadata": {},
       "output_type": "pyout",
       "prompt_number": 150,
       "text": [
        "2"
       ]
      }
     ],
     "prompt_number": 150
    },
    {
     "cell_type": "code",
     "collapsed": false,
     "input": [
      "def arg(**kwargs):\n",
      "    print(**kwargs)"
     ],
     "language": "python",
     "metadata": {},
     "outputs": [],
     "prompt_number": 139
    },
    {
     "cell_type": "raw",
     "metadata": {},
     "source": [
      "\n",
      "Variable-length argument lists are allowed in Python functions. An asterix as\n",
      "prefix to the argument name signifies a variable-length argument list. "
     ]
    },
    {
     "cell_type": "code",
     "collapsed": false,
     "input": [
      "def statistics(*args):\n",
      "    \"\"\"\n",
      "Compute the average, minimum and maximum of all arguments.\n",
      "Input: a variable no of arguments (must be numbers).\n",
      "Output: tuple (average, min, max).\n",
      "    \"\"\"\n",
      "    avg = 0; n = 0; # avg and n are local variables\n",
      "    for number in args: # sum up all numbers (arguments)\n",
      "        n += 1; avg += number\n",
      "        avg /= float(n)\n",
      "        min = args[0]; max = args[0]\n",
      "\n",
      "    for term in args:\n",
      "        if term < min: min = term\n",
      "        if term > max: max = term\n",
      "\n",
      "    return avg, min, max"
     ],
     "language": "python",
     "metadata": {},
     "outputs": [],
     "prompt_number": 152
    },
    {
     "cell_type": "code",
     "collapsed": false,
     "input": [
      "statistics(1,2,3,4,5)"
     ],
     "language": "python",
     "metadata": {},
     "outputs": [
      {
       "metadata": {},
       "output_type": "pyout",
       "prompt_number": 153,
       "text": [
        "(1.275, 1, 5)"
       ]
      }
     ],
     "prompt_number": 153
    },
    {
     "cell_type": "code",
     "collapsed": false,
     "input": [
      "from sympy import *\n",
      "init_printing()"
     ],
     "language": "python",
     "metadata": {},
     "outputs": [],
     "prompt_number": 10
    },
    {
     "cell_type": "code",
     "collapsed": false,
     "input": [
      "var('x y')"
     ],
     "language": "python",
     "metadata": {},
     "outputs": [
      {
       "metadata": {},
       "output_type": "pyout",
       "prompt_number": 11,
       "text": [
        "(x, y)"
       ]
      }
     ],
     "prompt_number": 11
    },
    {
     "cell_type": "raw",
     "metadata": {},
     "source": [
      "then copy just the theme folder (it's subfolder in css folder in downloaded theme archive), and put it in your ..\\IPython\\frontend\\html\\notebook\\static\\jquery\\css\\themes local folder. Following the screenshots we have created ..\\IPython\\frontend\\html\\notebook\\static\\jquery\\css\\themes\\redmond folder.\n",
      "In this newly created theme folder (..\\redmond) copy this file: jquery-ui.min.css [1]\n",
      "Now edit the first line in jquery-ui.min.css to match the release of the downloaded theme (current release 1.8.22):\n",
      "@import url(\"jquery-ui-1.8.21.custom.css\");\n",
      "@import url(\"jquery-ui-1.8.22.custom.css\");\n",
      "...\n",
      "Finally edit line 9 in ..\\IPython\\frontend\\html\\notebook\\templates\\page.html and set new theme for IPython Notebook:\n",
      "...\n",
      "<link rel=\"stylesheet\" href=\"{{static_url(\"jquery/css/themes/base/jquery-ui.min.css\") }}\" type=\"text/css\" />\n",
      "<link rel=\"stylesheet\" href=\"{{static_url(\"jquery/css/themes/redmond/jquery-ui.min.css\") }}\" type=\"text/css\" />\n",
      "..."
     ]
    },
    {
     "cell_type": "code",
     "collapsed": false,
     "input": [
      "import os\n",
      "os.system(\"chmod uog+rwx /optd/git/pico_content/log.md\")"
     ],
     "language": "python",
     "metadata": {},
     "outputs": [
      {
       "metadata": {},
       "output_type": "pyout",
       "prompt_number": 25,
       "text": [
        "256"
       ]
      }
     ],
     "prompt_number": 25
    },
    {
     "cell_type": "raw",
     "metadata": {},
     "source": [
      "os.chmod\n",
      "- support only numerical modes"
     ]
    },
    {
     "cell_type": "code",
     "collapsed": false,
     "input": [
      "import types\n"
     ],
     "language": "python",
     "metadata": {},
     "outputs": [],
     "prompt_number": 1
    },
    {
     "cell_type": "code",
     "collapsed": false,
     "input": [
      "types.FunctionType()"
     ],
     "language": "python",
     "metadata": {},
     "outputs": []
    }
   ],
   "metadata": {}
  }
 ]
}