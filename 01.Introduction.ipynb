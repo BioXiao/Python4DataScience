{
 "cells": [
  {
   "cell_type": "markdown",
   "metadata": {},
   "source": [
    "# Data Science - PYTHON "
   ]
  },
  {
   "cell_type": "markdown",
   "metadata": {},
   "source": [
    "\n",
    "1) Computational Expertise;\n",
    "\n",
    "2) Statistical Expertise;\n",
    "\n",
    "3) Domain Exeprtise."
   ]
  },
  {
   "cell_type": "code",
   "execution_count": 24,
   "metadata": {
    "collapsed": false
   },
   "outputs": [],
   "source": [
    "### Style\n",
    "style=\"\"\"\n",
    "<html lang=\"en\">\n",
    "<style>\n",
    "p { \n",
    "  color: blue;\n",
    "  background-color: azure;\n",
    "  font-size: large;\n",
    "}\n",
    "</style>\n",
    "</html>\"\"\""
   ]
  },
  {
   "cell_type": "code",
   "execution_count": 23,
   "metadata": {
    "collapsed": false
   },
   "outputs": [
    {
     "data": {
      "text/html": [
       "\n",
       "<html lang=\"en\">\n",
       "<style>\n",
       "p { \n",
       "  color: blue;\n",
       "  background-color: azure;\n",
       "  font-size: large;\n",
       "}\n",
       "</style>\n",
       "</html>"
      ],
      "text/plain": [
       "<IPython.core.display.HTML object>"
      ]
     },
     "execution_count": 23,
     "metadata": {},
     "output_type": "execute_result"
    }
   ],
   "source": [
    "from IPython.display import HTML\n",
    "HTML(style)"
   ]
  },
  {
   "cell_type": "code",
   "execution_count": 2,
   "metadata": {
    "collapsed": false
   },
   "outputs": [
    {
     "name": "stdout",
     "output_type": "stream",
     "text": [
      "Populating the interactive namespace from numpy and matplotlib\n"
     ]
    }
   ],
   "source": [
    "\n",
    "## Run this before everything or after restarting the kernel\n",
    "## Matlab like env\n",
    "\n",
    "%pylab inline"
   ]
  },
  {
   "cell_type": "markdown",
   "metadata": {},
   "source": [
    "### The zen of Python"
   ]
  },
  {
   "cell_type": "markdown",
   "metadata": {},
   "source": [
    "<p> Guiding Principles <p>"
   ]
  },
  {
   "cell_type": "code",
   "execution_count": 1,
   "metadata": {
    "collapsed": false
   },
   "outputs": [
    {
     "name": "stdout",
     "output_type": "stream",
     "text": [
      "The Zen of Python, by Tim Peters\n",
      "\n",
      "Beautiful is better than ugly.\n",
      "Explicit is better than implicit.\n",
      "Simple is better than complex.\n",
      "Complex is better than complicated.\n",
      "Flat is better than nested.\n",
      "Sparse is better than dense.\n",
      "Readability counts.\n",
      "Special cases aren't special enough to break the rules.\n",
      "Although practicality beats purity.\n",
      "Errors should never pass silently.\n",
      "Unless explicitly silenced.\n",
      "In the face of ambiguity, refuse the temptation to guess.\n",
      "There should be one-- and preferably only one --obvious way to do it.\n",
      "Although that way may not be obvious at first unless you're Dutch.\n",
      "Now is better than never.\n",
      "Although never is often better than *right* now.\n",
      "If the implementation is hard to explain, it's a bad idea.\n",
      "If the implementation is easy to explain, it may be a good idea.\n",
      "Namespaces are one honking great idea -- let's do more of those!\n"
     ]
    }
   ],
   "source": [
    "import this"
   ]
  },
  {
   "cell_type": "markdown",
   "metadata": {},
   "source": [
    "### MAGIC FUNCTIONS - IPYTHON"
   ]
  },
  {
   "cell_type": "markdown",
   "metadata": {},
   "source": [
    "#### List of variables in memory"
   ]
  },
  {
   "cell_type": "code",
   "execution_count": 4,
   "metadata": {
    "collapsed": false
   },
   "outputs": [
    {
     "name": "stdout",
     "output_type": "stream",
     "text": [
      "Variable   Type      Data/Info\n",
      "------------------------------\n",
      "s          str       Hello world\n",
      "sys        module    <module 'sys' (built-in)>\n",
      "this       module    <module 'this' from '/usr<...>/lib/python2.7/this.pyc'>\n",
      "v          str       2.7.3 (default, Sep 26 20<...>, 16:38:10) \\n[GCC 4.7.2]\n"
     ]
    }
   ],
   "source": [
    "%whos\n"
   ]
  },
  {
   "cell_type": "code",
   "execution_count": 2,
   "metadata": {
    "collapsed": false
   },
   "outputs": [
    {
     "name": "stdout",
     "output_type": "stream",
     "text": [
      "The slowest run took 27.75 times longer than the fastest. This could mean that an intermediate result is being cached.\n",
      "10000000 loops, best of 3: 48.9 ns per loop\n",
      "1000000 loops, best of 3: 685 ns per loop\n"
     ]
    }
   ],
   "source": [
    "##\"Time required for a Python statement or expression\n",
    "##assignemt\n",
    "%timeit x=10 \n",
    "%timeit range(1000)"
   ]
  },
  {
   "cell_type": "code",
   "execution_count": 6,
   "metadata": {
    "collapsed": false
   },
   "outputs": [
    {
     "data": {
      "application/json": {
       "cell": {
        "!": "OSMagics",
        "HTML": "Other",
        "SVG": "Other",
        "bash": "Other",
        "capture": "ExecutionMagics",
        "debug": "ExecutionMagics",
        "file": "Other",
        "html": "DisplayMagics",
        "javascript": "DisplayMagics",
        "latex": "DisplayMagics",
        "perl": "Other",
        "prun": "ExecutionMagics",
        "pypy": "Other",
        "python": "Other",
        "python2": "Other",
        "python3": "Other",
        "ruby": "Other",
        "script": "ScriptMagics",
        "sh": "Other",
        "svg": "DisplayMagics",
        "sx": "OSMagics",
        "system": "OSMagics",
        "time": "ExecutionMagics",
        "timeit": "ExecutionMagics",
        "writefile": "OSMagics"
       },
       "line": {
        "alias": "OSMagics",
        "alias_magic": "BasicMagics",
        "autocall": "AutoMagics",
        "automagic": "AutoMagics",
        "autosave": "KernelMagics",
        "bookmark": "OSMagics",
        "cat": "Other",
        "cd": "OSMagics",
        "clear": "KernelMagics",
        "colors": "BasicMagics",
        "config": "ConfigMagics",
        "connect_info": "KernelMagics",
        "cp": "Other",
        "debug": "ExecutionMagics",
        "dhist": "OSMagics",
        "dirs": "OSMagics",
        "doctest_mode": "KernelMagics",
        "ed": "Other",
        "edit": "KernelMagics",
        "env": "OSMagics",
        "gui": "BasicMagics",
        "hist": "Other",
        "history": "HistoryMagics",
        "install_default_config": "DeprecatedMagics",
        "install_ext": "ExtensionMagics",
        "install_profiles": "DeprecatedMagics",
        "killbgscripts": "ScriptMagics",
        "ldir": "Other",
        "less": "KernelMagics",
        "lf": "Other",
        "lk": "Other",
        "ll": "Other",
        "load": "CodeMagics",
        "load_ext": "ExtensionMagics",
        "loadpy": "CodeMagics",
        "logoff": "LoggingMagics",
        "logon": "LoggingMagics",
        "logstart": "LoggingMagics",
        "logstate": "LoggingMagics",
        "logstop": "LoggingMagics",
        "ls": "Other",
        "lsmagic": "BasicMagics",
        "lx": "Other",
        "macro": "ExecutionMagics",
        "magic": "BasicMagics",
        "man": "KernelMagics",
        "matplotlib": "PylabMagics",
        "mkdir": "Other",
        "more": "KernelMagics",
        "mv": "Other",
        "notebook": "BasicMagics",
        "page": "BasicMagics",
        "pastebin": "CodeMagics",
        "pdb": "ExecutionMagics",
        "pdef": "NamespaceMagics",
        "pdoc": "NamespaceMagics",
        "pfile": "NamespaceMagics",
        "pinfo": "NamespaceMagics",
        "pinfo2": "NamespaceMagics",
        "popd": "OSMagics",
        "pprint": "BasicMagics",
        "precision": "BasicMagics",
        "profile": "BasicMagics",
        "prun": "ExecutionMagics",
        "psearch": "NamespaceMagics",
        "psource": "NamespaceMagics",
        "pushd": "OSMagics",
        "pwd": "OSMagics",
        "pycat": "OSMagics",
        "pylab": "PylabMagics",
        "qtconsole": "KernelMagics",
        "quickref": "BasicMagics",
        "recall": "HistoryMagics",
        "rehashx": "OSMagics",
        "reload_ext": "ExtensionMagics",
        "rep": "Other",
        "rerun": "HistoryMagics",
        "reset": "NamespaceMagics",
        "reset_selective": "NamespaceMagics",
        "rm": "Other",
        "rmdir": "Other",
        "run": "ExecutionMagics",
        "save": "CodeMagics",
        "sc": "OSMagics",
        "store": "StoreMagics",
        "sx": "OSMagics",
        "system": "OSMagics",
        "tb": "ExecutionMagics",
        "time": "ExecutionMagics",
        "timeit": "ExecutionMagics",
        "unalias": "OSMagics",
        "unload_ext": "ExtensionMagics",
        "who": "NamespaceMagics",
        "who_ls": "NamespaceMagics",
        "whos": "NamespaceMagics",
        "xdel": "NamespaceMagics",
        "xmode": "BasicMagics"
       }
      },
      "text/plain": [
       "Available line magics:\n",
       "%alias  %alias_magic  %autocall  %automagic  %autosave  %bookmark  %cat  %cd  %clear  %colors  %config  %connect_info  %cp  %debug  %dhist  %dirs  %doctest_mode  %ed  %edit  %env  %gui  %hist  %history  %install_default_config  %install_ext  %install_profiles  %killbgscripts  %ldir  %less  %lf  %lk  %ll  %load  %load_ext  %loadpy  %logoff  %logon  %logstart  %logstate  %logstop  %ls  %lsmagic  %lx  %macro  %magic  %man  %matplotlib  %mkdir  %more  %mv  %notebook  %page  %pastebin  %pdb  %pdef  %pdoc  %pfile  %pinfo  %pinfo2  %popd  %pprint  %precision  %profile  %prun  %psearch  %psource  %pushd  %pwd  %pycat  %pylab  %qtconsole  %quickref  %recall  %rehashx  %reload_ext  %rep  %rerun  %reset  %reset_selective  %rm  %rmdir  %run  %save  %sc  %store  %sx  %system  %tb  %time  %timeit  %unalias  %unload_ext  %who  %who_ls  %whos  %xdel  %xmode\n",
       "\n",
       "Available cell magics:\n",
       "%%!  %%HTML  %%SVG  %%bash  %%capture  %%debug  %%file  %%html  %%javascript  %%latex  %%perl  %%prun  %%pypy  %%python  %%python2  %%python3  %%ruby  %%script  %%sh  %%svg  %%sx  %%system  %%time  %%timeit  %%writefile\n",
       "\n",
       "Automagic is ON, % prefix IS NOT needed for line magics."
      ]
     },
     "execution_count": 6,
     "metadata": {},
     "output_type": "execute_result"
    }
   ],
   "source": [
    "%lsmagic"
   ]
  },
  {
   "cell_type": "code",
   "execution_count": 7,
   "metadata": {
    "collapsed": false
   },
   "outputs": [
    {
     "name": "stdout",
     "output_type": "stream",
     "text": [
      "Total number of aliases: 12\n"
     ]
    },
    {
     "data": {
      "text/plain": [
       "[('cat', 'cat'),\n",
       " ('cp', 'cp'),\n",
       " ('ldir', 'ls -F -o --color %l | grep /$'),\n",
       " ('lf', 'ls -F -o --color %l | grep ^-'),\n",
       " ('lk', 'ls -F -o --color %l | grep ^l'),\n",
       " ('ll', 'ls -F -o --color'),\n",
       " ('ls', 'ls -F --color'),\n",
       " ('lx', 'ls -F -o --color %l | grep ^-..x'),\n",
       " ('mkdir', 'mkdir'),\n",
       " ('mv', 'mv'),\n",
       " ('rm', 'rm'),\n",
       " ('rmdir', 'rmdir')]"
      ]
     },
     "execution_count": 7,
     "metadata": {},
     "output_type": "execute_result"
    }
   ],
   "source": [
    "#alias for the shell commands\n",
    "%alias"
   ]
  },
  {
   "cell_type": "code",
   "execution_count": 8,
   "metadata": {
    "collapsed": false
   },
   "outputs": [],
   "source": [
    "%quickref"
   ]
  },
  {
   "cell_type": "code",
   "execution_count": 10,
   "metadata": {
    "collapsed": false
   },
   "outputs": [
    {
     "name": "stdout",
     "output_type": "stream",
     "text": [
      "import this\n",
      "## Simple Hello World\n",
      "print(\"Hello world\")\n",
      "## as a string\n",
      "s='Hello world'\n",
      "print(s, type(s))\n",
      "## import single modules:\n",
      "import sys,os\n",
      "v=sys.version\n",
      "%whos\n",
      "##\"Time execution of a Python statement or expression\n",
      "##assignemt\n",
      "%timeit x=10 \n",
      "%timeit range(1000)\n",
      "%lsmagic\n",
      "#alias for the shell commands\n",
      "%alias\n",
      "%quickref\n",
      "%magic\n",
      "%hist\n"
     ]
    }
   ],
   "source": [
    "%hist"
   ]
  },
  {
   "cell_type": "code",
   "execution_count": 29,
   "metadata": {
    "collapsed": false
   },
   "outputs": [
    {
     "data": {
      "text/html": [
       "<h3>PYTHON</h3>\n",
       "\n",
       "\n",
       "<p>\n",
       "The following identifiers are used as reserved words, or\n",
       "<em>keywords</em> of the language, and cannot be used as ordinary\n",
       "identifiers.  They must be spelled exactly as written here:\n",
       "<a id='l2h-13' xml:id='l2h-13'></a>\n",
       "\n",
       "<p>\n",
       "<div class=\"verbatim\"><pre>\n",
       "and       del       from      not       while    \n",
       "as        elif      global    or        with     \n",
       "assert    else      if        pass      yield    \n",
       "break     except    import    print              \n",
       "class     exec      in        raise              \n",
       "continue  finally   is        return             \n",
       "def       for       lambda    try\n",
       "</pre></div>\n",
       "\n",
       "<p>"
      ],
      "text/plain": [
       "<IPython.core.display.HTML object>"
      ]
     },
     "metadata": {},
     "output_type": "display_data"
    }
   ],
   "source": [
    "%%html \n",
    "<h3>PYTHON</h3>\n",
    "\n",
    "\n",
    "<p>\n",
    "The following identifiers are used as reserved words, or\n",
    "<em>keywords</em> of the language, and cannot be used as ordinary\n",
    "identifiers.  They must be spelled exactly as written here:\n",
    "<a id='l2h-13' xml:id='l2h-13'></a>\n",
    "\n",
    "<p>\n",
    "<div class=\"verbatim\"><pre>\n",
    "and       del       from      not       while    \n",
    "as        elif      global    or        with     \n",
    "assert    else      if        pass      yield    \n",
    "break     except    import    print              \n",
    "class     exec      in        raise              \n",
    "continue  finally   is        return             \n",
    "def       for       lambda    try\n",
    "</pre></div>\n",
    "\n",
    "<p>\n"
   ]
  },
  {
   "cell_type": "markdown",
   "metadata": {},
   "source": [
    "### PRINT HELLO WORLD"
   ]
  },
  {
   "cell_type": "markdown",
   "metadata": {},
   "source": [
    "What is it introspection?"
   ]
  },
  {
   "cell_type": "code",
   "execution_count": 2,
   "metadata": {
    "collapsed": false
   },
   "outputs": [
    {
     "name": "stdout",
     "output_type": "stream",
     "text": [
      "Hello world\n",
      "Hello world <type 'str'>\n"
     ]
    }
   ],
   "source": [
    "## Simple Hello World\n",
    "print(\"Hello world\")\n",
    "## as a string\n",
    "s='Hello world'\n",
    "print(s, type(s))"
   ]
  },
  {
   "cell_type": "markdown",
   "metadata": {},
   "source": [
    "Python has quite useful Standard Libraries"
   ]
  },
  {
   "cell_type": "code",
   "execution_count": 3,
   "metadata": {
    "collapsed": false
   },
   "outputs": [],
   "source": [
    "## import single modules:\n",
    "import sys,os\n",
    "v=sys.version\n"
   ]
  },
  {
   "cell_type": "code",
   "execution_count": 11,
   "metadata": {
    "collapsed": false
   },
   "outputs": [
    {
     "name": "stdout",
     "output_type": "stream",
     "text": [
      "{\n",
      "  \"stdin_port\": 40407, \n",
      "  \"ip\": \"127.0.0.1\", \n",
      "  \"control_port\": 53259, \n",
      "  \"hb_port\": 46509, \n",
      "  \"signature_scheme\": \"hmac-sha256\", \n",
      "  \"key\": \"448abb70-343d-4f35-b85b-34d8403ac9a1\", \n",
      "  \"shell_port\": 60305, \n",
      "  \"transport\": \"tcp\", \n",
      "  \"iopub_port\": 38612\n",
      "}\n",
      "\n",
      "Paste the above JSON into a file, and connect with:\n",
      "    $> ipython <app> --existing <file>\n",
      "or, if you are local, you can connect with just:\n",
      "    $> ipython <app> --existing kernel-7731b637-522a-4a55-b3f3-bd6ccac681ac.json \n",
      "or even just:\n",
      "    $> ipython <app> --existing \n",
      "if this is the most recent IPython session you have started.\n"
     ]
    }
   ],
   "source": [
    "%connect_info"
   ]
  },
  {
   "cell_type": "markdown",
   "metadata": {},
   "source": [
    "### NUMERICAL TYPES"
   ]
  },
  {
   "cell_type": "code",
   "execution_count": 12,
   "metadata": {
    "collapsed": false
   },
   "outputs": [],
   "source": [
    "#int double complex\n",
    "x=10\n",
    "c=12.4\n",
    "c=1.4+3j"
   ]
  },
  {
   "cell_type": "code",
   "execution_count": 13,
   "metadata": {
    "collapsed": false
   },
   "outputs": [
    {
     "data": {
      "text/plain": [
       "complex"
      ]
     },
     "execution_count": 13,
     "metadata": {},
     "output_type": "execute_result"
    }
   ],
   "source": [
    "type(c)"
   ]
  },
  {
   "cell_type": "code",
   "execution_count": 14,
   "metadata": {
    "collapsed": false
   },
   "outputs": [
    {
     "data": {
      "text/plain": [
       "1.4"
      ]
     },
     "execution_count": 14,
     "metadata": {},
     "output_type": "execute_result"
    }
   ],
   "source": [
    "float(c.real)"
   ]
  },
  {
   "cell_type": "markdown",
   "metadata": {},
   "source": [
    "### STRINGS"
   ]
  },
  {
   "cell_type": "code",
   "execution_count": 15,
   "metadata": {
    "collapsed": false
   },
   "outputs": [
    {
     "data": {
      "text/plain": [
       "'abcdefghijklmnopqrstuvwxyzABCDEFGHIJKLMNOPQRSTUVWXYZ'"
      ]
     },
     "execution_count": 15,
     "metadata": {},
     "output_type": "execute_result"
    }
   ],
   "source": [
    "import string \n",
    "string.ascii_letters"
   ]
  },
  {
   "cell_type": "code",
   "execution_count": 16,
   "metadata": {
    "collapsed": false
   },
   "outputs": [
    {
     "data": {
      "text/plain": [
       "('mnopqrstuvwxyzABCDEFGH', 52, True)"
      ]
     },
     "execution_count": 16,
     "metadata": {},
     "output_type": "execute_result"
    }
   ],
   "source": [
    "s=string.ascii_letters\n",
    "(s[12:34],len(s),\"Z\" in s)"
   ]
  },
  {
   "cell_type": "code",
   "execution_count": 3,
   "metadata": {
    "collapsed": false
   },
   "outputs": [],
   "source": [
    "import string  \n",
    "##module contains a substantial number of constants and classes, as well as some\n",
    "##deprecated legacy functions that are also available as methods on strings."
   ]
  },
  {
   "cell_type": "code",
   "execution_count": 4,
   "metadata": {
    "collapsed": false
   },
   "outputs": [
    {
     "name": "stdout",
     "output_type": "stream",
     "text": [
      "abcdefghijklmnopqrstuvwxyzABCDEFGHIJKLMNOPQRSTUVWXYZ\n",
      "!\"#$%&'()*+,-./:;<=>?@[\\]^_`{|}~\n"
     ]
    }
   ],
   "source": [
    "##constants\n",
    "print(string.ascii_letters)\n",
    "print(string.punctuation)"
   ]
  },
  {
   "cell_type": "code",
   "execution_count": 19,
   "metadata": {
    "collapsed": false
   },
   "outputs": [
    {
     "name": "stdout",
     "output_type": "stream",
     "text": [
      " triple\n",
      "and new line \n"
     ]
    }
   ],
   "source": [
    "s1=' single quote'\n",
    "s1=\" double quote \"\n",
    "s3=\"\"\" triple\n",
    "and new line \"\"\"\n",
    "print(s3)"
   ]
  },
  {
   "cell_type": "raw",
   "metadata": {},
   "source": [
    "The raw strings, starting with r, are particularly suited in cases where backslashes\n",
    "appear frequently, e.g., in regular expressions, in LATEX source code,\n",
    "or in Windows/DOS paths. In the statement s8=\"\\\\t\" the first backslash is\n",
    "used to quote the next, i.e., preserve the meaning of the second backslash as\n",
    "the character \\."
   ]
  },
  {
   "cell_type": "code",
   "execution_count": 20,
   "metadata": {
    "collapsed": false
   },
   "outputs": [
    {
     "data": {
      "text/plain": [
       "'start \\\\, with r ?'"
      ]
     },
     "execution_count": 20,
     "metadata": {},
     "output_type": "execute_result"
    }
   ],
   "source": [
    "sr=r'start \\, with r ?'\n",
    "sr"
   ]
  },
  {
   "cell_type": "code",
   "execution_count": 21,
   "metadata": {
    "collapsed": false
   },
   "outputs": [
    {
     "name": "stdout",
     "output_type": "stream",
     "text": [
      "ABCDEFGHIJKLMNOPQRSTUVWXYZABCDEFGHIJKLMNOPQRSTUVWXYZ\\nabcdefghijklmnopqrstuvwxyzabcdefghijklmnopqrstuvwxyz\n"
     ]
    }
   ],
   "source": [
    "st=string.ascii_letters\n",
    "st[3:-3]\n",
    "stl=st.upper()+r'\\n'+st.lower()\n",
    "print(stl)"
   ]
  },
  {
   "cell_type": "code",
   "execution_count": 22,
   "metadata": {
    "collapsed": false
   },
   "outputs": [
    {
     "name": "stdout",
     "output_type": "stream",
     "text": [
      "['ABCDEFGHIJKLMNOPQRSTUVWXYZABCDEFGHIJKLMNOPQRSTUVWXYZ\\\\nabcdefghijklmnopqrstuvwxyzabcdefghijklmnopqrstuvwxyz']\n",
      "['ABCDEFGHIJKLMNOPQRSTUVWXYZABCDEFGHIJKLMNOPQRSTUVWXYZ\\\\nabcdefghijklmnopqrstuvwxyzabcdefghijklmnopqrstuvwxyz']\n"
     ]
    }
   ],
   "source": [
    "lines=string.split(stl,'\\n')\n",
    "print(lines)\n",
    "print(stl.split())"
   ]
  },
  {
   "cell_type": "code",
   "execution_count": 23,
   "metadata": {
    "collapsed": false
   },
   "outputs": [
    {
     "data": {
      "text/plain": [
       "True"
      ]
     },
     "execution_count": 23,
     "metadata": {},
     "output_type": "execute_result"
    }
   ],
   "source": [
    "##Exact string match:\n",
    "bool(stl==lines)\n",
    "bool(stl in lines)"
   ]
  },
  {
   "cell_type": "code",
   "execution_count": 24,
   "metadata": {
    "collapsed": false,
    "scrolled": true
   },
   "outputs": [
    {
     "name": "stdout",
     "output_type": "stream",
     "text": [
      "F\n",
      "G\n",
      "H\n",
      "I\n"
     ]
    }
   ],
   "source": [
    "stl=stl.replace(\"MN\",\"..\")\n",
    "for i in stl[5:9]:\n",
    "    print(stl[stl.find(i)])"
   ]
  },
  {
   "cell_type": "markdown",
   "metadata": {},
   "source": [
    "## Lists"
   ]
  },
  {
   "cell_type": "raw",
   "metadata": {},
   "source": [
    "Python lists can contain numbers, strings, and any other data structures in\n",
    "an arbitrarily nested, heterogeneous fashion.\n",
    "A positionally ordered list:"
   ]
  },
  {
   "cell_type": "code",
   "execution_count": 7,
   "metadata": {
    "collapsed": false
   },
   "outputs": [
    {
     "data": {
      "text/plain": [
       "list"
      ]
     },
     "execution_count": 7,
     "metadata": {},
     "output_type": "execute_result"
    }
   ],
   "source": [
    "L=['One','two','Three']\n",
    "type(L)"
   ]
  },
  {
   "cell_type": "code",
   "execution_count": 8,
   "metadata": {
    "collapsed": false
   },
   "outputs": [],
   "source": [
    "L.append(12)"
   ]
  },
  {
   "cell_type": "code",
   "execution_count": 9,
   "metadata": {
    "collapsed": false
   },
   "outputs": [
    {
     "data": {
      "text/plain": [
       "['One', 'two', 'Three', 12]"
      ]
     },
     "execution_count": 9,
     "metadata": {},
     "output_type": "execute_result"
    }
   ],
   "source": [
    "L\n"
   ]
  },
  {
   "cell_type": "code",
   "execution_count": 10,
   "metadata": {
    "collapsed": false
   },
   "outputs": [
    {
     "data": {
      "text/plain": [
       "12"
      ]
     },
     "execution_count": 10,
     "metadata": {},
     "output_type": "execute_result"
    }
   ],
   "source": [
    "L.pop()"
   ]
  },
  {
   "cell_type": "code",
   "execution_count": 11,
   "metadata": {
    "collapsed": false
   },
   "outputs": [],
   "source": [
    "L[2]=\"four\" ##Can be modified"
   ]
  },
  {
   "cell_type": "code",
   "execution_count": 12,
   "metadata": {
    "collapsed": false
   },
   "outputs": [
    {
     "data": {
      "text/plain": [
       "['One', 'two', 'four']"
      ]
     },
     "execution_count": 12,
     "metadata": {},
     "output_type": "execute_result"
    }
   ],
   "source": [
    "L"
   ]
  },
  {
   "cell_type": "code",
   "execution_count": 14,
   "metadata": {
    "collapsed": false
   },
   "outputs": [
    {
     "data": {
      "text/plain": [
       "int"
      ]
     },
     "execution_count": 14,
     "metadata": {},
     "output_type": "execute_result"
    }
   ],
   "source": [
    "type(L.index(\"two\")) # Return the index of an element index is fix and integer"
   ]
  },
  {
   "cell_type": "code",
   "execution_count": 15,
   "metadata": {
    "collapsed": false
   },
   "outputs": [],
   "source": [
    "#a range list [start,stop]\n",
    "xr=[2.4,3]"
   ]
  },
  {
   "cell_type": "code",
   "execution_count": 16,
   "metadata": {
    "collapsed": false
   },
   "outputs": [
    {
     "data": {
      "text/plain": [
       "False"
      ]
     },
     "execution_count": 16,
     "metadata": {},
     "output_type": "execute_result"
    }
   ],
   "source": [
    "\n",
    "\"Due\" in L  ## Return a bool\n"
   ]
  },
  {
   "cell_type": "markdown",
   "metadata": {},
   "source": [
    "----------------"
   ]
  },
  {
   "cell_type": "code",
   "execution_count": 9,
   "metadata": {
    "collapsed": false
   },
   "outputs": [
    {
     "name": "stdout",
     "output_type": "stream",
     "text": [
      "['Uno']\n"
     ]
    },
    {
     "data": {
      "text/plain": [
       "list"
      ]
     },
     "execution_count": 9,
     "metadata": {},
     "output_type": "execute_result"
    }
   ],
   "source": [
    "a=L[0].split()\n",
    "print(a)\n",
    "type(a)"
   ]
  },
  {
   "cell_type": "code",
   "execution_count": 35,
   "metadata": {
    "collapsed": false
   },
   "outputs": [
    {
     "data": {
      "text/plain": [
       "'Uno'"
      ]
     },
     "execution_count": 35,
     "metadata": {},
     "output_type": "execute_result"
    }
   ],
   "source": [
    "a[-1]"
   ]
  },
  {
   "cell_type": "markdown",
   "metadata": {},
   "source": [
    "##### XRANGE"
   ]
  },
  {
   "cell_type": "code",
   "execution_count": 36,
   "metadata": {
    "collapsed": false
   },
   "outputs": [
    {
     "data": {
      "text/plain": [
       "[0, 1, 2, 3, 4, 5, 6, 7, 8, 9]"
      ]
     },
     "execution_count": 36,
     "metadata": {},
     "output_type": "execute_result"
    }
   ],
   "source": [
    "#has its on type\n",
    "xrange(10) ### same as range(0,10)\n",
    "l=[]\n",
    "for i in xrange(10):\n",
    "    l.append(i)\n",
    "l\n",
    "###Note \n",
    "## Cannot the following assignement\n",
    "##l[12]=1 it tells is out of range"
   ]
  },
  {
   "cell_type": "code",
   "execution_count": 37,
   "metadata": {
    "collapsed": false
   },
   "outputs": [],
   "source": [
    "##it is faster range or xrange in a for loop ?"
   ]
  },
  {
   "cell_type": "code",
   "execution_count": 38,
   "metadata": {
    "collapsed": false
   },
   "outputs": [
    {
     "name": "stdout",
     "output_type": "stream",
     "text": [
      "10 loops, best of 3: 32.8 ms per loop\n"
     ]
    }
   ],
   "source": [
    "%%timeit\n",
    "for i in xrange(1000000):\n",
    "    i"
   ]
  },
  {
   "cell_type": "code",
   "execution_count": 39,
   "metadata": {
    "collapsed": false
   },
   "outputs": [
    {
     "name": "stdout",
     "output_type": "stream",
     "text": [
      "10 loops, best of 3: 59.6 ms per loop\n"
     ]
    }
   ],
   "source": [
    "%%timeit \n",
    "for i in range(0,1000000):\n",
    "    i"
   ]
  },
  {
   "cell_type": "markdown",
   "metadata": {},
   "source": [
    "### Immutable Lists = ntuple"
   ]
  },
  {
   "cell_type": "code",
   "execution_count": 7,
   "metadata": {
    "collapsed": false
   },
   "outputs": [],
   "source": [
    "ntuple=(\"uno\",\"due\",L)"
   ]
  },
  {
   "cell_type": "code",
   "execution_count": 97,
   "metadata": {
    "collapsed": false
   },
   "outputs": [],
   "source": [
    "x,y,z=ntuple ##Unpack an ntuple"
   ]
  },
  {
   "cell_type": "code",
   "execution_count": 98,
   "metadata": {
    "collapsed": false
   },
   "outputs": [
    {
     "name": "stdout",
     "output_type": "stream",
     "text": [
      "uno due ['Uno', 'Due', 'Quattro', 12]\n"
     ]
    }
   ],
   "source": [
    "print(x,y,z)"
   ]
  },
  {
   "cell_type": "markdown",
   "metadata": {},
   "source": [
    "### DICTIONARY"
   ]
  },
  {
   "cell_type": "raw",
   "metadata": {
    "collapsed": false
   },
   "source": [
    "d={}\n",
    "type(d)\n",
    "d={\"Lista\":L,\"ntupla\":ntuple}\n",
    "c=(d.keys(),d.items(),d.get)\n",
    "d[\"a\"]"
   ]
  },
  {
   "cell_type": "code",
   "execution_count": 118,
   "metadata": {
    "collapsed": false
   },
   "outputs": [],
   "source": [
    "x,y,z=c"
   ]
  },
  {
   "cell_type": "code",
   "execution_count": 5,
   "metadata": {
    "collapsed": false
   },
   "outputs": [],
   "source": [
    "data={i: randn() for i in range(10)}"
   ]
  },
  {
   "cell_type": "code",
   "execution_count": 6,
   "metadata": {
    "collapsed": false
   },
   "outputs": [
    {
     "data": {
      "text/plain": [
       "dict"
      ]
     },
     "execution_count": 6,
     "metadata": {},
     "output_type": "execute_result"
    }
   ],
   "source": [
    "type(data)"
   ]
  },
  {
   "cell_type": "code",
   "execution_count": 14,
   "metadata": {
    "collapsed": false
   },
   "outputs": [],
   "source": [
    "d={\"k1\":\"a\",\"k2\":\"b\"}"
   ]
  },
  {
   "cell_type": "code",
   "execution_count": 46,
   "metadata": {
    "collapsed": false
   },
   "outputs": [],
   "source": [
    "c=\"c\""
   ]
  },
  {
   "cell_type": "code",
   "execution_count": 16,
   "metadata": {
    "collapsed": false
   },
   "outputs": [
    {
     "data": {
      "text/plain": [
       "[('k2', 'b'), ('k1', 'a')]"
      ]
     },
     "execution_count": 16,
     "metadata": {},
     "output_type": "execute_result"
    }
   ],
   "source": [
    "d.items()"
   ]
  },
  {
   "cell_type": "raw",
   "metadata": {
    "collapsed": false
   },
   "source": [
    "print([x for x in d.])"
   ]
  },
  {
   "cell_type": "code",
   "execution_count": 61,
   "metadata": {
    "collapsed": false
   },
   "outputs": [],
   "source": [
    "#s=String\n",
    "#d=dictionary\n",
    "compare_strings_in_a_dict=lambda s,d:True if [x for x in d.itervalues()]<> s else False"
   ]
  },
  {
   "cell_type": "code",
   "execution_count": 57,
   "metadata": {
    "collapsed": false
   },
   "outputs": [
    {
     "data": {
      "text/plain": [
       "{'k1': 'a', 'k2': 'b', 'nk': 'z'}"
      ]
     },
     "execution_count": 57,
     "metadata": {},
     "output_type": "execute_result"
    }
   ],
   "source": [
    "d"
   ]
  },
  {
   "cell_type": "code",
   "execution_count": 48,
   "metadata": {
    "collapsed": false
   },
   "outputs": [
    {
     "name": "stdout",
     "output_type": "stream",
     "text": [
      "b\n",
      "a\n"
     ]
    }
   ],
   "source": [
    "for i in d.itervalues():\n",
    "    print(i)"
   ]
  },
  {
   "cell_type": "code",
   "execution_count": 63,
   "metadata": {
    "collapsed": false
   },
   "outputs": [
    {
     "data": {
      "text/plain": [
       "True"
      ]
     },
     "execution_count": 63,
     "metadata": {},
     "output_type": "execute_result"
    }
   ],
   "source": [
    "compare_strings_in_a_dict(\"c\",d)"
   ]
  },
  {
   "cell_type": "markdown",
   "metadata": {},
   "source": [
    "### FLOW CONTROL"
   ]
  },
  {
   "cell_type": "code",
   "execution_count": 71,
   "metadata": {
    "collapsed": false
   },
   "outputs": [
    {
     "name": "stdout",
     "output_type": "stream",
     "text": [
      "True III\n"
     ]
    }
   ],
   "source": [
    "if 1==2:\n",
    "    print(\"True\")\n",
    "elif False:\n",
    "    print(\"True II\")\n",
    "else:\n",
    "    print(\"True III\")"
   ]
  },
  {
   "cell_type": "code",
   "execution_count": 86,
   "metadata": {
    "collapsed": false
   },
   "outputs": [
    {
     "name": "stdout",
     "output_type": "stream",
     "text": [
      "100000 loops, best of 3: 2.43 µs per loop\n"
     ]
    }
   ],
   "source": [
    "%%timeit \n",
    "j=0\n",
    "for i in s:\n",
    "    j=j+1"
   ]
  },
  {
   "cell_type": "code",
   "execution_count": 93,
   "metadata": {
    "collapsed": false
   },
   "outputs": [
    {
     "name": "stdout",
     "output_type": "stream",
     "text": [
      "100000 loops, best of 3: 5.14 µs per loop\n"
     ]
    }
   ],
   "source": [
    "%%timeit\n",
    "i=0\n",
    "while i <= len(s):\n",
    "    i=i+1"
   ]
  },
  {
   "cell_type": "code",
   "execution_count": 138,
   "metadata": {
    "collapsed": false
   },
   "outputs": [
    {
     "name": "stdout",
     "output_type": "stream",
     "text": [
      "10000000 loops, best of 3: 71.7 ns per loop\n"
     ]
    }
   ],
   "source": [
    "###why is slower ??\n",
    "%timeit len(s)"
   ]
  },
  {
   "cell_type": "markdown",
   "metadata": {},
   "source": [
    "### Exceptions"
   ]
  },
  {
   "cell_type": "code",
   "execution_count": 1,
   "metadata": {
    "collapsed": false
   },
   "outputs": [
    {
     "ename": "ZeroDivisionError",
     "evalue": "division by zero",
     "output_type": "error",
     "traceback": [
      "\u001b[1;31m---------------------------------------------------------------------------\u001b[0m\n\u001b[1;31mZeroDivisionError\u001b[0m                         Traceback (most recent call last)",
      "\u001b[1;32m<ipython-input-1-a0641230c7a8>\u001b[0m in \u001b[0;36m<module>\u001b[1;34m()\u001b[0m\n\u001b[1;32m----> 1\u001b[1;33m \u001b[1;36m3\u001b[0m\u001b[1;33m/\u001b[0m\u001b[1;36m0\u001b[0m\u001b[1;33m\u001b[0m\u001b[0m\n\u001b[0m",
      "\u001b[1;31mZeroDivisionError\u001b[0m: division by zero"
     ]
    }
   ],
   "source": [
    "3/0\n"
   ]
  },
  {
   "cell_type": "markdown",
   "metadata": {},
   "source": [
    "### 3D Vector "
   ]
  },
  {
   "cell_type": "code",
   "execution_count": 31,
   "metadata": {
    "collapsed": false
   },
   "outputs": [],
   "source": [
    "v1=[3.0,4.0,5.0]"
   ]
  },
  {
   "cell_type": "code",
   "execution_count": 32,
   "metadata": {
    "collapsed": false
   },
   "outputs": [
    {
     "data": {
      "text/plain": [
       "list"
      ]
     },
     "execution_count": 32,
     "metadata": {},
     "output_type": "execute_result"
    }
   ],
   "source": [
    "type(v1) ##not good"
   ]
  },
  {
   "cell_type": "code",
   "execution_count": 33,
   "metadata": {
    "collapsed": false
   },
   "outputs": [
    {
     "data": {
      "text/plain": [
       "numpy.ndarray"
      ]
     },
     "execution_count": 33,
     "metadata": {},
     "output_type": "execute_result"
    }
   ],
   "source": [
    "a=array(v1)\n",
    "type(a)"
   ]
  },
  {
   "cell_type": "code",
   "execution_count": 35,
   "metadata": {
    "collapsed": false
   },
   "outputs": [
    {
     "data": {
      "text/plain": [
       "array([  3.,   7.,  12.])"
      ]
     },
     "execution_count": 35,
     "metadata": {},
     "output_type": "execute_result"
    }
   ],
   "source": [
    "a.cumsum()"
   ]
  },
  {
   "cell_type": "markdown",
   "metadata": {},
   "source": [
    "### Regular Expressions"
   ]
  },
  {
   "cell_type": "code",
   "execution_count": 4,
   "metadata": {
    "collapsed": false
   },
   "outputs": [],
   "source": [
    "import re"
   ]
  },
  {
   "cell_type": "code",
   "execution_count": 20,
   "metadata": {
    "collapsed": false
   },
   "outputs": [],
   "source": [
    "rc=re.compile(\"[0-9]+\", re.I)"
   ]
  },
  {
   "cell_type": "code",
   "execution_count": 22,
   "metadata": {
    "collapsed": false
   },
   "outputs": [],
   "source": [
    "s=re.search(\"a\",\"gold \")\n",
    "s"
   ]
  },
  {
   "cell_type": "markdown",
   "metadata": {},
   "source": [
    "### NUMPY"
   ]
  },
  {
   "cell_type": "code",
   "execution_count": 1,
   "metadata": {
    "collapsed": false
   },
   "outputs": [
    {
     "data": {
      "text/plain": [
       "dtype('int32')"
      ]
     },
     "execution_count": 1,
     "metadata": {},
     "output_type": "execute_result"
    }
   ],
   "source": [
    "import numpy as np\n",
    "a=range(5)\n",
    "b=array(a)\n",
    "b.dtype\n",
    "\n",
    "b.shape\n",
    "b=np.array(a)\n",
    "b.dtype"
   ]
  },
  {
   "cell_type": "code",
   "execution_count": 2,
   "metadata": {
    "collapsed": false
   },
   "outputs": [],
   "source": [
    "Ar=arange(24).reshape(2,3,4)"
   ]
  },
  {
   "cell_type": "code",
   "execution_count": 4,
   "metadata": {
    "collapsed": false
   },
   "outputs": [
    {
     "data": {
      "text/plain": [
       "(2, 3, 4)"
      ]
     },
     "execution_count": 4,
     "metadata": {},
     "output_type": "execute_result"
    }
   ],
   "source": [
    "Ar\n",
    "Ar.shape"
   ]
  },
  {
   "cell_type": "code",
   "execution_count": 7,
   "metadata": {
    "collapsed": false
   },
   "outputs": [
    {
     "data": {
      "text/plain": [
       "(array([ 0,  1,  2,  3,  4,  5,  6,  7,  8,  9, 10, 11, 12, 13, 14, 15, 16,\n",
       "        17, 18, 19, 20, 21, 22, 23]),\n",
       " array([ 0,  1,  2,  3,  4,  5,  6,  7,  8,  9, 10, 11, 12, 13, 14, 15, 16,\n",
       "        17, 18, 19, 20, 21, 22, 23]))"
      ]
     },
     "execution_count": 7,
     "metadata": {},
     "output_type": "execute_result"
    }
   ],
   "source": [
    "c=Ar.ravel()\n",
    "c\n",
    "d=Ar.flatten()\n",
    "d,c"
   ]
  },
  {
   "cell_type": "code",
   "execution_count": 13,
   "metadata": {
    "collapsed": false
   },
   "outputs": [
    {
     "data": {
      "text/plain": [
       "[[0, 1, 2, 3],\n",
       " [4, 5, 6, 7],\n",
       " [8, 9, 10, 11],\n",
       " [12, 13, 14, 15],\n",
       " [16, 17, 18, 19],\n",
       " [20, 21, 22, 23]]"
      ]
     },
     "execution_count": 13,
     "metadata": {},
     "output_type": "execute_result"
    }
   ],
   "source": [
    "Ar.shape=(6,4) #force a shape\n",
    "l=Ar.tolist()      #change to a list as return object to the function the array itself stay the same\n",
    "l"
   ]
  },
  {
   "cell_type": "markdown",
   "metadata": {},
   "source": [
    "###  Vectors"
   ]
  },
  {
   "cell_type": "code",
   "execution_count": 302,
   "metadata": {
    "collapsed": false
   },
   "outputs": [],
   "source": [
    "class vector3D:\n",
    "    def __init__ (self,x,y,z):\n",
    "        self.x=x\n",
    "        self.y=y\n",
    "        self.z=z\n",
    "    \n",
    "    ##def __repr__ (self):\n",
    "    ##   return (self.x,self.y,self.z)\n",
    "    \n",
    "    def norm (self):\n",
    "        return sqrt(self.x**2+self.y**2+self.z**2)\n",
    "        "
   ]
  },
  {
   "cell_type": "code",
   "execution_count": 303,
   "metadata": {
    "collapsed": false
   },
   "outputs": [],
   "source": [
    "v2=vector3D(1,3.3,3) ## new instance call the __init__ function "
   ]
  },
  {
   "cell_type": "code",
   "execution_count": 304,
   "metadata": {
    "collapsed": false
   },
   "outputs": [
    {
     "data": {
      "text/plain": [
       "(instance, 3.3, <__main__.vector3D instance at 0xc1c718c>)"
      ]
     },
     "execution_count": 304,
     "metadata": {},
     "output_type": "execute_result"
    }
   ],
   "source": [
    "type(v2),v2.y,v2"
   ]
  },
  {
   "cell_type": "code",
   "execution_count": 211,
   "metadata": {
    "collapsed": false
   },
   "outputs": [
    {
     "data": {
      "text/plain": [
       "4.5705579528105753"
      ]
     },
     "execution_count": 211,
     "metadata": {},
     "output_type": "execute_result"
    }
   ],
   "source": [
    "v2.norm()"
   ]
  },
  {
   "cell_type": "code",
   "execution_count": null,
   "metadata": {
    "collapsed": false
   },
   "outputs": [],
   "source": []
  },
  {
   "cell_type": "code",
   "execution_count": 213,
   "metadata": {
    "collapsed": false
   },
   "outputs": [],
   "source": [
    "class TextReader:\n",
    "    \"\"\"Print and number lines in a text file.\"\"\"\n",
    "    def __init__(self, file):\n",
    "        self.file = file\n",
    "        self.fh = open(file)\n",
    "        self.lineno = 0\n",
    "\n",
    "    def readline(self):\n",
    "        self.lineno = self.lineno + 1\n",
    "        line = self.fh.readline()\n",
    "        if not line:\n",
    "            return None\n",
    "        if line.endswith(\"\\n\"):\n",
    "            line = line[:-1]\n",
    "        return \"%d: %s\" % (self.lineno, line)\n",
    "\n",
    "    def __getstate__(self):\n",
    "        odict = self.__dict__.copy() # copy the dict since we change it\n",
    "        del odict['fh']              # remove filehandle entry\n",
    "        return odict\n",
    "\n",
    "    def __setstate__(self, dict):\n",
    "        fh = open(dict['file'])      # reopen file\n",
    "        count = dict['lineno']       # read from file...\n",
    "        while count:                 # until line count is restored\n",
    "            fh.readline()\n",
    "            count = count - 1\n",
    "        self.__dict__.update(dict)   # update attributes\n",
    "        self.fh = fh                 # save the file object\n"
   ]
  },
  {
   "cell_type": "code",
   "execution_count": 239,
   "metadata": {
    "collapsed": false
   },
   "outputs": [],
   "source": [
    "obj = TextReader(\"./nrand2.csv\")"
   ]
  },
  {
   "cell_type": "code",
   "execution_count": 288,
   "metadata": {
    "collapsed": false
   },
   "outputs": [
    {
     "data": {
      "text/plain": [
       "'49: 47,-0.9931478776166565,2.161983395617356,1.4642371158209773,0.9627957859357663,-0.6015309728018775,0.12960342051474955,-0.9070990063194936,-2.1405448651818766,0.19717129148389106'"
      ]
     },
     "execution_count": 288,
     "metadata": {},
     "output_type": "execute_result"
    }
   ],
   "source": [
    "obj.readline()"
   ]
  },
  {
   "cell_type": "code",
   "execution_count": 241,
   "metadata": {
    "collapsed": false
   },
   "outputs": [],
   "source": []
  },
  {
   "cell_type": "markdown",
   "metadata": {},
   "source": [
    "### Array"
   ]
  },
  {
   "cell_type": "code",
   "execution_count": 318,
   "metadata": {
    "collapsed": false
   },
   "outputs": [
    {
     "data": {
      "text/plain": [
       "array([[ 1.,  0.,  0.,  0.,  0.],\n",
       "       [ 0.,  1.,  0.,  0.,  0.],\n",
       "       [ 0.,  0.,  1.,  0.,  0.],\n",
       "       [ 0.,  0.,  0.,  1.,  0.],\n",
       "       [ 0.,  0.,  0.,  0.,  1.]])"
      ]
     },
     "execution_count": 318,
     "metadata": {},
     "output_type": "execute_result"
    }
   ],
   "source": [
    "#N dim identity array 5x5\n",
    "I=diag(ones(5))\n",
    "###special \n",
    "eye(5) "
   ]
  },
  {
   "cell_type": "code",
   "execution_count": 322,
   "metadata": {
    "collapsed": false
   },
   "outputs": [
    {
     "data": {
      "text/plain": [
       "(array([[ 1.,  1.,  1.,  1.,  1.],\n",
       "        [ 1.,  1.,  1.,  1.,  1.],\n",
       "        [ 1.,  1.,  1.,  1.,  1.],\n",
       "        [ 1.,  1.,  1.,  1.,  1.],\n",
       "        [ 1.,  1.,  1.,  1.,  1.]]), matrix([[ 1.,  1.,  1.,  1.,  1.],\n",
       "         [ 1.,  1.,  1.,  1.,  1.],\n",
       "         [ 1.,  1.,  1.,  1.,  1.],\n",
       "         [ 1.,  1.,  1.,  1.,  1.],\n",
       "         [ 1.,  1.,  1.,  1.,  1.]]))"
      ]
     },
     "execution_count": 322,
     "metadata": {},
     "output_type": "execute_result"
    }
   ],
   "source": [
    "M=ones((5,5))\n",
    "M  ###mat(M) can create a matrix type \n",
    "#### array ##"
   ]
  },
  {
   "cell_type": "code",
   "execution_count": 338,
   "metadata": {
    "collapsed": false
   },
   "outputs": [
    {
     "data": {
      "text/plain": [
       "0.0"
      ]
     },
     "execution_count": 338,
     "metadata": {},
     "output_type": "execute_result"
    }
   ],
   "source": [
    "A=(arange(25)+1).reshape(5,5)\n",
    "det(A) ##singular"
   ]
  },
  {
   "cell_type": "raw",
   "metadata": {},
   "source": [
    "arange\n",
    "arange(l,u,s) produces a set of points spaced by s between l, a lower bound (inclusive) and u, an upper\n",
    "bound (exclusive). arange can be used with a single parameter, so that arange(n) is equivalent to\n",
    "arange(0,n,1). Note that arange will return integer data type if all inputs are integer."
   ]
  },
  {
   "cell_type": "code",
   "execution_count": 334,
   "metadata": {
    "collapsed": false
   },
   "outputs": [
    {
     "data": {
      "text/plain": [
       "(array([[2],\n",
       "        [3]]), array([[0, 1, 2]]))"
      ]
     },
     "execution_count": 334,
     "metadata": {},
     "output_type": "execute_result"
    }
   ],
   "source": [
    "ix_([2,3],[0,1,2]) ####?????"
   ]
  },
  {
   "cell_type": "code",
   "execution_count": 352,
   "metadata": {
    "collapsed": false
   },
   "outputs": [],
   "source": [
    "M=array([1+arange(5),2*arange(5),6+arange(5),3*arange(5),arange(5)])"
   ]
  },
  {
   "cell_type": "code",
   "execution_count": 353,
   "metadata": {
    "collapsed": false
   },
   "outputs": [
    {
     "data": {
      "text/plain": [
       "0.0"
      ]
     },
     "execution_count": 353,
     "metadata": {},
     "output_type": "execute_result"
    }
   ],
   "source": [
    "det(M)"
   ]
  },
  {
   "cell_type": "markdown",
   "metadata": {},
   "source": [
    "<h3>Integrate a gaussian from 0 to 1 and compare to the error function.</h3><br>\n",
    "-lambda for inline (anonymous function)"
   ]
  },
  {
   "cell_type": "code",
   "execution_count": 17,
   "metadata": {
    "collapsed": false
   },
   "outputs": [],
   "source": [
    "from scipy import integrate\n",
    "from scipy.special import erf"
   ]
  },
  {
   "cell_type": "code",
   "execution_count": 18,
   "metadata": {
    "collapsed": false
   },
   "outputs": [],
   "source": [
    "gaussian = lambda x: 1/np.sqrt(np.pi) * np.exp(-x**2)"
   ]
  },
  {
   "cell_type": "code",
   "execution_count": 19,
   "metadata": {
    "collapsed": false
   },
   "outputs": [],
   "source": [
    "x=linspace(0,1,100)\n",
    "y=gaussian(x)"
   ]
  },
  {
   "cell_type": "code",
   "execution_count": 20,
   "metadata": {
    "collapsed": false
   },
   "outputs": [],
   "source": [
    "result,err = integrate.quad(gaussian, 0, 1)"
   ]
  },
  {
   "cell_type": "code",
   "execution_count": 21,
   "metadata": {
    "collapsed": false
   },
   "outputs": [
    {
     "data": {
      "text/latex": [
       "0.421350396475$ \\pm $4.67792911601e-15"
      ],
      "text/plain": [
       "<IPython.core.display.Latex at 0xa3978ac>"
      ]
     },
     "execution_count": 21,
     "metadata": {},
     "output_type": "execute_result"
    }
   ],
   "source": [
    "from IPython.display import Latex\n",
    "Latex(str(result)+\"$ \\pm $\"+str(err))"
   ]
  },
  {
   "cell_type": "code",
   "execution_count": 22,
   "metadata": {
    "collapsed": false
   },
   "outputs": [
    {
     "name": "stdout",
     "output_type": "stream",
     "text": [
      "\n",
      " type: <class 'matplotlib.lines.Line2D'> Line2D(_line0)\n"
     ]
    },
    {
     "data": {
      "image/svg+xml": [
       "<?xml version=\"1.0\" encoding=\"utf-8\" standalone=\"no\"?>\n",
       "<!DOCTYPE svg PUBLIC \"-//W3C//DTD SVG 1.1//EN\"\n",
       "  \"http://www.w3.org/Graphics/SVG/1.1/DTD/svg11.dtd\">\n",
       "<!-- Created with matplotlib (http://matplotlib.sourceforge.net/) -->\n",
       "<svg height=\"302pt\" version=\"1.1\" viewBox=\"0 0 386 302\" width=\"386pt\" xmlns=\"http://www.w3.org/2000/svg\" xmlns:xlink=\"http://www.w3.org/1999/xlink\">\n",
       " <defs>\n",
       "  <style type=\"text/css\">\n",
       "*{stroke-linecap:square;stroke-linejoin:round;}\n",
       "  </style>\n",
       " </defs>\n",
       " <g id=\"figure_1\">\n",
       "  <g id=\"patch_1\">\n",
       "   <path d=\"\n",
       "M-1.44329e-15 302.015\n",
       "L386.815 302.015\n",
       "L386.815 0\n",
       "L-1.44329e-15 0\n",
       "z\n",
       "\" style=\"fill:none;\"/>\n",
       "  </g>\n",
       "  <g id=\"axes_1\">\n",
       "   <g id=\"patch_2\">\n",
       "    <path d=\"\n",
       "M36.3306 281.738\n",
       "L371.131 281.738\n",
       "L371.131 11.7384\n",
       "L36.3306 11.7384\n",
       "z\n",
       "\" style=\"fill:#ffffff;\"/>\n",
       "   </g>\n",
       "   <g id=\"line2d_1\">\n",
       "    <path clip-path=\"url(#p4b99562be9)\" d=\"\n",
       "M36.3306 35.9105\n",
       "L39.7124 35.9493\n",
       "L43.0943 36.0659\n",
       "L46.4761 36.26\n",
       "L49.8579 36.5317\n",
       "L53.2397 36.8806\n",
       "L56.6215 37.3067\n",
       "L60.0034 37.8097\n",
       "L63.3852 38.3892\n",
       "L66.767 39.0448\n",
       "L70.1488 39.7763\n",
       "L73.5306 40.5831\n",
       "L76.9124 41.4648\n",
       "L80.2943 42.4208\n",
       "L83.6761 43.4506\n",
       "L87.0579 44.5535\n",
       "L90.4397 45.7288\n",
       "L93.8215 46.9759\n",
       "L97.2034 48.294\n",
       "L100.585 49.6823\n",
       "L103.967 51.14\n",
       "L107.349 52.6662\n",
       "L110.731 54.26\n",
       "L114.112 55.9204\n",
       "L117.494 57.6466\n",
       "L120.876 59.4374\n",
       "L124.258 61.2918\n",
       "L127.64 63.2087\n",
       "L131.022 65.187\n",
       "L134.403 67.2256\n",
       "L137.785 69.3233\n",
       "L141.167 71.4789\n",
       "L144.549 73.691\n",
       "L147.931 75.9586\n",
       "L151.312 78.2802\n",
       "L154.694 80.6546\n",
       "L158.076 83.0805\n",
       "L161.458 85.5564\n",
       "L164.84 88.081\n",
       "L168.222 90.653\n",
       "L171.603 93.2708\n",
       "L174.985 95.9331\n",
       "L178.367 98.6383\n",
       "L181.749 101.385\n",
       "L185.131 104.172\n",
       "L188.512 106.998\n",
       "L191.894 109.86\n",
       "L195.276 112.758\n",
       "L198.658 115.69\n",
       "L202.04 118.655\n",
       "L205.422 121.651\n",
       "L208.803 124.676\n",
       "L212.185 127.73\n",
       "L215.567 130.809\n",
       "L218.949 133.914\n",
       "L222.331 137.042\n",
       "L225.712 140.192\n",
       "L229.094 143.362\n",
       "L232.476 146.551\n",
       "L235.858 149.757\n",
       "L239.24 152.979\n",
       "L242.622 156.215\n",
       "L246.003 159.464\n",
       "L249.385 162.725\n",
       "L252.767 165.995\n",
       "L256.149 169.273\n",
       "L259.531 172.559\n",
       "L262.912 175.85\n",
       "L266.294 179.145\n",
       "L269.676 182.443\n",
       "L273.058 185.743\n",
       "L276.44 189.042\n",
       "L279.822 192.34\n",
       "L283.203 195.636\n",
       "L286.585 198.927\n",
       "L289.967 202.213\n",
       "L293.349 205.493\n",
       "L296.731 208.765\n",
       "L300.112 212.028\n",
       "L303.494 215.281\n",
       "L306.876 218.523\n",
       "L310.258 221.753\n",
       "L313.64 224.969\n",
       "L317.022 228.17\n",
       "L320.403 231.356\n",
       "L323.785 234.525\n",
       "L327.167 237.677\n",
       "L330.549 240.81\n",
       "L333.931 243.923\n",
       "L337.312 247.016\n",
       "L340.694 250.087\n",
       "L344.076 253.137\n",
       "L347.458 256.163\n",
       "L350.84 259.166\n",
       "L354.222 262.144\n",
       "L357.603 265.096\n",
       "L360.985 268.023\n",
       "L364.367 270.923\n",
       "L367.749 273.795\n",
       "L371.131 276.64\" style=\"fill:none;stroke:#ff0000;\"/>\n",
       "   </g>\n",
       "   <g id=\"matplotlib.axis_1\">\n",
       "    <g id=\"xtick_1\">\n",
       "     <g id=\"line2d_2\">\n",
       "      <defs>\n",
       "       <path d=\"\n",
       "M0 0\n",
       "L0 -4\" id=\"m0012dd4eef\" style=\"stroke:#000000;stroke-linecap:butt;stroke-width:0.5;\"/>\n",
       "      </defs>\n",
       "      <g>\n",
       "       <use style=\"stroke:#000000;stroke-linecap:butt;stroke-width:0.5;\" x=\"36.330625\" xlink:href=\"#m0012dd4eef\" y=\"281.7384375\"/>\n",
       "      </g>\n",
       "     </g>\n",
       "     <g id=\"line2d_3\">\n",
       "      <defs>\n",
       "       <path d=\"\n",
       "M0 0\n",
       "L0 4\" id=\"m476344969c\" style=\"stroke:#000000;stroke-linecap:butt;stroke-width:0.5;\"/>\n",
       "      </defs>\n",
       "      <g>\n",
       "       <use style=\"stroke:#000000;stroke-linecap:butt;stroke-width:0.5;\" x=\"36.330625\" xlink:href=\"#m476344969c\" y=\"11.7384375\"/>\n",
       "      </g>\n",
       "     </g>\n",
       "     <g id=\"text_1\">\n",
       "      <!-- 0.0 -->\n",
       "      <defs>\n",
       "       <path d=\"\n",
       "M31.7812 66.4062\n",
       "Q24.1719 66.4062 20.3281 58.9062\n",
       "Q16.5 51.4219 16.5 36.375\n",
       "Q16.5 21.3906 20.3281 13.8906\n",
       "Q24.1719 6.39062 31.7812 6.39062\n",
       "Q39.4531 6.39062 43.2812 13.8906\n",
       "Q47.125 21.3906 47.125 36.375\n",
       "Q47.125 51.4219 43.2812 58.9062\n",
       "Q39.4531 66.4062 31.7812 66.4062\n",
       "M31.7812 74.2188\n",
       "Q44.0469 74.2188 50.5156 64.5156\n",
       "Q56.9844 54.8281 56.9844 36.375\n",
       "Q56.9844 17.9688 50.5156 8.26562\n",
       "Q44.0469 -1.42188 31.7812 -1.42188\n",
       "Q19.5312 -1.42188 13.0625 8.26562\n",
       "Q6.59375 17.9688 6.59375 36.375\n",
       "Q6.59375 54.8281 13.0625 64.5156\n",
       "Q19.5312 74.2188 31.7812 74.2188\" id=\"DejaVuSans-30\"/>\n",
       "       <path d=\"\n",
       "M10.6875 12.4062\n",
       "L21 12.4062\n",
       "L21 0\n",
       "L10.6875 0\n",
       "z\n",
       "\" id=\"DejaVuSans-2e\"/>\n",
       "      </defs>\n",
       "      <g transform=\"translate(27.5828125 294.6446875)scale(0.12 -0.12)\">\n",
       "       <use xlink:href=\"#DejaVuSans-30\"/>\n",
       "       <use x=\"63.623046875\" xlink:href=\"#DejaVuSans-2e\"/>\n",
       "       <use x=\"95.41015625\" xlink:href=\"#DejaVuSans-30\"/>\n",
       "      </g>\n",
       "     </g>\n",
       "    </g>\n",
       "    <g id=\"xtick_2\">\n",
       "     <g id=\"line2d_4\">\n",
       "      <g>\n",
       "       <use style=\"stroke:#000000;stroke-linecap:butt;stroke-width:0.5;\" x=\"103.290625\" xlink:href=\"#m0012dd4eef\" y=\"281.7384375\"/>\n",
       "      </g>\n",
       "     </g>\n",
       "     <g id=\"line2d_5\">\n",
       "      <g>\n",
       "       <use style=\"stroke:#000000;stroke-linecap:butt;stroke-width:0.5;\" x=\"103.290625\" xlink:href=\"#m476344969c\" y=\"11.7384375\"/>\n",
       "      </g>\n",
       "     </g>\n",
       "     <g id=\"text_2\">\n",
       "      <!-- 0.2 -->\n",
       "      <defs>\n",
       "       <path d=\"\n",
       "M19.1875 8.29688\n",
       "L53.6094 8.29688\n",
       "L53.6094 0\n",
       "L7.32812 0\n",
       "L7.32812 8.29688\n",
       "Q12.9375 14.1094 22.625 23.8906\n",
       "Q32.3281 33.6875 34.8125 36.5312\n",
       "Q39.5469 41.8438 41.4219 45.5312\n",
       "Q43.3125 49.2188 43.3125 52.7812\n",
       "Q43.3125 58.5938 39.2344 62.25\n",
       "Q35.1562 65.9219 28.6094 65.9219\n",
       "Q23.9688 65.9219 18.8125 64.3125\n",
       "Q13.6719 62.7031 7.8125 59.4219\n",
       "L7.8125 69.3906\n",
       "Q13.7656 71.7812 18.9375 73\n",
       "Q24.125 74.2188 28.4219 74.2188\n",
       "Q39.75 74.2188 46.4844 68.5469\n",
       "Q53.2188 62.8906 53.2188 53.4219\n",
       "Q53.2188 48.9219 51.5312 44.8906\n",
       "Q49.8594 40.875 45.4062 35.4062\n",
       "Q44.1875 33.9844 37.6406 27.2188\n",
       "Q31.1094 20.4531 19.1875 8.29688\" id=\"DejaVuSans-32\"/>\n",
       "      </defs>\n",
       "      <g transform=\"translate(94.7453125 294.6446875)scale(0.12 -0.12)\">\n",
       "       <use xlink:href=\"#DejaVuSans-30\"/>\n",
       "       <use x=\"63.623046875\" xlink:href=\"#DejaVuSans-2e\"/>\n",
       "       <use x=\"95.41015625\" xlink:href=\"#DejaVuSans-32\"/>\n",
       "      </g>\n",
       "     </g>\n",
       "    </g>\n",
       "    <g id=\"xtick_3\">\n",
       "     <g id=\"line2d_6\">\n",
       "      <g>\n",
       "       <use style=\"stroke:#000000;stroke-linecap:butt;stroke-width:0.5;\" x=\"170.250625\" xlink:href=\"#m0012dd4eef\" y=\"281.7384375\"/>\n",
       "      </g>\n",
       "     </g>\n",
       "     <g id=\"line2d_7\">\n",
       "      <g>\n",
       "       <use style=\"stroke:#000000;stroke-linecap:butt;stroke-width:0.5;\" x=\"170.250625\" xlink:href=\"#m476344969c\" y=\"11.7384375\"/>\n",
       "      </g>\n",
       "     </g>\n",
       "     <g id=\"text_3\">\n",
       "      <!-- 0.4 -->\n",
       "      <defs>\n",
       "       <path d=\"\n",
       "M37.7969 64.3125\n",
       "L12.8906 25.3906\n",
       "L37.7969 25.3906\n",
       "z\n",
       "\n",
       "M35.2031 72.9062\n",
       "L47.6094 72.9062\n",
       "L47.6094 25.3906\n",
       "L58.0156 25.3906\n",
       "L58.0156 17.1875\n",
       "L47.6094 17.1875\n",
       "L47.6094 0\n",
       "L37.7969 0\n",
       "L37.7969 17.1875\n",
       "L4.89062 17.1875\n",
       "L4.89062 26.7031\n",
       "z\n",
       "\" id=\"DejaVuSans-34\"/>\n",
       "      </defs>\n",
       "      <g transform=\"translate(161.4409375 294.6446875)scale(0.12 -0.12)\">\n",
       "       <use xlink:href=\"#DejaVuSans-30\"/>\n",
       "       <use x=\"63.623046875\" xlink:href=\"#DejaVuSans-2e\"/>\n",
       "       <use x=\"95.41015625\" xlink:href=\"#DejaVuSans-34\"/>\n",
       "      </g>\n",
       "     </g>\n",
       "    </g>\n",
       "    <g id=\"xtick_4\">\n",
       "     <g id=\"line2d_8\">\n",
       "      <g>\n",
       "       <use style=\"stroke:#000000;stroke-linecap:butt;stroke-width:0.5;\" x=\"237.210625\" xlink:href=\"#m0012dd4eef\" y=\"281.7384375\"/>\n",
       "      </g>\n",
       "     </g>\n",
       "     <g id=\"line2d_9\">\n",
       "      <g>\n",
       "       <use style=\"stroke:#000000;stroke-linecap:butt;stroke-width:0.5;\" x=\"237.210625\" xlink:href=\"#m476344969c\" y=\"11.7384375\"/>\n",
       "      </g>\n",
       "     </g>\n",
       "     <g id=\"text_4\">\n",
       "      <!-- 0.6 -->\n",
       "      <defs>\n",
       "       <path d=\"\n",
       "M33.0156 40.375\n",
       "Q26.375 40.375 22.4844 35.8281\n",
       "Q18.6094 31.2969 18.6094 23.3906\n",
       "Q18.6094 15.5312 22.4844 10.9531\n",
       "Q26.375 6.39062 33.0156 6.39062\n",
       "Q39.6562 6.39062 43.5312 10.9531\n",
       "Q47.4062 15.5312 47.4062 23.3906\n",
       "Q47.4062 31.2969 43.5312 35.8281\n",
       "Q39.6562 40.375 33.0156 40.375\n",
       "M52.5938 71.2969\n",
       "L52.5938 62.3125\n",
       "Q48.875 64.0625 45.0938 64.9844\n",
       "Q41.3125 65.9219 37.5938 65.9219\n",
       "Q27.8281 65.9219 22.6719 59.3281\n",
       "Q17.5312 52.7344 16.7969 39.4062\n",
       "Q19.6719 43.6562 24.0156 45.9219\n",
       "Q28.375 48.1875 33.5938 48.1875\n",
       "Q44.5781 48.1875 50.9531 41.5156\n",
       "Q57.3281 34.8594 57.3281 23.3906\n",
       "Q57.3281 12.1562 50.6875 5.35938\n",
       "Q44.0469 -1.42188 33.0156 -1.42188\n",
       "Q20.3594 -1.42188 13.6719 8.26562\n",
       "Q6.98438 17.9688 6.98438 36.375\n",
       "Q6.98438 53.6562 15.1875 63.9375\n",
       "Q23.3906 74.2188 37.2031 74.2188\n",
       "Q40.9219 74.2188 44.7031 73.4844\n",
       "Q48.4844 72.75 52.5938 71.2969\" id=\"DejaVuSans-36\"/>\n",
       "      </defs>\n",
       "      <g transform=\"translate(228.4421875 294.6446875)scale(0.12 -0.12)\">\n",
       "       <use xlink:href=\"#DejaVuSans-30\"/>\n",
       "       <use x=\"63.623046875\" xlink:href=\"#DejaVuSans-2e\"/>\n",
       "       <use x=\"95.41015625\" xlink:href=\"#DejaVuSans-36\"/>\n",
       "      </g>\n",
       "     </g>\n",
       "    </g>\n",
       "    <g id=\"xtick_5\">\n",
       "     <g id=\"line2d_10\">\n",
       "      <g>\n",
       "       <use style=\"stroke:#000000;stroke-linecap:butt;stroke-width:0.5;\" x=\"304.170625\" xlink:href=\"#m0012dd4eef\" y=\"281.7384375\"/>\n",
       "      </g>\n",
       "     </g>\n",
       "     <g id=\"line2d_11\">\n",
       "      <g>\n",
       "       <use style=\"stroke:#000000;stroke-linecap:butt;stroke-width:0.5;\" x=\"304.170625\" xlink:href=\"#m476344969c\" y=\"11.7384375\"/>\n",
       "      </g>\n",
       "     </g>\n",
       "     <g id=\"text_5\">\n",
       "      <!-- 0.8 -->\n",
       "      <defs>\n",
       "       <path d=\"\n",
       "M31.7812 34.625\n",
       "Q24.75 34.625 20.7188 30.8594\n",
       "Q16.7031 27.0938 16.7031 20.5156\n",
       "Q16.7031 13.9219 20.7188 10.1562\n",
       "Q24.75 6.39062 31.7812 6.39062\n",
       "Q38.8125 6.39062 42.8594 10.1719\n",
       "Q46.9219 13.9688 46.9219 20.5156\n",
       "Q46.9219 27.0938 42.8906 30.8594\n",
       "Q38.875 34.625 31.7812 34.625\n",
       "M21.9219 38.8125\n",
       "Q15.5781 40.375 12.0312 44.7188\n",
       "Q8.5 49.0781 8.5 55.3281\n",
       "Q8.5 64.0625 14.7188 69.1406\n",
       "Q20.9531 74.2188 31.7812 74.2188\n",
       "Q42.6719 74.2188 48.875 69.1406\n",
       "Q55.0781 64.0625 55.0781 55.3281\n",
       "Q55.0781 49.0781 51.5312 44.7188\n",
       "Q48 40.375 41.7031 38.8125\n",
       "Q48.8281 37.1562 52.7969 32.3125\n",
       "Q56.7812 27.4844 56.7812 20.5156\n",
       "Q56.7812 9.90625 50.3125 4.23438\n",
       "Q43.8438 -1.42188 31.7812 -1.42188\n",
       "Q19.7344 -1.42188 13.25 4.23438\n",
       "Q6.78125 9.90625 6.78125 20.5156\n",
       "Q6.78125 27.4844 10.7812 32.3125\n",
       "Q14.7969 37.1562 21.9219 38.8125\n",
       "M18.3125 54.3906\n",
       "Q18.3125 48.7344 21.8438 45.5625\n",
       "Q25.3906 42.3906 31.7812 42.3906\n",
       "Q38.1406 42.3906 41.7188 45.5625\n",
       "Q45.3125 48.7344 45.3125 54.3906\n",
       "Q45.3125 60.0625 41.7188 63.2344\n",
       "Q38.1406 66.4062 31.7812 66.4062\n",
       "Q25.3906 66.4062 21.8438 63.2344\n",
       "Q18.3125 60.0625 18.3125 54.3906\" id=\"DejaVuSans-38\"/>\n",
       "      </defs>\n",
       "      <g transform=\"translate(295.435 294.6446875)scale(0.12 -0.12)\">\n",
       "       <use xlink:href=\"#DejaVuSans-30\"/>\n",
       "       <use x=\"63.623046875\" xlink:href=\"#DejaVuSans-2e\"/>\n",
       "       <use x=\"95.41015625\" xlink:href=\"#DejaVuSans-38\"/>\n",
       "      </g>\n",
       "     </g>\n",
       "    </g>\n",
       "    <g id=\"xtick_6\">\n",
       "     <g id=\"line2d_12\">\n",
       "      <g>\n",
       "       <use style=\"stroke:#000000;stroke-linecap:butt;stroke-width:0.5;\" x=\"371.130625\" xlink:href=\"#m0012dd4eef\" y=\"281.7384375\"/>\n",
       "      </g>\n",
       "     </g>\n",
       "     <g id=\"line2d_13\">\n",
       "      <g>\n",
       "       <use style=\"stroke:#000000;stroke-linecap:butt;stroke-width:0.5;\" x=\"371.130625\" xlink:href=\"#m476344969c\" y=\"11.7384375\"/>\n",
       "      </g>\n",
       "     </g>\n",
       "     <g id=\"text_6\">\n",
       "      <!-- 1.0 -->\n",
       "      <defs>\n",
       "       <path d=\"\n",
       "M12.4062 8.29688\n",
       "L28.5156 8.29688\n",
       "L28.5156 63.9219\n",
       "L10.9844 60.4062\n",
       "L10.9844 69.3906\n",
       "L28.4219 72.9062\n",
       "L38.2812 72.9062\n",
       "L38.2812 8.29688\n",
       "L54.3906 8.29688\n",
       "L54.3906 0\n",
       "L12.4062 0\n",
       "z\n",
       "\" id=\"DejaVuSans-31\"/>\n",
       "      </defs>\n",
       "      <g transform=\"translate(362.64625 294.6446875)scale(0.12 -0.12)\">\n",
       "       <use xlink:href=\"#DejaVuSans-31\"/>\n",
       "       <use x=\"63.623046875\" xlink:href=\"#DejaVuSans-2e\"/>\n",
       "       <use x=\"95.41015625\" xlink:href=\"#DejaVuSans-30\"/>\n",
       "      </g>\n",
       "     </g>\n",
       "    </g>\n",
       "   </g>\n",
       "   <g id=\"matplotlib.axis_2\">\n",
       "    <g id=\"ytick_1\">\n",
       "     <g id=\"line2d_14\">\n",
       "      <defs>\n",
       "       <path d=\"\n",
       "M0 0\n",
       "L4 0\" id=\"me8a85f7bf6\" style=\"stroke:#000000;stroke-linecap:butt;stroke-width:0.5;\"/>\n",
       "      </defs>\n",
       "      <g>\n",
       "       <use style=\"stroke:#000000;stroke-linecap:butt;stroke-width:0.5;\" x=\"36.330625\" xlink:href=\"#me8a85f7bf6\" y=\"281.7384375\"/>\n",
       "      </g>\n",
       "     </g>\n",
       "     <g id=\"line2d_15\">\n",
       "      <defs>\n",
       "       <path d=\"\n",
       "M0 0\n",
       "L-4 0\" id=\"m1a32005dea\" style=\"stroke:#000000;stroke-linecap:butt;stroke-width:0.5;\"/>\n",
       "      </defs>\n",
       "      <g>\n",
       "       <use style=\"stroke:#000000;stroke-linecap:butt;stroke-width:0.5;\" x=\"371.130625\" xlink:href=\"#m1a32005dea\" y=\"281.7384375\"/>\n",
       "      </g>\n",
       "     </g>\n",
       "     <g id=\"text_7\">\n",
       "      <!-- 0.20 -->\n",
       "      <g transform=\"translate(7.2 286.10625)scale(0.12 -0.12)\">\n",
       "       <use xlink:href=\"#DejaVuSans-30\"/>\n",
       "       <use x=\"63.623046875\" xlink:href=\"#DejaVuSans-2e\"/>\n",
       "       <use x=\"95.41015625\" xlink:href=\"#DejaVuSans-32\"/>\n",
       "       <use x=\"159.033203125\" xlink:href=\"#DejaVuSans-30\"/>\n",
       "      </g>\n",
       "     </g>\n",
       "    </g>\n",
       "    <g id=\"ytick_2\">\n",
       "     <g id=\"line2d_16\">\n",
       "      <g>\n",
       "       <use style=\"stroke:#000000;stroke-linecap:butt;stroke-width:0.5;\" x=\"36.330625\" xlink:href=\"#me8a85f7bf6\" y=\"247.9884375\"/>\n",
       "      </g>\n",
       "     </g>\n",
       "     <g id=\"line2d_17\">\n",
       "      <g>\n",
       "       <use style=\"stroke:#000000;stroke-linecap:butt;stroke-width:0.5;\" x=\"371.130625\" xlink:href=\"#m1a32005dea\" y=\"247.9884375\"/>\n",
       "      </g>\n",
       "     </g>\n",
       "     <g id=\"text_8\">\n",
       "      <!-- 0.25 -->\n",
       "      <defs>\n",
       "       <path d=\"\n",
       "M10.7969 72.9062\n",
       "L49.5156 72.9062\n",
       "L49.5156 64.5938\n",
       "L19.8281 64.5938\n",
       "L19.8281 46.7344\n",
       "Q21.9688 47.4688 24.1094 47.8281\n",
       "Q26.2656 48.1875 28.4219 48.1875\n",
       "Q40.625 48.1875 47.75 41.5\n",
       "Q54.8906 34.8125 54.8906 23.3906\n",
       "Q54.8906 11.625 47.5625 5.09375\n",
       "Q40.2344 -1.42188 26.9062 -1.42188\n",
       "Q22.3125 -1.42188 17.5469 -0.640625\n",
       "Q12.7969 0.140625 7.71875 1.70312\n",
       "L7.71875 11.625\n",
       "Q12.1094 9.23438 16.7969 8.0625\n",
       "Q21.4844 6.89062 26.7031 6.89062\n",
       "Q35.1562 6.89062 40.0781 11.3281\n",
       "Q45.0156 15.7656 45.0156 23.3906\n",
       "Q45.0156 31 40.0781 35.4375\n",
       "Q35.1562 39.8906 26.7031 39.8906\n",
       "Q22.75 39.8906 18.8125 39.0156\n",
       "Q14.8906 38.1406 10.7969 36.2812\n",
       "z\n",
       "\" id=\"DejaVuSans-35\"/>\n",
       "      </defs>\n",
       "      <g transform=\"translate(7.45125 252.35625)scale(0.12 -0.12)\">\n",
       "       <use xlink:href=\"#DejaVuSans-30\"/>\n",
       "       <use x=\"63.623046875\" xlink:href=\"#DejaVuSans-2e\"/>\n",
       "       <use x=\"95.41015625\" xlink:href=\"#DejaVuSans-32\"/>\n",
       "       <use x=\"159.033203125\" xlink:href=\"#DejaVuSans-35\"/>\n",
       "      </g>\n",
       "     </g>\n",
       "    </g>\n",
       "    <g id=\"ytick_3\">\n",
       "     <g id=\"line2d_18\">\n",
       "      <g>\n",
       "       <use style=\"stroke:#000000;stroke-linecap:butt;stroke-width:0.5;\" x=\"36.330625\" xlink:href=\"#me8a85f7bf6\" y=\"214.2384375\"/>\n",
       "      </g>\n",
       "     </g>\n",
       "     <g id=\"line2d_19\">\n",
       "      <g>\n",
       "       <use style=\"stroke:#000000;stroke-linecap:butt;stroke-width:0.5;\" x=\"371.130625\" xlink:href=\"#m1a32005dea\" y=\"214.2384375\"/>\n",
       "      </g>\n",
       "     </g>\n",
       "     <g id=\"text_9\">\n",
       "      <!-- 0.30 -->\n",
       "      <defs>\n",
       "       <path d=\"\n",
       "M40.5781 39.3125\n",
       "Q47.6562 37.7969 51.625 33\n",
       "Q55.6094 28.2188 55.6094 21.1875\n",
       "Q55.6094 10.4062 48.1875 4.48438\n",
       "Q40.7656 -1.42188 27.0938 -1.42188\n",
       "Q22.5156 -1.42188 17.6562 -0.515625\n",
       "Q12.7969 0.390625 7.625 2.20312\n",
       "L7.625 11.7188\n",
       "Q11.7188 9.32812 16.5938 8.10938\n",
       "Q21.4844 6.89062 26.8125 6.89062\n",
       "Q36.0781 6.89062 40.9375 10.5469\n",
       "Q45.7969 14.2031 45.7969 21.1875\n",
       "Q45.7969 27.6406 41.2812 31.2656\n",
       "Q36.7656 34.9062 28.7188 34.9062\n",
       "L20.2188 34.9062\n",
       "L20.2188 43.0156\n",
       "L29.1094 43.0156\n",
       "Q36.375 43.0156 40.2344 45.9219\n",
       "Q44.0938 48.8281 44.0938 54.2969\n",
       "Q44.0938 59.9062 40.1094 62.9062\n",
       "Q36.1406 65.9219 28.7188 65.9219\n",
       "Q24.6562 65.9219 20.0156 65.0312\n",
       "Q15.375 64.1562 9.8125 62.3125\n",
       "L9.8125 71.0938\n",
       "Q15.4375 72.6562 20.3438 73.4375\n",
       "Q25.25 74.2188 29.5938 74.2188\n",
       "Q40.8281 74.2188 47.3594 69.1094\n",
       "Q53.9062 64.0156 53.9062 55.3281\n",
       "Q53.9062 49.2656 50.4375 45.0938\n",
       "Q46.9688 40.9219 40.5781 39.3125\" id=\"DejaVuSans-33\"/>\n",
       "      </defs>\n",
       "      <g transform=\"translate(7.2 218.60625)scale(0.12 -0.12)\">\n",
       "       <use xlink:href=\"#DejaVuSans-30\"/>\n",
       "       <use x=\"63.623046875\" xlink:href=\"#DejaVuSans-2e\"/>\n",
       "       <use x=\"95.41015625\" xlink:href=\"#DejaVuSans-33\"/>\n",
       "       <use x=\"159.033203125\" xlink:href=\"#DejaVuSans-30\"/>\n",
       "      </g>\n",
       "     </g>\n",
       "    </g>\n",
       "    <g id=\"ytick_4\">\n",
       "     <g id=\"line2d_20\">\n",
       "      <g>\n",
       "       <use style=\"stroke:#000000;stroke-linecap:butt;stroke-width:0.5;\" x=\"36.330625\" xlink:href=\"#me8a85f7bf6\" y=\"180.4884375\"/>\n",
       "      </g>\n",
       "     </g>\n",
       "     <g id=\"line2d_21\">\n",
       "      <g>\n",
       "       <use style=\"stroke:#000000;stroke-linecap:butt;stroke-width:0.5;\" x=\"371.130625\" xlink:href=\"#m1a32005dea\" y=\"180.4884375\"/>\n",
       "      </g>\n",
       "     </g>\n",
       "     <g id=\"text_10\">\n",
       "      <!-- 0.35 -->\n",
       "      <g transform=\"translate(7.45125 184.85625)scale(0.12 -0.12)\">\n",
       "       <use xlink:href=\"#DejaVuSans-30\"/>\n",
       "       <use x=\"63.623046875\" xlink:href=\"#DejaVuSans-2e\"/>\n",
       "       <use x=\"95.41015625\" xlink:href=\"#DejaVuSans-33\"/>\n",
       "       <use x=\"159.033203125\" xlink:href=\"#DejaVuSans-35\"/>\n",
       "      </g>\n",
       "     </g>\n",
       "    </g>\n",
       "    <g id=\"ytick_5\">\n",
       "     <g id=\"line2d_22\">\n",
       "      <g>\n",
       "       <use style=\"stroke:#000000;stroke-linecap:butt;stroke-width:0.5;\" x=\"36.330625\" xlink:href=\"#me8a85f7bf6\" y=\"146.7384375\"/>\n",
       "      </g>\n",
       "     </g>\n",
       "     <g id=\"line2d_23\">\n",
       "      <g>\n",
       "       <use style=\"stroke:#000000;stroke-linecap:butt;stroke-width:0.5;\" x=\"371.130625\" xlink:href=\"#m1a32005dea\" y=\"146.7384375\"/>\n",
       "      </g>\n",
       "     </g>\n",
       "     <g id=\"text_11\">\n",
       "      <!-- 0.40 -->\n",
       "      <g transform=\"translate(7.2 151.10625)scale(0.12 -0.12)\">\n",
       "       <use xlink:href=\"#DejaVuSans-30\"/>\n",
       "       <use x=\"63.623046875\" xlink:href=\"#DejaVuSans-2e\"/>\n",
       "       <use x=\"95.41015625\" xlink:href=\"#DejaVuSans-34\"/>\n",
       "       <use x=\"159.033203125\" xlink:href=\"#DejaVuSans-30\"/>\n",
       "      </g>\n",
       "     </g>\n",
       "    </g>\n",
       "    <g id=\"ytick_6\">\n",
       "     <g id=\"line2d_24\">\n",
       "      <g>\n",
       "       <use style=\"stroke:#000000;stroke-linecap:butt;stroke-width:0.5;\" x=\"36.330625\" xlink:href=\"#me8a85f7bf6\" y=\"112.9884375\"/>\n",
       "      </g>\n",
       "     </g>\n",
       "     <g id=\"line2d_25\">\n",
       "      <g>\n",
       "       <use style=\"stroke:#000000;stroke-linecap:butt;stroke-width:0.5;\" x=\"371.130625\" xlink:href=\"#m1a32005dea\" y=\"112.9884375\"/>\n",
       "      </g>\n",
       "     </g>\n",
       "     <g id=\"text_12\">\n",
       "      <!-- 0.45 -->\n",
       "      <g transform=\"translate(7.45125 117.35625)scale(0.12 -0.12)\">\n",
       "       <use xlink:href=\"#DejaVuSans-30\"/>\n",
       "       <use x=\"63.623046875\" xlink:href=\"#DejaVuSans-2e\"/>\n",
       "       <use x=\"95.41015625\" xlink:href=\"#DejaVuSans-34\"/>\n",
       "       <use x=\"159.033203125\" xlink:href=\"#DejaVuSans-35\"/>\n",
       "      </g>\n",
       "     </g>\n",
       "    </g>\n",
       "    <g id=\"ytick_7\">\n",
       "     <g id=\"line2d_26\">\n",
       "      <g>\n",
       "       <use style=\"stroke:#000000;stroke-linecap:butt;stroke-width:0.5;\" x=\"36.330625\" xlink:href=\"#me8a85f7bf6\" y=\"79.2384375\"/>\n",
       "      </g>\n",
       "     </g>\n",
       "     <g id=\"line2d_27\">\n",
       "      <g>\n",
       "       <use style=\"stroke:#000000;stroke-linecap:butt;stroke-width:0.5;\" x=\"371.130625\" xlink:href=\"#m1a32005dea\" y=\"79.2384375\"/>\n",
       "      </g>\n",
       "     </g>\n",
       "     <g id=\"text_13\">\n",
       "      <!-- 0.50 -->\n",
       "      <g transform=\"translate(7.2 83.60625)scale(0.12 -0.12)\">\n",
       "       <use xlink:href=\"#DejaVuSans-30\"/>\n",
       "       <use x=\"63.623046875\" xlink:href=\"#DejaVuSans-2e\"/>\n",
       "       <use x=\"95.41015625\" xlink:href=\"#DejaVuSans-35\"/>\n",
       "       <use x=\"159.033203125\" xlink:href=\"#DejaVuSans-30\"/>\n",
       "      </g>\n",
       "     </g>\n",
       "    </g>\n",
       "    <g id=\"ytick_8\">\n",
       "     <g id=\"line2d_28\">\n",
       "      <g>\n",
       "       <use style=\"stroke:#000000;stroke-linecap:butt;stroke-width:0.5;\" x=\"36.330625\" xlink:href=\"#me8a85f7bf6\" y=\"45.4884375\"/>\n",
       "      </g>\n",
       "     </g>\n",
       "     <g id=\"line2d_29\">\n",
       "      <g>\n",
       "       <use style=\"stroke:#000000;stroke-linecap:butt;stroke-width:0.5;\" x=\"371.130625\" xlink:href=\"#m1a32005dea\" y=\"45.4884375\"/>\n",
       "      </g>\n",
       "     </g>\n",
       "     <g id=\"text_14\">\n",
       "      <!-- 0.55 -->\n",
       "      <g transform=\"translate(7.45125 49.85625)scale(0.12 -0.12)\">\n",
       "       <use xlink:href=\"#DejaVuSans-30\"/>\n",
       "       <use x=\"63.623046875\" xlink:href=\"#DejaVuSans-2e\"/>\n",
       "       <use x=\"95.41015625\" xlink:href=\"#DejaVuSans-35\"/>\n",
       "       <use x=\"159.033203125\" xlink:href=\"#DejaVuSans-35\"/>\n",
       "      </g>\n",
       "     </g>\n",
       "    </g>\n",
       "    <g id=\"ytick_9\">\n",
       "     <g id=\"line2d_30\">\n",
       "      <g>\n",
       "       <use style=\"stroke:#000000;stroke-linecap:butt;stroke-width:0.5;\" x=\"36.330625\" xlink:href=\"#me8a85f7bf6\" y=\"11.7384375\"/>\n",
       "      </g>\n",
       "     </g>\n",
       "     <g id=\"line2d_31\">\n",
       "      <g>\n",
       "       <use style=\"stroke:#000000;stroke-linecap:butt;stroke-width:0.5;\" x=\"371.130625\" xlink:href=\"#m1a32005dea\" y=\"11.7384375\"/>\n",
       "      </g>\n",
       "     </g>\n",
       "     <g id=\"text_15\">\n",
       "      <!-- 0.60 -->\n",
       "      <g transform=\"translate(7.2 16.10625)scale(0.12 -0.12)\">\n",
       "       <use xlink:href=\"#DejaVuSans-30\"/>\n",
       "       <use x=\"63.623046875\" xlink:href=\"#DejaVuSans-2e\"/>\n",
       "       <use x=\"95.41015625\" xlink:href=\"#DejaVuSans-36\"/>\n",
       "       <use x=\"159.033203125\" xlink:href=\"#DejaVuSans-30\"/>\n",
       "      </g>\n",
       "     </g>\n",
       "    </g>\n",
       "   </g>\n",
       "   <g id=\"patch_3\">\n",
       "    <path d=\"\n",
       "M36.3306 11.7384\n",
       "L371.131 11.7384\" style=\"fill:none;stroke:#000000;\"/>\n",
       "   </g>\n",
       "   <g id=\"patch_4\">\n",
       "    <path d=\"\n",
       "M371.131 281.738\n",
       "L371.131 11.7384\" style=\"fill:none;stroke:#000000;\"/>\n",
       "   </g>\n",
       "   <g id=\"patch_5\">\n",
       "    <path d=\"\n",
       "M36.3306 281.738\n",
       "L371.131 281.738\" style=\"fill:none;stroke:#000000;\"/>\n",
       "   </g>\n",
       "   <g id=\"patch_6\">\n",
       "    <path d=\"\n",
       "M36.3306 281.738\n",
       "L36.3306 11.7384\" style=\"fill:none;stroke:#000000;\"/>\n",
       "   </g>\n",
       "  </g>\n",
       " </g>\n",
       " <defs>\n",
       "  <clipPath id=\"p4b99562be9\">\n",
       "   <rect height=\"270.0\" width=\"334.8\" x=\"36.330625\" y=\"11.7384375\"/>\n",
       "  </clipPath>\n",
       " </defs>\n",
       "</svg>\n"
      ],
      "text/plain": [
       "<matplotlib.figure.Figure at 0xa397d0c>"
      ]
     },
     "metadata": {},
     "output_type": "display_data"
    }
   ],
   "source": [
    "pl=plot(x,y)\n",
    "for i in pl:\n",
    "    print(\"\\n type:\",type(i),i) #return a list with a single item \n",
    "\n",
    "##pl[1] out of range\n",
    "Line=pl[0]\n",
    "Line.set_color('r')\n"
   ]
  },
  {
   "cell_type": "code",
   "execution_count": 66,
   "metadata": {
    "collapsed": false
   },
   "outputs": [],
   "source": [
    "line=matplotlib.lines.Line2D(x,y)\n"
   ]
  },
  {
   "cell_type": "code",
   "execution_count": 9,
   "metadata": {
    "collapsed": false
   },
   "outputs": [
    {
     "name": "stdout",
     "output_type": "stream",
     "text": [
      ",Col 1,Col 2,Col 3,Col 4,Col 5,Col 6,Col 7,Col 8,Col 9\n",
      "\n",
      "0,-0.07688314445913731,0.07042401028695888,-0.2029606200182187,-0.39906665294830307,0.9376481605690181,-0.7476480971369347,-0.5767091191367347,0.8893460190207072,0.8040622347525676\n",
      "\n",
      "1,0.6796189384457668,-0.6155070933221342,-0.7654952588903609,0.07229902500227176,-1.3414440773338703,-0.03961254294559606,-0.3796212699227902,0.08301543376316407,-1.3464631832153833\n",
      "\n",
      "2,1.4245258783385404,1.0992767946740971,-0.5228658757738096,0.9074475508057531,0.8413254142856849,0.5898714852197416,-1.1999661322070108,1.907661188330122,0.33414429257486816\n",
      "\n",
      "3,-1.3317184754727054,1.3311551000983621,-1.016716229529189,0.9981745073320943,0.9939179499285109,0.03835853016112385,-0.905439817387688,0.1320080408116633,0.9908094263603673\n",
      "\n",
      "4,0.4624794875358812,0.7680645220787379,0.6640742913857531,-0.5975585642109638,1.373839463179714,-0.15623312225604777,0.6229824005171194,-0.21649292856149285,-1.044499552060743\n",
      "\n",
      "5,1.0891106252125982,-0.5012439918544876,-0.5016579816262314,0.35896467749490424,-1.2298494711597459,0.6617513690675823,-0.7730329811877958,-1.0385985327281149,0.766241771381787\n",
      "\n",
      "6,0.27666212818882924,-0.6686580955228886,-0.26567584078950424,2.0700194100745137,0.8907608723296084,-1.4374786066873015,-1.0474357370155738,2.52624385444205,0.6895204650455761\n",
      "\n",
      "7,-0.5346693350579058,1.4518945482259396,0.3632407988554345,-0.28136330567748513,-0.7469534121498885,0.5479272180336449,1.842584483993698,-1.285036441880994,-1.420638318391017\n",
      "\n",
      "8,0.6764151284359491,0.9656118781192496,1.117599167569218,-0.47781242020644366,-0.8236876867466888,-0.08492364810438326,0.8365896852407801,0.5428995992160502,-1.475803363019547\n",
      "\n",
      "9,0.9766507804150069,-0.7600788669430639,0.6244627564596481,-0.9608340416397003,0.5231211159725107,-0.5478742535073163,0.1930879462937593,-0.1944720955391314,0.09986146564829045\n",
      "\n",
      "10,0.9278348920142298,-1.2964098950602831,-0.24412415517402983,-0.024111977734019532,1.3411754747849671,0.638082538379117,-0.7326400915456195,-0.014091016960240663,-0.4055440578248266\n",
      "\n",
      "11,0.011338661042758432,1.0179995490137579,-0.832028604417084,-1.181126323840217,-1.2891320431024145,-0.9574056409709827,0.49373938644767384,0.4077265986744399,0.41527265021453563\n",
      "\n",
      "12,1.358208605719031,-0.7876715599316041,2.2288532946104485,0.7872976262548828,-0.947565869074029,-0.3123176955196307,-0.730465847176778,-1.8284579311826223,0.10262421424651541\n",
      "\n",
      "13,-0.42246802142809087,-0.03661926059713463,-0.8738439299525389,0.16630315223237616,-0.2318235843115208,0.5993165173046174,1.1723034450392174,0.45899341922386816,-0.26904263235086856\n",
      "\n",
      "14,-0.8317478613584776,-1.6959886171275846,1.2312123500798948,0.8128633532932164,-1.0383053249770635,1.381857379664575,-0.44966544615733056,-0.06188358413709118,-0.8477180465890523\n",
      "\n",
      "15,1.373543685572464,0.8550324309751408,-0.24944678917509044,-0.3243876320348444,0.38274760644108313,-0.5473430684240979,1.1268557138555866,1.6974533033148018,0.1724041201336711\n",
      "\n",
      "16,-0.48520087568232334,0.01507250341994934,0.500424143293194,-1.1008621724445422,-0.1828503000965058,-0.5298865129184083,-0.24007947995193685,1.9692707050330696,0.7421852811931697\n",
      "\n",
      "17,0.3577327560655102,-1.022330178361573,0.04926708658787718,1.5048900553509965,-0.7846239284757488,-0.9982534935546934,0.8621068857459347,-1.1679360799945036,-1.2479480266711622\n",
      "\n",
      "18,0.45021368763387964,0.3655201252585933,0.13562869016193613,0.43224758648317635,1.8616321711851593,0.6527370954995094,-0.19800652708268793,1.4049221562346728,-0.7536134314581009\n",
      "\n",
      "19,-0.801060244435769,0.5611118754892678,0.4487772013164055,0.508053350128959,-1.5759212068219086,-1.6446746997716293,0.45774019795713194,-0.34203077670491633,0.037495604951106314\n",
      "\n",
      "20,-2.8178797139496226,-0.36004519597630774,0.2753689288682438,1.870644884257007,-0.4788518177178565,0.9706898268097227,0.47103465507293585,-0.35830899299917296,-1.9950984238397782\n",
      "\n",
      "21,-0.048742538581594205,-1.076309105500651,-0.39510295186679795,-0.3379775433599265,1.552182248427946,-0.2663705677832061,0.23779447722140534,2.3561494509671155,0.4540298195114521\n",
      "\n",
      "22,0.047097911158178206,-0.32913949940392373,0.424159782502424,-0.3536047983614744,0.6438466644979924,-0.6884076565640905,-1.197657212439509,0.20420263185691714,0.06434733215595388\n",
      "\n",
      "23,-1.755984282615466,0.371625035398884,0.34197793330241916,-1.0333107927739322,1.695053194218958,0.1506180004914921,-0.1475209517809565,-1.8603089680636373,-2.0508904063488855\n",
      "\n",
      "24,-0.3139144718141003,1.1066639368620397,1.7578218219988717,-1.683134838192419,-0.3983772293743884,-1.5863760203245656,-1.0321468451933666,0.07974079107465278,1.3224288780406832\n",
      "\n",
      "25,0.8454272390862805,0.5161334131513048,-0.5320055804882997,-1.266439239695321,0.8512239464919706,0.37896186260911663,1.2825073726673053,0.8144423429806872,-0.05004975315644159\n",
      "\n",
      "26,-0.2148449940966815,-1.1863589927280964,1.6987883130378112,-1.8826063735701353,1.9620934686398412,2.606097579078417,0.5161573437615733,0.7216366651867594,-0.03034402891162174\n",
      "\n",
      "27,-1.139802896796281,0.41695348354320744,-0.22817579564782775,-0.35179970986485803,-1.9055401332382353,-0.08532091323939418,-0.9187203192985919,-0.6238990412099924,-1.3047381589006488\n",
      "\n",
      "28,-0.3231707827859259,0.14286720266728883,-0.48340023969478374,0.8260455411496409,1.5320793633908028,-1.56329983258969,1.0980524569898535,1.8267728119131195,0.635848064406924\n",
      "\n",
      "29,-0.26246260579089875,1.6564512926181842,0.006204652008946051,-0.03604722456495054,-1.5099214608934177,-0.5205567280604987,-0.5553391733904459,-0.28473186479888823,0.0076300014172039085\n",
      "\n",
      "30,-0.9467689277895516,-1.662670782111417,1.1259590128819517,-0.2854876631913176,0.23532208630662227,-0.7949127097456669,-1.0275382843061975,-0.09121692837185008,-0.5340934512288786\n",
      "\n",
      "31,0.20575217105825624,1.6348059906716004,-1.1697045278329392,-0.8262295074043071,1.206800001551611,1.2161022522913212,2.819112720324796,1.5295761482706007,1.1023460207556526\n",
      "\n",
      "32,-1.8384168171406172,-0.06280737535941,2.163623865798655,-0.06358834193583711,1.344479228616916,-0.04550323811910261,-0.30033155993220084,-1.248640685214893,0.13108563412324095\n",
      "\n",
      "33,0.552096837728311,1.7124110172855656,-1.194645318343422,1.0642917500560467,-1.1775337076248193,-0.07669156916528513,0.1482968835854139,-0.3943188761103745,-0.9952714596300981\n",
      "\n",
      "34,-0.7417912205823439,0.41818593468099446,0.4155099116344799,-0.33043404754744093,0.13006018835976568,0.6122640472902391,0.1914669585368147,-0.09082600769389358,0.22100965157128163\n",
      "\n",
      "35,0.753161657359131,1.7895391789412867,0.016924105642482635,1.864634126202079,-0.26665920777871693,0.0537608748676441,1.9934825510373804,-1.2342998623618793,-0.652798790641024\n",
      "\n",
      "36,-0.2830916525075973,-0.4260312221841543,1.4599739633088755,1.1607928689392484,-2.154827131691497,1.433377456631233,0.5253961102701731,-0.06946119547050253,1.300363688583666\n",
      "\n",
      "37,0.8604774558590965,0.802467036219095,0.4247879831684096,-0.5781332375373308,0.5918888467493705,-1.013517867224036,0.31155271730356554,-0.3767409887638027,0.5070635607325075\n",
      "\n",
      "38,-1.0662495703613244,-0.521311794594592,0.4515652034696652,-0.9765409904393583,1.064959693816879,-0.3883328540038893,-0.888020838987647,-1.7340481465320536,-0.7139912704970095\n",
      "\n",
      "39,-0.9120288710624783,-0.27553825345628774,-0.7038769336391161,0.5370396459385478,0.8273617969349361,0.9326134613711787,-1.1480573360547077,0.4509987382239567,0.046533660798465895\n",
      "\n",
      "40,-0.25216829635206767,-0.1649838621585843,-0.22965930969091936,-1.2867544254063625,0.6868485768910754,1.933323649516604,0.21564439079006562,0.14204642969681783,0.44756144496534234\n",
      "\n",
      "41,-0.31787829798300143,0.8333394077970064,-0.7680551675825948,0.08231575574708906,0.5060147865037693,-1.505355493732439,-0.16822308186422466,0.49867351882882743,1.2335427896147675\n",
      "\n",
      "42,-0.12906953732901513,0.4150140729911114,-0.003867940782404321,-0.7574280442593223,0.16816601140275275,-1.2180784219169172,0.15537318704292633,1.539805392454729,0.030280350799579785\n",
      "\n",
      "43,0.1407950738881234,0.833279153118174,-0.10834073085439859,-2.0376121932431106,1.1590079138822664,-1.4139391189341144,0.0804639757746464,-0.2620197532417199,-1.3539801031498742\n",
      "\n",
      "44,-0.555492484587321,-0.2651275807505214,0.5009998942906915,-0.19385481978082128,-0.36491123773377,1.0591116699964889,1.5340395978422245,-1.0145328362938022,0.9121120569803852\n",
      "\n",
      "45,1.6150633396967085,-0.9586669936524063,1.2224612100520822,0.043184719649956564,-1.5082862812986217,-0.13910456298301047,0.9909401068423028,-0.5725635595243209,-0.9634002247969229\n",
      "\n",
      "46,-0.3018111328956142,0.25524921956572627,-0.9120722038379265,-0.16439206818829305,0.2948239422541308,-1.1971812035330662,-0.23164870247268543,0.12171004480769408,-0.32146233549534065\n",
      "\n",
      "47,-0.9931478776166565,2.161983395617356,1.4642371158209773,0.9627957859357663,-0.6015309728018775,0.12960342051474955,-0.9070990063194936,-2.1405448651818766,0.19717129148389106\n",
      "\n",
      "48,0.4627070183229686,-0.5532195711299058,-1.4796180163660073,-0.6956821494193763,0.07330106912086608,-1.0006523335050967,0.3942012415265393,2.8554063472916016,0.2976880167989739\n",
      "\n",
      "49,-0.3405831395822975,0.39002222130495606,-0.9034754109273373,0.6299697121051846,2.1485638094853314,-0.017358606737844243,-0.14239510328222518,-0.22521598722490915,0.00840281558136549\n",
      "\n",
      "50,-0.0016750743015714528,-1.4827146275545464,-0.07981099844518601,-2.542571478928138,0.629041145649092,-0.5015729536376056,0.11846363689515751,0.172195268867362,-0.752841063283972\n",
      "\n",
      "51,-0.788312936915874,0.11836801008724969,0.2929105660664411,0.22637179718190814,-0.10867238359103627,-0.08319310451615884,0.8544573827753286,1.0994587217307288,2.3301078662475\n",
      "\n",
      "52,2.137357989542293,-1.1717766258113755,0.18111920015920943,0.48109697988327366,-0.8455648445331921,-0.21779296544503451,0.9592972621809825,-1.5002675494904554,0.7558835955966601\n",
      "\n",
      "53,-0.9520194110894227,-0.30934864447085003,0.5301951521625903,0.26771394361292905,-0.2990345797847519,-0.7164362967353696,0.937360848161613,-0.6932852590662264,0.09074518668062906\n",
      "\n",
      "54,-0.47031906767991916,-1.1205778795101713,1.1342256367801182,-0.7912370805914026,-0.5491604101295753,-1.6966380589204064,-0.32255460282969756,-2.09316845197562,0.11651049718989584\n",
      "\n",
      "55,-0.9450163270950429,1.387571516422203,-1.1204120579256605,-0.5573465664542545,-1.140576335206004,-0.22524579168672054,-0.3547784560232176,-2.000708113425364,1.171331200490543\n",
      "\n",
      "56,-0.3847810904075224,2.079872489256087,-1.0081398353791395,-1.7835996492059791,0.5866629245274011,0.6329945887430765,-0.6916219231984422,1.297566647875588,0.5999875180800729\n",
      "\n",
      "57,0.36546165239847483,-0.4124991921031945,-0.7886505281099092,0.23353271912944337,-0.19912335299350206,-1.076006712151799,1.1708896054920848,0.049089808410895656,1.3277623115192745\n",
      "\n",
      "58,-0.001968891110538138,-0.2997961149685226,-0.7316034566991441,-0.6820367254923271,0.19568744061978902,0.5724563115895539,-0.6009558624471829,-0.572526967398963,1.511011304493721\n",
      "\n",
      "59,0.5177767450382555,0.014928343790365348,0.7257383501947525,1.891122921699762,0.31134480989228086,-0.14035044827958987,-0.7640341970665964,-0.3208460836325803,0.27914567736704604\n",
      "\n",
      "60,0.4643479820276053,-3.926601538491273,-1.141960716101384,-0.4155292456772819,-0.4350576678750835,-1.4977386553717345,-0.031565723959266094,-0.0018494466618586762,0.21335918884727104\n",
      "\n",
      "61,1.3037331496991116,-0.3557820374490651,-0.16103801341419735,1.62314415959707,-1.803895797405766,-0.7405199454197073,0.31828917306616844,1.050454038149639,0.6982311874853183\n",
      "\n",
      "62,0.43480354196900195,0.6317000549972355,0.26809444662059245,1.7097352419725087,0.6985611667362324,-1.4320398006627866,0.174207491762247,-0.12416107981313061,0.06527928866690887\n",
      "\n",
      "63,0.3409827709714605,-0.38428595115821446,0.3409999993108874,-0.7011379708663418,-0.32414033610928294,-1.4094611942311026,-0.7944688216685828,-0.47568296977289753,-0.6678552792148772\n",
      "\n",
      "64,-0.3864815805529271,0.7228108457310835,-0.8256886440644686,-0.4776536823743204,-0.9939675041106929,0.03976680295912303,-0.7901941422754424,-0.6461223395987484,1.1194711980791927\n",
      "\n",
      "65,-1.1021405632924204,-1.0142398420739165,3.5020427941566057,0.2414187083893121,-0.5878866200304235,-2.2541519524969287,0.3640260681184559,0.013631239294869996,-0.20677003344746814\n",
      "\n",
      "66,-2.5776552444584446,0.5479005830875788,0.5285330012605534,1.4265598392024166,-0.8770162018524695,1.1263218920452316,-2.0052305729842277,-0.4685290738200787,-0.4974077876113097\n",
      "\n",
      "67,-1.755440524600161,-1.6885330053005312,-0.9326310269853766,-0.7723007291945907,-0.18216687430089268,-1.025709130998581,-0.6527297154388111,-0.4371660463907846,-1.8947316920982202\n",
      "\n",
      "68,-0.6708432798097949,1.400761324714713,0.0041872181011046025,0.603074451918838,-0.6488458532871101,-1.1280913387539098,1.36213518241656,0.49834587994095697,-0.24386544839396151\n",
      "\n",
      "69,-0.9251027815939129,0.07339266505106092,-0.16879993143968686,0.33479752436710414,1.031438031182964,-0.25161263403029044,0.4211719949961577,-1.7823067663432894,1.0738894471655558\n",
      "\n",
      "70,-1.136105792221497,0.736076756365766,-0.16975270374265647,-0.6006992668603082,1.3524500673948634,-1.1361949240250147,1.0470867023390789,-0.7388075028078515,-1.1422770204541937\n",
      "\n",
      "71,1.199694902905679,0.20250244347426236,-0.9416105344266223,1.1473227567578286,-1.1765804900106605,0.17986135571456385,0.4919678119615209,-1.5398883945179118,-0.02994882593195281\n",
      "\n",
      "72,0.6176954346454576,-0.5970379327674665,0.3099477062064226,-0.9902882257037301,0.47952491476632175,0.4583239168532999,1.7306292213188215,-0.3472716678288145,0.3326278313655959\n",
      "\n",
      "73,0.15332787524084016,0.07852085185891458,-2.205044831821184,-0.41996866987209985,0.596611420643886,-0.5938226673375566,-0.9457636806732977,-1.4738343006850745,1.2024698819437187\n",
      "\n",
      "74,1.0608877765589764,0.3953111565491782,-0.8397354016866513,-0.8329856656239674,1.6655879428637264,-1.3556490351116233,-0.5463895442895208,0.25974149685857467,0.9291529401956001\n",
      "\n",
      "75,0.9220107081109568,-0.2752487815102628,-0.43721113594388816,0.3373559855479372,1.5018981786690608,-0.9662756779610278,0.8387632097126315,0.7207641961397483,1.4472541408877153\n",
      "\n",
      "76,-0.8488810453162428,1.0206091223456273,0.8576824761832902,-0.4383989116064653,0.538715995569686,1.1530623943724045,-1.2701744764539944,0.4682924829255698,-0.345211852530756\n",
      "\n",
      "77,0.047630940652286444,-0.49328502148146197,0.23256614552487617,1.127729152459245,-0.6300576399267488,0.748526548499871,-1.1751049788161385,0.346912305486637,0.3092222908862556\n",
      "\n",
      "78,-3.2331321077159045,-1.2803219533269417,0.9089150088426284,0.9251878024125928,-0.9344823610876606,1.686624272711641,-0.06775937909589928,-0.08404589366887205,-0.04303424050567843\n",
      "\n",
      "79,-1.5378061069629174,-0.06380972383230239,0.11662782039624855,0.22207507227800097,1.972977329534394,-1.03189260112347,-0.6831420888784573,0.06811052073793143,1.7299276316900039\n",
      "\n",
      "80,-0.5652630508948319,0.18189297281159147,-1.0788273342468604,-0.08567970958805622,-0.8797339384926313,1.0118964378552673,-0.29653858247033216,0.020634114668935742,1.588571428603619\n",
      "\n",
      "81,-0.9533595893777165,2.1454281223809004,1.141923962345627,0.7111200359419229,-0.8451368127094182,-0.22089712731137812,-0.39224315406595855,0.8104288185149496,-0.2466856712116344\n",
      "\n",
      "82,1.6262358964621868,-1.4565810059745397,-0.09540323265170532,0.13666972362919153,1.2550658099657925,-0.9504617790090617,1.22934855695179,-2.423723885096644,1.2588583373906799\n",
      "\n",
      "83,-0.16927910161108625,0.5882907032107205,-1.0187555422471928,1.4459277514869737,-1.5811031767532686,0.02836431521212145,-0.4040103856555249,-0.3312181426438315,-0.8189786501210842\n",
      "\n",
      "84,-0.29630497974638187,-1.076649628665335,1.202776690028305,0.4006659301352657,0.5797200553491588,-0.5043386053827434,1.2584059176344167,0.9708900957739224,-1.1929425828124425\n",
      "\n",
      "85,-0.46312894909050495,-0.9600697792582111,0.1409670598436776,0.6942319575158197,-0.9102902826564588,0.13180588019501488,-0.25846042228985283,-0.47179872796118594,0.152754321028478\n",
      "\n",
      "86,0.5252894688838323,0.4361650295671787,-2.0148092864803755,0.7806114813564835,-0.16220356366648747,-0.18222319816770502,0.6241241985567335,-0.32735055480863856,-0.5654934253522245\n",
      "\n",
      "87,-1.1998552967055374,-0.003888891657724736,0.48343009164647904,1.259475473533881,1.0351224435546456,1.161103656778064,0.37493574287542586,-1.2505244061579888,-0.25685486620498815\n",
      "\n",
      "88,1.138579979968321,-1.5472414527439484,-0.5982944263408597,-0.6511019165919346,2.3477990227474703,-0.014117219659718403,-1.1478693854595825,-2.0925113922217866,0.9083417746215943\n",
      "\n",
      "89,0.04471296047281909,0.24986614544881025,-0.547002579778953,-0.48194694123402165,-0.0878196455371833,-0.6789525286872126,-1.2452647952094853,1.6159215253380161,-1.5581243456608784\n",
      "\n",
      "90,0.3363511032385097,-0.40479544422514785,0.06913025263594684,-0.1175593750440914,-2.164746316777469,0.4898535291498878,-1.1336790235919572,-0.7578811368920529,0.8324335760873075\n",
      "\n",
      "91,0.15703905145424665,-0.1222242168920478,-0.12782334430102466,-0.7822408152182755,-1.2041287370515155,0.35273726843737235,-1.2497244368068374,1.0379206414079505,-0.7412988180557338\n",
      "\n",
      "92,-0.9762881870981117,1.305249060043064,1.8315927686454045,1.33312158907647,1.9430056057154756,1.04236161511257,1.346560139845013,0.44373152201521393,-0.3354529033689262\n",
      "\n",
      "93,-0.061497038923665516,0.2749799534929265,0.152448147719518,-1.1636285743775654,0.06210614950189874,0.0008040111702346784,0.2983167128670582,2.974864058074834,0.29795886170144875\n",
      "\n",
      "94,-0.8872818311963352,0.5677817932357918,-0.27587063896926844,0.18763816678307363,-0.11315459843682668,-1.0897036265927629,-1.5509525097143955,-0.4061015667635758,1.5885325243205035\n",
      "\n",
      "95,-0.33339968284127824,1.0640504395127783,-0.702937337850651,1.2044898748891326,-0.4477813467958276,0.4622976237169467,-0.44497082576490077,0.06708040817905214,0.31450920668489557\n",
      "\n",
      "96,1.2716048615132953,0.5925254173824142,0.5322317652473573,0.0046940836684247885,-1.819701161579807,-1.450667588979937,1.0035072549572628,1.1502339197327656,0.16030039718899725\n",
      "\n",
      "97,-0.6609398990032883,0.4335249019397945,1.8751940381649104,-2.1872841718696074,0.7681212025892953,-0.029909757128308647,-0.7101095554692906,1.726980944449314,-0.013649304896039218\n",
      "\n",
      "98,0.8798686202374534,0.3890739302298729,0.7040281519583836,0.7169868897138542,-0.9379800167168642,2.119386841690827,-0.37313536547894427,1.4576336160357108,1.1731762617720338\n",
      "\n",
      "99,0.07696163632855088,0.05429186684886612,-1.4756260918076667,1.8095044371574147,-0.3543794907523217,1.844296488724237,0.3901281929646926,-0.07682220169970669,1.8079267154668055\n",
      "\n"
     ]
    }
   ],
   "source": [
    "## alias\n",
    "with open(\"./nrand2.csv\", \"r\") as f:\n",
    "    for line in f:\n",
    "        print(line) "
   ]
  },
  {
   "cell_type": "markdown",
   "metadata": {},
   "source": [
    "**Continue in the following nb**\n",
    "[Matplotlib](http://linuxserver:8889/notebooks/Tutorials/Matplotlib.ipynb)"
   ]
  },
  {
   "cell_type": "markdown",
   "metadata": {},
   "source": [
    "## Object Oriented Programming"
   ]
  },
  {
   "cell_type": "code",
   "execution_count": 37,
   "metadata": {
    "collapsed": false
   },
   "outputs": [],
   "source": [
    "class vector3D:\n",
    "    def __init__ (self,x,y,z):\n",
    "        self.x=x\n",
    "        self.y=y\n",
    "        self.z=z\n",
    "    \n",
    "   \n",
    "    \n",
    "    def norm (self):  \n",
    "        return sqrt(self.x**2+self.y**2+self.z**2)"
   ]
  },
  {
   "cell_type": "code",
   "execution_count": 7,
   "metadata": {
    "collapsed": false
   },
   "outputs": [],
   "source": [
    "V=vector3D(3,4,5.0)"
   ]
  },
  {
   "cell_type": "code",
   "execution_count": 8,
   "metadata": {
    "collapsed": false
   },
   "outputs": [
    {
     "data": {
      "text/plain": [
       "7.0710678118654755"
      ]
     },
     "execution_count": 8,
     "metadata": {},
     "output_type": "execute_result"
    }
   ],
   "source": [
    "V.norm()"
   ]
  },
  {
   "cell_type": "code",
   "execution_count": 65,
   "metadata": {
    "collapsed": false
   },
   "outputs": [],
   "source": [
    "class vector3D:\n",
    "    def __init__ (self,x,y,z):\n",
    "        self._x=x\n",
    "        self._y=y\n",
    "        self._z=z\n",
    "        self._square=self._x**2+self._y**2+self._z**2\n",
    "        ## set x,y,z protected\n",
    "    \n",
    "    def __repr__ (self):\n",
    "        return str(self._x)+\",\"+str(self._y)+\",\"+str(self._z)\n",
    "    \n",
    "    def norm(self):  \n",
    "        return sqrt(self._square)\n",
    "    \n",
    "    def __add__(self,other):\n",
    "        return vector3D(self._x+other._x,self._y+other._y,self._z+other._z)\n",
    "    \n",
    "    def __eq__(self,other):\n",
    "        return self._square==other._square"
   ]
  },
  {
   "cell_type": "code",
   "execution_count": 73,
   "metadata": {
    "collapsed": false
   },
   "outputs": [],
   "source": [
    "V=vector3D(2,0,2)\n",
    "VV=vector3D(2,2,0)"
   ]
  },
  {
   "cell_type": "code",
   "execution_count": 74,
   "metadata": {
    "collapsed": false
   },
   "outputs": [
    {
     "data": {
      "text/plain": [
       "2.8284271247461903"
      ]
     },
     "execution_count": 74,
     "metadata": {},
     "output_type": "execute_result"
    }
   ],
   "source": [
    "V.norm()\n"
   ]
  },
  {
   "cell_type": "code",
   "execution_count": 61,
   "metadata": {
    "collapsed": false
   },
   "outputs": [],
   "source": [
    "a=V+VV"
   ]
  },
  {
   "cell_type": "code",
   "execution_count": 62,
   "metadata": {
    "collapsed": false
   },
   "outputs": [
    {
     "data": {
      "text/plain": [
       "15.524174696260024"
      ]
     },
     "execution_count": 62,
     "metadata": {},
     "output_type": "execute_result"
    }
   ],
   "source": [
    "a.norm()"
   ]
  },
  {
   "cell_type": "code",
   "execution_count": 75,
   "metadata": {
    "collapsed": false
   },
   "outputs": [
    {
     "data": {
      "text/plain": [
       "True"
      ]
     },
     "execution_count": 75,
     "metadata": {},
     "output_type": "execute_result"
    }
   ],
   "source": [
    "V==VV"
   ]
  },
  {
   "cell_type": "markdown",
   "metadata": {},
   "source": [
    "### User def magic function"
   ]
  },
  {
   "cell_type": "code",
   "execution_count": 40,
   "metadata": {
    "collapsed": false
   },
   "outputs": [],
   "source": [
    "##user def magic function\n",
    "from IPython.core.magic import (register_line_magic,register_cell_magic)\n",
    "@register_line_magic\n",
    "def hello(line):\n",
    "    print(line)\n",
    "    if line == 'french':\n",
    "        print(\"Salut tout le monde!\")\n",
    "    elif line=='german':\n",
    "        print('Hello welt!')\n",
    "    else:\n",
    "        print(\"Hello world!\")"
   ]
  },
  {
   "cell_type": "code",
   "execution_count": 43,
   "metadata": {
    "collapsed": false
   },
   "outputs": [
    {
     "name": "stdout",
     "output_type": "stream",
     "text": [
      "french\n",
      "Salut tout le monde!\n"
     ]
    }
   ],
   "source": [
    "%hello french"
   ]
  },
  {
   "cell_type": "markdown",
   "metadata": {},
   "source": [
    "----"
   ]
  },
  {
   "cell_type": "markdown",
   "metadata": {},
   "source": [
    "## JavaScript"
   ]
  },
  {
   "cell_type": "code",
   "execution_count": null,
   "metadata": {
    "collapsed": true
   },
   "outputs": [],
   "source": [
    "Jquery is already available within the notebook\n",
    "The following example illustrate the how to use jquery class selector "
   ]
  },
  {
   "cell_type": "code",
   "execution_count": 3,
   "metadata": {
    "collapsed": false
   },
   "outputs": [
    {
     "data": {
      "application/javascript": [
       "$( \".input_prompt\" ).css( \"border\", \"3px solid red\" );"
      ],
      "text/plain": [
       "<IPython.core.display.Javascript object>"
      ]
     },
     "metadata": {},
     "output_type": "display_data"
    }
   ],
   "source": [
    "%%javascript\n",
    "$( \".input_prompt\" ).css( \"border\", \"3px solid red\" );"
   ]
  },
  {
   "cell_type": "code",
   "execution_count": 5,
   "metadata": {
    "collapsed": false
   },
   "outputs": [
    {
     "data": {
      "text/html": [
       "<img id=\"logo\" class=\"current_kernel_logo\" src=\"/kernelspecs/python3/logo-64x64.png\" style=\"display: inline;\">"
      ],
      "text/plain": [
       "<IPython.core.display.HTML object>"
      ]
     },
     "metadata": {},
     "output_type": "display_data"
    }
   ],
   "source": [
    "%%html\n",
    "<img id=\"logo\" class=\"current_kernel_logo\" src=\"/kernelspecs/python3/logo-64x64.png\" style=\"display: inline;\">"
   ]
  },
  {
   "cell_type": "code",
   "execution_count": 6,
   "metadata": {
    "collapsed": false
   },
   "outputs": [
    {
     "data": {
      "application/javascript": [
       " $( \"#logo\" ).fadeTo( \"slow\" , 0.5, function() {\n",
       "    // Animation complete.\n",
       "  });"
      ],
      "text/plain": [
       "<IPython.core.display.Javascript object>"
      ]
     },
     "metadata": {},
     "output_type": "display_data"
    }
   ],
   "source": [
    "%%javascript\n",
    " $( \"#logo\" ).fadeTo( \"slow\" , 0.5, function() {\n",
    "    // Animation complete.\n",
    "  });"
   ]
  },
  {
   "cell_type": "code",
   "execution_count": 33,
   "metadata": {
    "collapsed": false
   },
   "outputs": [
    {
     "data": {
      "application/json": {
       "Software versions": [
        {
         "module": "Python",
         "version": "2.7.3 32bit [GCC 4.7.2]"
        },
        {
         "module": "IPython",
         "version": "2.3.1"
        },
        {
         "module": "OS",
         "version": "Linux 3.5.0 17 generic i686 with Ubuntu 12.10 quantal"
        },
        {
         "module": "numpy",
         "version": "1.9.1"
        },
        {
         "module": "scipy",
         "version": "0.10.1"
        },
        {
         "module": "matplotlib",
         "version": "1.1.1"
        }
       ]
      },
      "text/html": [
       "<table><tr><th>Software</th><th>Version</th></tr><tr><td>Python</td><td>2.7.3 32bit [GCC 4.7.2]</td></tr><tr><td>IPython</td><td>2.3.1</td></tr><tr><td>OS</td><td>Linux 3.5.0 17 generic i686 with Ubuntu 12.10 quantal</td></tr><tr><td>numpy</td><td>1.9.1</td></tr><tr><td>scipy</td><td>0.10.1</td></tr><tr><td>matplotlib</td><td>1.1.1</td></tr><tr><td colspan='2'>Sun Dec 21 08:31:39 2014 CET</td></tr></table>"
      ],
      "text/latex": [
       "\\begin{tabular}{|l|l|}\\hline\n",
       "{\\bf Software} & {\\bf Version} \\\\ \\hline\\hline\n",
       "Python & 2.7.3 32bit [GCC 4.7.2] \\\\ \\hline\n",
       "IPython & 2.3.1 \\\\ \\hline\n",
       "OS & Linux 3.5.0 17 generic i686 with Ubuntu 12.10 quantal \\\\ \\hline\n",
       "numpy & 1.9.1 \\\\ \\hline\n",
       "scipy & 0.10.1 \\\\ \\hline\n",
       "matplotlib & 1.1.1 \\\\ \\hline\n",
       "\\hline \\multicolumn{2}{|l|}{Sun Dec 21 08:31:39 2014 CET} \\\\ \\hline\n",
       "\\end{tabular}\n"
      ],
      "text/plain": [
       "Software versions\n",
       "Python 2.7.3 32bit [GCC 4.7.2]\n",
       "IPython 2.3.1\n",
       "OS Linux 3.5.0 17 generic i686 with Ubuntu 12.10 quantal\n",
       "numpy 1.9.1\n",
       "scipy 0.10.1\n",
       "matplotlib 1.1.1\n",
       "Sun Dec 21 08:31:39 2014 CET"
      ]
     },
     "execution_count": 33,
     "metadata": {},
     "output_type": "execute_result"
    }
   ],
   "source": [
    "%load_ext version_information\n",
    "%version_information numpy, scipy, matplotlib"
   ]
  }
 ],
 "metadata": {
  "hide_input": false,
  "kernelspec": {
   "display_name": "Python 3",
   "language": "python",
   "name": "python3"
  },
  "language_info": {
   "codemirror_mode": {
    "name": "ipython",
    "version": 3
   },
   "file_extension": ".py",
   "mimetype": "text/x-python",
   "name": "python",
   "nbconvert_exporter": "python",
   "pygments_lexer": "ipython3",
   "version": "3.4.3"
  },
  "widgets": {
   "state": {},
   "version": "1.1.0"
  }
 },
 "nbformat": 4,
 "nbformat_minor": 0
}
