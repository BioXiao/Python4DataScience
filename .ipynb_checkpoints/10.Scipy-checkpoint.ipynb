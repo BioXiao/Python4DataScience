{
 "cells": [
  {
   "cell_type": "markdown",
   "metadata": {},
   "source": [
    "# Scipy"
   ]
  },
  {
   "cell_type": "markdown",
   "metadata": {},
   "source": [
    "### Special functions"
   ]
  },
  {
   "cell_type": "code",
   "execution_count": 3,
   "metadata": {
    "collapsed": false
   },
   "outputs": [
    {
     "name": "stdout",
     "output_type": "stream",
     "text": [
      "Populating the interactive namespace from numpy and matplotlib\n"
     ]
    }
   ],
   "source": [
    "%pylab inline\n",
    "from scipy import special"
   ]
  },
  {
   "cell_type": "code",
   "execution_count": 18,
   "metadata": {
    "collapsed": false
   },
   "outputs": [],
   "source": [
    "f=lambda x: special.jv(1,x),0,10"
   ]
  },
  {
   "cell_type": "code",
   "execution_count": 4,
   "metadata": {
    "collapsed": false
   },
   "outputs": [
    {
     "data": {
      "text/plain": [
       "(1.2459357644513485, 1.1600849628239913e-12)"
      ]
     },
     "execution_count": 4,
     "metadata": {},
     "output_type": "execute_result"
    }
   ],
   "source": [
    "from scipy import integrate as i\n",
    "i.quad(lambda x: special.jv(1,x),0,10)"
   ]
  },
  {
   "cell_type": "code",
   "execution_count": 5,
   "metadata": {
    "collapsed": false
   },
   "outputs": [],
   "source": [
    "from scipy.optimize import curve_fit\n",
    "##curve_fit()\n",
    "from scipy.optimize import leastsq\n",
    "##leastsq()"
   ]
  },
  {
   "cell_type": "code",
   "execution_count": 6,
   "metadata": {
    "collapsed": false
   },
   "outputs": [
    {
     "name": "stdout",
     "output_type": "stream",
     "text": [
      "1.02984215743 1.92689137175\n"
     ]
    },
    {
     "data": {
      "text/plain": [
       "[<matplotlib.lines.Line2D at 0xa54d4cc>]"
      ]
     },
     "execution_count": 6,
     "metadata": {},
     "output_type": "execute_result"
    },
    {
     "data": {
      "image/svg+xml": [
       "<?xml version=\"1.0\" encoding=\"utf-8\" standalone=\"no\"?>\n",
       "<!DOCTYPE svg PUBLIC \"-//W3C//DTD SVG 1.1//EN\"\n",
       "  \"http://www.w3.org/Graphics/SVG/1.1/DTD/svg11.dtd\">\n",
       "<!-- Created with matplotlib (http://matplotlib.sourceforge.net/) -->\n",
       "<svg height=\"301pt\" version=\"1.1\" viewBox=\"0 0 373 301\" width=\"373pt\" xmlns=\"http://www.w3.org/2000/svg\" xmlns:xlink=\"http://www.w3.org/1999/xlink\">\n",
       " <defs>\n",
       "  <style type=\"text/css\">\n",
       "*{stroke-linecap:square;stroke-linejoin:round;}\n",
       "  </style>\n",
       " </defs>\n",
       " <g id=\"figure_1\">\n",
       "  <g id=\"patch_1\">\n",
       "   <path d=\"\n",
       "M1.9984e-15 301.851\n",
       "L373.056 301.851\n",
       "L373.056 0\n",
       "L1.9984e-15 0\n",
       "z\n",
       "\" style=\"fill:none;\"/>\n",
       "  </g>\n",
       "  <g id=\"axes_1\">\n",
       "   <g id=\"patch_2\">\n",
       "    <path d=\"\n",
       "M24.4788 281.574\n",
       "L359.279 281.574\n",
       "L359.279 11.5744\n",
       "L24.4788 11.5744\n",
       "z\n",
       "\" style=\"fill:#ffffff;\"/>\n",
       "   </g>\n",
       "   <g id=\"line2d_1\">\n",
       "    <defs>\n",
       "     <path d=\"\n",
       "M0 3\n",
       "C0.795609 3 1.55874 2.6839 2.12132 2.12132\n",
       "C2.6839 1.55874 3 0.795609 3 0\n",
       "C3 -0.795609 2.6839 -1.55874 2.12132 -2.12132\n",
       "C1.55874 -2.6839 0.795609 -3 0 -3\n",
       "C-0.795609 -3 -1.55874 -2.6839 -2.12132 -2.12132\n",
       "C-2.6839 -1.55874 -3 -0.795609 -3 0\n",
       "C-3 0.795609 -2.6839 1.55874 -2.12132 2.12132\n",
       "C-1.55874 2.6839 -0.795609 3 0 3\n",
       "z\n",
       "\" id=\"m97ccdbe907\" style=\"stroke:#000000;stroke-linecap:butt;stroke-width:0.5;\"/>\n",
       "    </defs>\n",
       "    <g clip-path=\"url(#pc8f3a406fc)\">\n",
       "     <use style=\"fill:#0000ff;stroke:#000000;stroke-linecap:butt;stroke-width:0.5;\" x=\"24.47875\" xlink:href=\"#m97ccdbe907\" y=\"215.822270064\"/>\n",
       "     <use style=\"fill:#0000ff;stroke:#000000;stroke-linecap:butt;stroke-width:0.5;\" x=\"27.8605681818\" xlink:href=\"#m97ccdbe907\" y=\"221.410587751\"/>\n",
       "     <use style=\"fill:#0000ff;stroke:#000000;stroke-linecap:butt;stroke-width:0.5;\" x=\"31.2423863636\" xlink:href=\"#m97ccdbe907\" y=\"249.618212294\"/>\n",
       "     <use style=\"fill:#0000ff;stroke:#000000;stroke-linecap:butt;stroke-width:0.5;\" x=\"34.6242045455\" xlink:href=\"#m97ccdbe907\" y=\"263.1466222\"/>\n",
       "     <use style=\"fill:#0000ff;stroke:#000000;stroke-linecap:butt;stroke-width:0.5;\" x=\"38.0060227273\" xlink:href=\"#m97ccdbe907\" y=\"256.925119612\"/>\n",
       "     <use style=\"fill:#0000ff;stroke:#000000;stroke-linecap:butt;stroke-width:0.5;\" x=\"41.3878409091\" xlink:href=\"#m97ccdbe907\" y=\"238.790442645\"/>\n",
       "     <use style=\"fill:#0000ff;stroke:#000000;stroke-linecap:butt;stroke-width:0.5;\" x=\"44.7696590909\" xlink:href=\"#m97ccdbe907\" y=\"227.830016122\"/>\n",
       "     <use style=\"fill:#0000ff;stroke:#000000;stroke-linecap:butt;stroke-width:0.5;\" x=\"48.1514772727\" xlink:href=\"#m97ccdbe907\" y=\"251.496416555\"/>\n",
       "     <use style=\"fill:#0000ff;stroke:#000000;stroke-linecap:butt;stroke-width:0.5;\" x=\"51.5332954545\" xlink:href=\"#m97ccdbe907\" y=\"198.865374922\"/>\n",
       "     <use style=\"fill:#0000ff;stroke:#000000;stroke-linecap:butt;stroke-width:0.5;\" x=\"54.9151136364\" xlink:href=\"#m97ccdbe907\" y=\"214.504270739\"/>\n",
       "     <use style=\"fill:#0000ff;stroke:#000000;stroke-linecap:butt;stroke-width:0.5;\" x=\"58.2969318182\" xlink:href=\"#m97ccdbe907\" y=\"218.984035065\"/>\n",
       "     <use style=\"fill:#0000ff;stroke:#000000;stroke-linecap:butt;stroke-width:0.5;\" x=\"61.67875\" xlink:href=\"#m97ccdbe907\" y=\"236.819733644\"/>\n",
       "     <use style=\"fill:#0000ff;stroke:#000000;stroke-linecap:butt;stroke-width:0.5;\" x=\"65.0605681818\" xlink:href=\"#m97ccdbe907\" y=\"216.766542682\"/>\n",
       "     <use style=\"fill:#0000ff;stroke:#000000;stroke-linecap:butt;stroke-width:0.5;\" x=\"68.4423863636\" xlink:href=\"#m97ccdbe907\" y=\"211.758602982\"/>\n",
       "     <use style=\"fill:#0000ff;stroke:#000000;stroke-linecap:butt;stroke-width:0.5;\" x=\"71.8242045455\" xlink:href=\"#m97ccdbe907\" y=\"207.368418804\"/>\n",
       "     <use style=\"fill:#0000ff;stroke:#000000;stroke-linecap:butt;stroke-width:0.5;\" x=\"75.2060227273\" xlink:href=\"#m97ccdbe907\" y=\"204.143265871\"/>\n",
       "     <use style=\"fill:#0000ff;stroke:#000000;stroke-linecap:butt;stroke-width:0.5;\" x=\"78.5878409091\" xlink:href=\"#m97ccdbe907\" y=\"214.848158384\"/>\n",
       "     <use style=\"fill:#0000ff;stroke:#000000;stroke-linecap:butt;stroke-width:0.5;\" x=\"81.9696590909\" xlink:href=\"#m97ccdbe907\" y=\"194.980691956\"/>\n",
       "     <use style=\"fill:#0000ff;stroke:#000000;stroke-linecap:butt;stroke-width:0.5;\" x=\"85.3514772727\" xlink:href=\"#m97ccdbe907\" y=\"233.89210747\"/>\n",
       "     <use style=\"fill:#0000ff;stroke:#000000;stroke-linecap:butt;stroke-width:0.5;\" x=\"88.7332954545\" xlink:href=\"#m97ccdbe907\" y=\"173.156134756\"/>\n",
       "     <use style=\"fill:#0000ff;stroke:#000000;stroke-linecap:butt;stroke-width:0.5;\" x=\"92.1151136364\" xlink:href=\"#m97ccdbe907\" y=\"164.364893484\"/>\n",
       "     <use style=\"fill:#0000ff;stroke:#000000;stroke-linecap:butt;stroke-width:0.5;\" x=\"95.4969318182\" xlink:href=\"#m97ccdbe907\" y=\"208.037183427\"/>\n",
       "     <use style=\"fill:#0000ff;stroke:#000000;stroke-linecap:butt;stroke-width:0.5;\" x=\"98.87875\" xlink:href=\"#m97ccdbe907\" y=\"214.254412555\"/>\n",
       "     <use style=\"fill:#0000ff;stroke:#000000;stroke-linecap:butt;stroke-width:0.5;\" x=\"102.260568182\" xlink:href=\"#m97ccdbe907\" y=\"190.298894604\"/>\n",
       "     <use style=\"fill:#0000ff;stroke:#000000;stroke-linecap:butt;stroke-width:0.5;\" x=\"105.642386364\" xlink:href=\"#m97ccdbe907\" y=\"211.362770619\"/>\n",
       "     <use style=\"fill:#0000ff;stroke:#000000;stroke-linecap:butt;stroke-width:0.5;\" x=\"109.024204545\" xlink:href=\"#m97ccdbe907\" y=\"196.71640898\"/>\n",
       "     <use style=\"fill:#0000ff;stroke:#000000;stroke-linecap:butt;stroke-width:0.5;\" x=\"112.406022727\" xlink:href=\"#m97ccdbe907\" y=\"181.13013734\"/>\n",
       "     <use style=\"fill:#0000ff;stroke:#000000;stroke-linecap:butt;stroke-width:0.5;\" x=\"115.787840909\" xlink:href=\"#m97ccdbe907\" y=\"212.948710698\"/>\n",
       "     <use style=\"fill:#0000ff;stroke:#000000;stroke-linecap:butt;stroke-width:0.5;\" x=\"119.169659091\" xlink:href=\"#m97ccdbe907\" y=\"194.632018878\"/>\n",
       "     <use style=\"fill:#0000ff;stroke:#000000;stroke-linecap:butt;stroke-width:0.5;\" x=\"122.551477273\" xlink:href=\"#m97ccdbe907\" y=\"202.61873488\"/>\n",
       "     <use style=\"fill:#0000ff;stroke:#000000;stroke-linecap:butt;stroke-width:0.5;\" x=\"125.933295455\" xlink:href=\"#m97ccdbe907\" y=\"168.574269963\"/>\n",
       "     <use style=\"fill:#0000ff;stroke:#000000;stroke-linecap:butt;stroke-width:0.5;\" x=\"129.315113636\" xlink:href=\"#m97ccdbe907\" y=\"186.871258584\"/>\n",
       "     <use style=\"fill:#0000ff;stroke:#000000;stroke-linecap:butt;stroke-width:0.5;\" x=\"132.696931818\" xlink:href=\"#m97ccdbe907\" y=\"199.061957074\"/>\n",
       "     <use style=\"fill:#0000ff;stroke:#000000;stroke-linecap:butt;stroke-width:0.5;\" x=\"136.07875\" xlink:href=\"#m97ccdbe907\" y=\"161.970671385\"/>\n",
       "     <use style=\"fill:#0000ff;stroke:#000000;stroke-linecap:butt;stroke-width:0.5;\" x=\"139.460568182\" xlink:href=\"#m97ccdbe907\" y=\"179.583564863\"/>\n",
       "     <use style=\"fill:#0000ff;stroke:#000000;stroke-linecap:butt;stroke-width:0.5;\" x=\"142.842386364\" xlink:href=\"#m97ccdbe907\" y=\"160.86682574\"/>\n",
       "     <use style=\"fill:#0000ff;stroke:#000000;stroke-linecap:butt;stroke-width:0.5;\" x=\"146.224204545\" xlink:href=\"#m97ccdbe907\" y=\"179.975891394\"/>\n",
       "     <use style=\"fill:#0000ff;stroke:#000000;stroke-linecap:butt;stroke-width:0.5;\" x=\"149.606022727\" xlink:href=\"#m97ccdbe907\" y=\"153.812689391\"/>\n",
       "     <use style=\"fill:#0000ff;stroke:#000000;stroke-linecap:butt;stroke-width:0.5;\" x=\"152.987840909\" xlink:href=\"#m97ccdbe907\" y=\"175.297990615\"/>\n",
       "     <use style=\"fill:#0000ff;stroke:#000000;stroke-linecap:butt;stroke-width:0.5;\" x=\"156.369659091\" xlink:href=\"#m97ccdbe907\" y=\"138.419583942\"/>\n",
       "     <use style=\"fill:#0000ff;stroke:#000000;stroke-linecap:butt;stroke-width:0.5;\" x=\"159.751477273\" xlink:href=\"#m97ccdbe907\" y=\"171.635619427\"/>\n",
       "     <use style=\"fill:#0000ff;stroke:#000000;stroke-linecap:butt;stroke-width:0.5;\" x=\"163.133295455\" xlink:href=\"#m97ccdbe907\" y=\"181.595864645\"/>\n",
       "     <use style=\"fill:#0000ff;stroke:#000000;stroke-linecap:butt;stroke-width:0.5;\" x=\"166.515113636\" xlink:href=\"#m97ccdbe907\" y=\"173.34726287\"/>\n",
       "     <use style=\"fill:#0000ff;stroke:#000000;stroke-linecap:butt;stroke-width:0.5;\" x=\"169.896931818\" xlink:href=\"#m97ccdbe907\" y=\"166.976839996\"/>\n",
       "     <use style=\"fill:#0000ff;stroke:#000000;stroke-linecap:butt;stroke-width:0.5;\" x=\"173.27875\" xlink:href=\"#m97ccdbe907\" y=\"180.938865684\"/>\n",
       "     <use style=\"fill:#0000ff;stroke:#000000;stroke-linecap:butt;stroke-width:0.5;\" x=\"176.660568182\" xlink:href=\"#m97ccdbe907\" y=\"161.545238828\"/>\n",
       "     <use style=\"fill:#0000ff;stroke:#000000;stroke-linecap:butt;stroke-width:0.5;\" x=\"180.042386364\" xlink:href=\"#m97ccdbe907\" y=\"155.587755412\"/>\n",
       "     <use style=\"fill:#0000ff;stroke:#000000;stroke-linecap:butt;stroke-width:0.5;\" x=\"183.424204545\" xlink:href=\"#m97ccdbe907\" y=\"132.356956049\"/>\n",
       "     <use style=\"fill:#0000ff;stroke:#000000;stroke-linecap:butt;stroke-width:0.5;\" x=\"186.806022727\" xlink:href=\"#m97ccdbe907\" y=\"169.351442715\"/>\n",
       "     <use style=\"fill:#0000ff;stroke:#000000;stroke-linecap:butt;stroke-width:0.5;\" x=\"190.187840909\" xlink:href=\"#m97ccdbe907\" y=\"134.285517983\"/>\n",
       "     <use style=\"fill:#0000ff;stroke:#000000;stroke-linecap:butt;stroke-width:0.5;\" x=\"193.569659091\" xlink:href=\"#m97ccdbe907\" y=\"177.163034125\"/>\n",
       "     <use style=\"fill:#0000ff;stroke:#000000;stroke-linecap:butt;stroke-width:0.5;\" x=\"196.951477273\" xlink:href=\"#m97ccdbe907\" y=\"165.740428207\"/>\n",
       "     <use style=\"fill:#0000ff;stroke:#000000;stroke-linecap:butt;stroke-width:0.5;\" x=\"200.333295455\" xlink:href=\"#m97ccdbe907\" y=\"142.606753387\"/>\n",
       "     <use style=\"fill:#0000ff;stroke:#000000;stroke-linecap:butt;stroke-width:0.5;\" x=\"203.715113636\" xlink:href=\"#m97ccdbe907\" y=\"141.497131166\"/>\n",
       "     <use style=\"fill:#0000ff;stroke:#000000;stroke-linecap:butt;stroke-width:0.5;\" x=\"207.096931818\" xlink:href=\"#m97ccdbe907\" y=\"150.846444026\"/>\n",
       "     <use style=\"fill:#0000ff;stroke:#000000;stroke-linecap:butt;stroke-width:0.5;\" x=\"210.47875\" xlink:href=\"#m97ccdbe907\" y=\"147.88241722\"/>\n",
       "     <use style=\"fill:#0000ff;stroke:#000000;stroke-linecap:butt;stroke-width:0.5;\" x=\"213.860568182\" xlink:href=\"#m97ccdbe907\" y=\"134.314004304\"/>\n",
       "     <use style=\"fill:#0000ff;stroke:#000000;stroke-linecap:butt;stroke-width:0.5;\" x=\"217.242386364\" xlink:href=\"#m97ccdbe907\" y=\"148.530059076\"/>\n",
       "     <use style=\"fill:#0000ff;stroke:#000000;stroke-linecap:butt;stroke-width:0.5;\" x=\"220.624204545\" xlink:href=\"#m97ccdbe907\" y=\"112.401117817\"/>\n",
       "     <use style=\"fill:#0000ff;stroke:#000000;stroke-linecap:butt;stroke-width:0.5;\" x=\"224.006022727\" xlink:href=\"#m97ccdbe907\" y=\"113.742970493\"/>\n",
       "     <use style=\"fill:#0000ff;stroke:#000000;stroke-linecap:butt;stroke-width:0.5;\" x=\"227.387840909\" xlink:href=\"#m97ccdbe907\" y=\"121.060613216\"/>\n",
       "     <use style=\"fill:#0000ff;stroke:#000000;stroke-linecap:butt;stroke-width:0.5;\" x=\"230.769659091\" xlink:href=\"#m97ccdbe907\" y=\"131.533058218\"/>\n",
       "     <use style=\"fill:#0000ff;stroke:#000000;stroke-linecap:butt;stroke-width:0.5;\" x=\"234.151477273\" xlink:href=\"#m97ccdbe907\" y=\"124.302824785\"/>\n",
       "     <use style=\"fill:#0000ff;stroke:#000000;stroke-linecap:butt;stroke-width:0.5;\" x=\"237.533295455\" xlink:href=\"#m97ccdbe907\" y=\"118.041490242\"/>\n",
       "     <use style=\"fill:#0000ff;stroke:#000000;stroke-linecap:butt;stroke-width:0.5;\" x=\"240.915113636\" xlink:href=\"#m97ccdbe907\" y=\"116.035625443\"/>\n",
       "     <use style=\"fill:#0000ff;stroke:#000000;stroke-linecap:butt;stroke-width:0.5;\" x=\"244.296931818\" xlink:href=\"#m97ccdbe907\" y=\"83.2226145478\"/>\n",
       "     <use style=\"fill:#0000ff;stroke:#000000;stroke-linecap:butt;stroke-width:0.5;\" x=\"247.67875\" xlink:href=\"#m97ccdbe907\" y=\"99.3829054317\"/>\n",
       "     <use style=\"fill:#0000ff;stroke:#000000;stroke-linecap:butt;stroke-width:0.5;\" x=\"251.060568182\" xlink:href=\"#m97ccdbe907\" y=\"100.183121962\"/>\n",
       "     <use style=\"fill:#0000ff;stroke:#000000;stroke-linecap:butt;stroke-width:0.5;\" x=\"254.442386364\" xlink:href=\"#m97ccdbe907\" y=\"115.194325757\"/>\n",
       "     <use style=\"fill:#0000ff;stroke:#000000;stroke-linecap:butt;stroke-width:0.5;\" x=\"257.824204545\" xlink:href=\"#m97ccdbe907\" y=\"76.2424960543\"/>\n",
       "     <use style=\"fill:#0000ff;stroke:#000000;stroke-linecap:butt;stroke-width:0.5;\" x=\"261.206022727\" xlink:href=\"#m97ccdbe907\" y=\"109.40256573\"/>\n",
       "     <use style=\"fill:#0000ff;stroke:#000000;stroke-linecap:butt;stroke-width:0.5;\" x=\"264.587840909\" xlink:href=\"#m97ccdbe907\" y=\"97.6015755777\"/>\n",
       "     <use style=\"fill:#0000ff;stroke:#000000;stroke-linecap:butt;stroke-width:0.5;\" x=\"267.969659091\" xlink:href=\"#m97ccdbe907\" y=\"113.471346539\"/>\n",
       "     <use style=\"fill:#0000ff;stroke:#000000;stroke-linecap:butt;stroke-width:0.5;\" x=\"271.351477273\" xlink:href=\"#m97ccdbe907\" y=\"106.553193111\"/>\n",
       "     <use style=\"fill:#0000ff;stroke:#000000;stroke-linecap:butt;stroke-width:0.5;\" x=\"274.733295455\" xlink:href=\"#m97ccdbe907\" y=\"116.851914713\"/>\n",
       "     <use style=\"fill:#0000ff;stroke:#000000;stroke-linecap:butt;stroke-width:0.5;\" x=\"278.115113636\" xlink:href=\"#m97ccdbe907\" y=\"80.6283720943\"/>\n",
       "     <use style=\"fill:#0000ff;stroke:#000000;stroke-linecap:butt;stroke-width:0.5;\" x=\"281.496931818\" xlink:href=\"#m97ccdbe907\" y=\"49.1953646294\"/>\n",
       "     <use style=\"fill:#0000ff;stroke:#000000;stroke-linecap:butt;stroke-width:0.5;\" x=\"284.87875\" xlink:href=\"#m97ccdbe907\" y=\"87.7439734126\"/>\n",
       "     <use style=\"fill:#0000ff;stroke:#000000;stroke-linecap:butt;stroke-width:0.5;\" x=\"288.260568182\" xlink:href=\"#m97ccdbe907\" y=\"86.4094885673\"/>\n",
       "     <use style=\"fill:#0000ff;stroke:#000000;stroke-linecap:butt;stroke-width:0.5;\" x=\"291.642386364\" xlink:href=\"#m97ccdbe907\" y=\"93.268128756\"/>\n",
       "     <use style=\"fill:#0000ff;stroke:#000000;stroke-linecap:butt;stroke-width:0.5;\" x=\"295.024204545\" xlink:href=\"#m97ccdbe907\" y=\"86.7446687852\"/>\n",
       "     <use style=\"fill:#0000ff;stroke:#000000;stroke-linecap:butt;stroke-width:0.5;\" x=\"298.406022727\" xlink:href=\"#m97ccdbe907\" y=\"98.977768678\"/>\n",
       "     <use style=\"fill:#0000ff;stroke:#000000;stroke-linecap:butt;stroke-width:0.5;\" x=\"301.787840909\" xlink:href=\"#m97ccdbe907\" y=\"65.7018172334\"/>\n",
       "     <use style=\"fill:#0000ff;stroke:#000000;stroke-linecap:butt;stroke-width:0.5;\" x=\"305.169659091\" xlink:href=\"#m97ccdbe907\" y=\"69.9408360856\"/>\n",
       "     <use style=\"fill:#0000ff;stroke:#000000;stroke-linecap:butt;stroke-width:0.5;\" x=\"308.551477273\" xlink:href=\"#m97ccdbe907\" y=\"83.3878219429\"/>\n",
       "     <use style=\"fill:#0000ff;stroke:#000000;stroke-linecap:butt;stroke-width:0.5;\" x=\"311.933295455\" xlink:href=\"#m97ccdbe907\" y=\"86.0585577864\"/>\n",
       "     <use style=\"fill:#0000ff;stroke:#000000;stroke-linecap:butt;stroke-width:0.5;\" x=\"315.315113636\" xlink:href=\"#m97ccdbe907\" y=\"47.176625745\"/>\n",
       "     <use style=\"fill:#0000ff;stroke:#000000;stroke-linecap:butt;stroke-width:0.5;\" x=\"318.696931818\" xlink:href=\"#m97ccdbe907\" y=\"60.8678291881\"/>\n",
       "     <use style=\"fill:#0000ff;stroke:#000000;stroke-linecap:butt;stroke-width:0.5;\" x=\"322.07875\" xlink:href=\"#m97ccdbe907\" y=\"55.6910011942\"/>\n",
       "     <use style=\"fill:#0000ff;stroke:#000000;stroke-linecap:butt;stroke-width:0.5;\" x=\"325.460568182\" xlink:href=\"#m97ccdbe907\" y=\"40.0987751808\"/>\n",
       "     <use style=\"fill:#0000ff;stroke:#000000;stroke-linecap:butt;stroke-width:0.5;\" x=\"328.842386364\" xlink:href=\"#m97ccdbe907\" y=\"91.550313551\"/>\n",
       "     <use style=\"fill:#0000ff;stroke:#000000;stroke-linecap:butt;stroke-width:0.5;\" x=\"332.224204545\" xlink:href=\"#m97ccdbe907\" y=\"73.7507136698\"/>\n",
       "     <use style=\"fill:#0000ff;stroke:#000000;stroke-linecap:butt;stroke-width:0.5;\" x=\"335.606022727\" xlink:href=\"#m97ccdbe907\" y=\"76.8925367778\"/>\n",
       "     <use style=\"fill:#0000ff;stroke:#000000;stroke-linecap:butt;stroke-width:0.5;\" x=\"338.987840909\" xlink:href=\"#m97ccdbe907\" y=\"59.4263442702\"/>\n",
       "     <use style=\"fill:#0000ff;stroke:#000000;stroke-linecap:butt;stroke-width:0.5;\" x=\"342.369659091\" xlink:href=\"#m97ccdbe907\" y=\"84.6300442739\"/>\n",
       "     <use style=\"fill:#0000ff;stroke:#000000;stroke-linecap:butt;stroke-width:0.5;\" x=\"345.751477273\" xlink:href=\"#m97ccdbe907\" y=\"51.687171575\"/>\n",
       "     <use style=\"fill:#0000ff;stroke:#000000;stroke-linecap:butt;stroke-width:0.5;\" x=\"349.133295455\" xlink:href=\"#m97ccdbe907\" y=\"39.0968708913\"/>\n",
       "     <use style=\"fill:#0000ff;stroke:#000000;stroke-linecap:butt;stroke-width:0.5;\" x=\"352.515113636\" xlink:href=\"#m97ccdbe907\" y=\"49.3069910446\"/>\n",
       "     <use style=\"fill:#0000ff;stroke:#000000;stroke-linecap:butt;stroke-width:0.5;\" x=\"355.896931818\" xlink:href=\"#m97ccdbe907\" y=\"48.8722764253\"/>\n",
       "     <use style=\"fill:#0000ff;stroke:#000000;stroke-linecap:butt;stroke-width:0.5;\" x=\"359.27875\" xlink:href=\"#m97ccdbe907\" y=\"20.2134711151\"/>\n",
       "    </g>\n",
       "   </g>\n",
       "   <g id=\"line2d_2\">\n",
       "    <path clip-path=\"url(#pc8f3a406fc)\" d=\"\n",
       "M24.4788 244.413\n",
       "L27.8606 242.407\n",
       "L31.2424 240.401\n",
       "L34.6242 238.394\n",
       "L38.006 236.388\n",
       "L41.3878 234.382\n",
       "L44.7697 232.376\n",
       "L48.1515 230.37\n",
       "L51.5333 228.363\n",
       "L54.9151 226.357\n",
       "L58.2969 224.351\n",
       "L61.6788 222.345\n",
       "L65.0606 220.339\n",
       "L68.4424 218.332\n",
       "L71.8242 216.326\n",
       "L75.206 214.32\n",
       "L78.5878 212.314\n",
       "L81.9697 210.308\n",
       "L85.3515 208.302\n",
       "L88.7333 206.295\n",
       "L92.1151 204.289\n",
       "L95.4969 202.283\n",
       "L98.8788 200.277\n",
       "L102.261 198.271\n",
       "L105.642 196.264\n",
       "L109.024 194.258\n",
       "L112.406 192.252\n",
       "L115.788 190.246\n",
       "L119.17 188.24\n",
       "L122.551 186.234\n",
       "L125.933 184.227\n",
       "L129.315 182.221\n",
       "L132.697 180.215\n",
       "L136.079 178.209\n",
       "L139.461 176.203\n",
       "L142.842 174.196\n",
       "L146.224 172.19\n",
       "L149.606 170.184\n",
       "L152.988 168.178\n",
       "L156.37 166.172\n",
       "L159.751 164.165\n",
       "L163.133 162.159\n",
       "L166.515 160.153\n",
       "L169.897 158.147\n",
       "L173.279 156.141\n",
       "L176.661 154.135\n",
       "L180.042 152.128\n",
       "L183.424 150.122\n",
       "L186.806 148.116\n",
       "L190.188 146.11\n",
       "L193.57 144.104\n",
       "L196.951 142.097\n",
       "L200.333 140.091\n",
       "L203.715 138.085\n",
       "L207.097 136.079\n",
       "L210.479 134.073\n",
       "L213.861 132.066\n",
       "L217.242 130.06\n",
       "L220.624 128.054\n",
       "L224.006 126.048\n",
       "L227.388 124.042\n",
       "L230.77 122.036\n",
       "L234.151 120.029\n",
       "L237.533 118.023\n",
       "L240.915 116.017\n",
       "L244.297 114.011\n",
       "L247.679 112.005\n",
       "L251.061 109.998\n",
       "L254.442 107.992\n",
       "L257.824 105.986\n",
       "L261.206 103.98\n",
       "L264.588 101.974\n",
       "L267.97 99.9675\n",
       "L271.351 97.9613\n",
       "L274.733 95.9551\n",
       "L278.115 93.9489\n",
       "L281.497 91.9428\n",
       "L284.879 89.9366\n",
       "L288.261 87.9304\n",
       "L291.642 85.9242\n",
       "L295.024 83.918\n",
       "L298.406 81.9118\n",
       "L301.788 79.9056\n",
       "L305.17 77.8995\n",
       "L308.551 75.8933\n",
       "L311.933 73.8871\n",
       "L315.315 71.8809\n",
       "L318.697 69.8747\n",
       "L322.079 67.8685\n",
       "L325.461 65.8623\n",
       "L328.842 63.8562\n",
       "L332.224 61.85\n",
       "L335.606 59.8438\n",
       "L338.988 57.8376\n",
       "L342.37 55.8314\n",
       "L345.751 53.8252\n",
       "L349.133 51.819\n",
       "L352.515 49.8129\n",
       "L355.897 47.8067\n",
       "L359.279 45.8005\" style=\"fill:none;stroke:#ff0000;\"/>\n",
       "   </g>\n",
       "   <g id=\"matplotlib.axis_1\">\n",
       "    <g id=\"xtick_1\">\n",
       "     <g id=\"line2d_3\">\n",
       "      <defs>\n",
       "       <path d=\"\n",
       "M0 0\n",
       "L0 -4\" id=\"m0012dd4eef\" style=\"stroke:#000000;stroke-linecap:butt;stroke-width:0.5;\"/>\n",
       "      </defs>\n",
       "      <g>\n",
       "       <use style=\"stroke:#000000;stroke-linecap:butt;stroke-width:0.5;\" x=\"24.47875\" xlink:href=\"#m0012dd4eef\" y=\"281.574375\"/>\n",
       "      </g>\n",
       "     </g>\n",
       "     <g id=\"line2d_4\">\n",
       "      <defs>\n",
       "       <path d=\"\n",
       "M0 0\n",
       "L0 4\" id=\"m476344969c\" style=\"stroke:#000000;stroke-linecap:butt;stroke-width:0.5;\"/>\n",
       "      </defs>\n",
       "      <g>\n",
       "       <use style=\"stroke:#000000;stroke-linecap:butt;stroke-width:0.5;\" x=\"24.47875\" xlink:href=\"#m476344969c\" y=\"11.574375\"/>\n",
       "      </g>\n",
       "     </g>\n",
       "     <g id=\"text_1\">\n",
       "      <!-- 0 -->\n",
       "      <defs>\n",
       "       <path d=\"\n",
       "M31.7812 66.4062\n",
       "Q24.1719 66.4062 20.3281 58.9062\n",
       "Q16.5 51.4219 16.5 36.375\n",
       "Q16.5 21.3906 20.3281 13.8906\n",
       "Q24.1719 6.39062 31.7812 6.39062\n",
       "Q39.4531 6.39062 43.2812 13.8906\n",
       "Q47.125 21.3906 47.125 36.375\n",
       "Q47.125 51.4219 43.2812 58.9062\n",
       "Q39.4531 66.4062 31.7812 66.4062\n",
       "M31.7812 74.2188\n",
       "Q44.0469 74.2188 50.5156 64.5156\n",
       "Q56.9844 54.8281 56.9844 36.375\n",
       "Q56.9844 17.9688 50.5156 8.26562\n",
       "Q44.0469 -1.42188 31.7812 -1.42188\n",
       "Q19.5312 -1.42188 13.0625 8.26562\n",
       "Q6.59375 17.9688 6.59375 36.375\n",
       "Q6.59375 54.8281 13.0625 64.5156\n",
       "Q19.5312 74.2188 31.7812 74.2188\" id=\"DejaVuSans-30\"/>\n",
       "      </defs>\n",
       "      <g transform=\"translate(21.4553125 294.480625)scale(0.12 -0.12)\">\n",
       "       <use xlink:href=\"#DejaVuSans-30\"/>\n",
       "      </g>\n",
       "     </g>\n",
       "    </g>\n",
       "    <g id=\"xtick_2\">\n",
       "     <g id=\"line2d_5\">\n",
       "      <g>\n",
       "       <use style=\"stroke:#000000;stroke-linecap:butt;stroke-width:0.5;\" x=\"91.43875\" xlink:href=\"#m0012dd4eef\" y=\"281.574375\"/>\n",
       "      </g>\n",
       "     </g>\n",
       "     <g id=\"line2d_6\">\n",
       "      <g>\n",
       "       <use style=\"stroke:#000000;stroke-linecap:butt;stroke-width:0.5;\" x=\"91.43875\" xlink:href=\"#m476344969c\" y=\"11.574375\"/>\n",
       "      </g>\n",
       "     </g>\n",
       "     <g id=\"text_2\">\n",
       "      <!-- 2 -->\n",
       "      <defs>\n",
       "       <path d=\"\n",
       "M19.1875 8.29688\n",
       "L53.6094 8.29688\n",
       "L53.6094 0\n",
       "L7.32812 0\n",
       "L7.32812 8.29688\n",
       "Q12.9375 14.1094 22.625 23.8906\n",
       "Q32.3281 33.6875 34.8125 36.5312\n",
       "Q39.5469 41.8438 41.4219 45.5312\n",
       "Q43.3125 49.2188 43.3125 52.7812\n",
       "Q43.3125 58.5938 39.2344 62.25\n",
       "Q35.1562 65.9219 28.6094 65.9219\n",
       "Q23.9688 65.9219 18.8125 64.3125\n",
       "Q13.6719 62.7031 7.8125 59.4219\n",
       "L7.8125 69.3906\n",
       "Q13.7656 71.7812 18.9375 73\n",
       "Q24.125 74.2188 28.4219 74.2188\n",
       "Q39.75 74.2188 46.4844 68.5469\n",
       "Q53.2188 62.8906 53.2188 53.4219\n",
       "Q53.2188 48.9219 51.5312 44.8906\n",
       "Q49.8594 40.875 45.4062 35.4062\n",
       "Q44.1875 33.9844 37.6406 27.2188\n",
       "Q31.1094 20.4531 19.1875 8.29688\" id=\"DejaVuSans-32\"/>\n",
       "      </defs>\n",
       "      <g transform=\"translate(88.661875 294.480625)scale(0.12 -0.12)\">\n",
       "       <use xlink:href=\"#DejaVuSans-32\"/>\n",
       "      </g>\n",
       "     </g>\n",
       "    </g>\n",
       "    <g id=\"xtick_3\">\n",
       "     <g id=\"line2d_7\">\n",
       "      <g>\n",
       "       <use style=\"stroke:#000000;stroke-linecap:butt;stroke-width:0.5;\" x=\"158.39875\" xlink:href=\"#m0012dd4eef\" y=\"281.574375\"/>\n",
       "      </g>\n",
       "     </g>\n",
       "     <g id=\"line2d_8\">\n",
       "      <g>\n",
       "       <use style=\"stroke:#000000;stroke-linecap:butt;stroke-width:0.5;\" x=\"158.39875\" xlink:href=\"#m476344969c\" y=\"11.574375\"/>\n",
       "      </g>\n",
       "     </g>\n",
       "     <g id=\"text_3\">\n",
       "      <!-- 4 -->\n",
       "      <defs>\n",
       "       <path d=\"\n",
       "M37.7969 64.3125\n",
       "L12.8906 25.3906\n",
       "L37.7969 25.3906\n",
       "z\n",
       "\n",
       "M35.2031 72.9062\n",
       "L47.6094 72.9062\n",
       "L47.6094 25.3906\n",
       "L58.0156 25.3906\n",
       "L58.0156 17.1875\n",
       "L47.6094 17.1875\n",
       "L47.6094 0\n",
       "L37.7969 0\n",
       "L37.7969 17.1875\n",
       "L4.89062 17.1875\n",
       "L4.89062 26.7031\n",
       "z\n",
       "\" id=\"DejaVuSans-34\"/>\n",
       "      </defs>\n",
       "      <g transform=\"translate(155.21125 294.323125)scale(0.12 -0.12)\">\n",
       "       <use xlink:href=\"#DejaVuSans-34\"/>\n",
       "      </g>\n",
       "     </g>\n",
       "    </g>\n",
       "    <g id=\"xtick_4\">\n",
       "     <g id=\"line2d_9\">\n",
       "      <g>\n",
       "       <use style=\"stroke:#000000;stroke-linecap:butt;stroke-width:0.5;\" x=\"225.35875\" xlink:href=\"#m0012dd4eef\" y=\"281.574375\"/>\n",
       "      </g>\n",
       "     </g>\n",
       "     <g id=\"line2d_10\">\n",
       "      <g>\n",
       "       <use style=\"stroke:#000000;stroke-linecap:butt;stroke-width:0.5;\" x=\"225.35875\" xlink:href=\"#m476344969c\" y=\"11.574375\"/>\n",
       "      </g>\n",
       "     </g>\n",
       "     <g id=\"text_4\">\n",
       "      <!-- 6 -->\n",
       "      <defs>\n",
       "       <path d=\"\n",
       "M33.0156 40.375\n",
       "Q26.375 40.375 22.4844 35.8281\n",
       "Q18.6094 31.2969 18.6094 23.3906\n",
       "Q18.6094 15.5312 22.4844 10.9531\n",
       "Q26.375 6.39062 33.0156 6.39062\n",
       "Q39.6562 6.39062 43.5312 10.9531\n",
       "Q47.4062 15.5312 47.4062 23.3906\n",
       "Q47.4062 31.2969 43.5312 35.8281\n",
       "Q39.6562 40.375 33.0156 40.375\n",
       "M52.5938 71.2969\n",
       "L52.5938 62.3125\n",
       "Q48.875 64.0625 45.0938 64.9844\n",
       "Q41.3125 65.9219 37.5938 65.9219\n",
       "Q27.8281 65.9219 22.6719 59.3281\n",
       "Q17.5312 52.7344 16.7969 39.4062\n",
       "Q19.6719 43.6562 24.0156 45.9219\n",
       "Q28.375 48.1875 33.5938 48.1875\n",
       "Q44.5781 48.1875 50.9531 41.5156\n",
       "Q57.3281 34.8594 57.3281 23.3906\n",
       "Q57.3281 12.1562 50.6875 5.35938\n",
       "Q44.0469 -1.42188 33.0156 -1.42188\n",
       "Q20.3594 -1.42188 13.6719 8.26562\n",
       "Q6.98438 17.9688 6.98438 36.375\n",
       "Q6.98438 53.6562 15.1875 63.9375\n",
       "Q23.3906 74.2188 37.2031 74.2188\n",
       "Q40.9219 74.2188 44.7031 73.4844\n",
       "Q48.4844 72.75 52.5938 71.2969\" id=\"DejaVuSans-36\"/>\n",
       "      </defs>\n",
       "      <g transform=\"translate(222.338125 294.480625)scale(0.12 -0.12)\">\n",
       "       <use xlink:href=\"#DejaVuSans-36\"/>\n",
       "      </g>\n",
       "     </g>\n",
       "    </g>\n",
       "    <g id=\"xtick_5\">\n",
       "     <g id=\"line2d_11\">\n",
       "      <g>\n",
       "       <use style=\"stroke:#000000;stroke-linecap:butt;stroke-width:0.5;\" x=\"292.31875\" xlink:href=\"#m0012dd4eef\" y=\"281.574375\"/>\n",
       "      </g>\n",
       "     </g>\n",
       "     <g id=\"line2d_12\">\n",
       "      <g>\n",
       "       <use style=\"stroke:#000000;stroke-linecap:butt;stroke-width:0.5;\" x=\"292.31875\" xlink:href=\"#m476344969c\" y=\"11.574375\"/>\n",
       "      </g>\n",
       "     </g>\n",
       "     <g id=\"text_5\">\n",
       "      <!-- 8 -->\n",
       "      <defs>\n",
       "       <path d=\"\n",
       "M31.7812 34.625\n",
       "Q24.75 34.625 20.7188 30.8594\n",
       "Q16.7031 27.0938 16.7031 20.5156\n",
       "Q16.7031 13.9219 20.7188 10.1562\n",
       "Q24.75 6.39062 31.7812 6.39062\n",
       "Q38.8125 6.39062 42.8594 10.1719\n",
       "Q46.9219 13.9688 46.9219 20.5156\n",
       "Q46.9219 27.0938 42.8906 30.8594\n",
       "Q38.875 34.625 31.7812 34.625\n",
       "M21.9219 38.8125\n",
       "Q15.5781 40.375 12.0312 44.7188\n",
       "Q8.5 49.0781 8.5 55.3281\n",
       "Q8.5 64.0625 14.7188 69.1406\n",
       "Q20.9531 74.2188 31.7812 74.2188\n",
       "Q42.6719 74.2188 48.875 69.1406\n",
       "Q55.0781 64.0625 55.0781 55.3281\n",
       "Q55.0781 49.0781 51.5312 44.7188\n",
       "Q48 40.375 41.7031 38.8125\n",
       "Q48.8281 37.1562 52.7969 32.3125\n",
       "Q56.7812 27.4844 56.7812 20.5156\n",
       "Q56.7812 9.90625 50.3125 4.23438\n",
       "Q43.8438 -1.42188 31.7812 -1.42188\n",
       "Q19.7344 -1.42188 13.25 4.23438\n",
       "Q6.78125 9.90625 6.78125 20.5156\n",
       "Q6.78125 27.4844 10.7812 32.3125\n",
       "Q14.7969 37.1562 21.9219 38.8125\n",
       "M18.3125 54.3906\n",
       "Q18.3125 48.7344 21.8438 45.5625\n",
       "Q25.3906 42.3906 31.7812 42.3906\n",
       "Q38.1406 42.3906 41.7188 45.5625\n",
       "Q45.3125 48.7344 45.3125 54.3906\n",
       "Q45.3125 60.0625 41.7188 63.2344\n",
       "Q38.1406 66.4062 31.7812 66.4062\n",
       "Q25.3906 66.4062 21.8438 63.2344\n",
       "Q18.3125 60.0625 18.3125 54.3906\" id=\"DejaVuSans-38\"/>\n",
       "      </defs>\n",
       "      <g transform=\"translate(289.31875 294.480625)scale(0.12 -0.12)\">\n",
       "       <use xlink:href=\"#DejaVuSans-38\"/>\n",
       "      </g>\n",
       "     </g>\n",
       "    </g>\n",
       "    <g id=\"xtick_6\">\n",
       "     <g id=\"line2d_13\">\n",
       "      <g>\n",
       "       <use style=\"stroke:#000000;stroke-linecap:butt;stroke-width:0.5;\" x=\"359.27875\" xlink:href=\"#m0012dd4eef\" y=\"281.574375\"/>\n",
       "      </g>\n",
       "     </g>\n",
       "     <g id=\"line2d_14\">\n",
       "      <g>\n",
       "       <use style=\"stroke:#000000;stroke-linecap:butt;stroke-width:0.5;\" x=\"359.27875\" xlink:href=\"#m476344969c\" y=\"11.574375\"/>\n",
       "      </g>\n",
       "     </g>\n",
       "     <g id=\"text_6\">\n",
       "      <!-- 10 -->\n",
       "      <defs>\n",
       "       <path d=\"\n",
       "M12.4062 8.29688\n",
       "L28.5156 8.29688\n",
       "L28.5156 63.9219\n",
       "L10.9844 60.4062\n",
       "L10.9844 69.3906\n",
       "L28.4219 72.9062\n",
       "L38.2812 72.9062\n",
       "L38.2812 8.29688\n",
       "L54.3906 8.29688\n",
       "L54.3906 0\n",
       "L12.4062 0\n",
       "z\n",
       "\" id=\"DejaVuSans-31\"/>\n",
       "      </defs>\n",
       "      <g transform=\"translate(352.70125 294.480625)scale(0.12 -0.12)\">\n",
       "       <use xlink:href=\"#DejaVuSans-31\"/>\n",
       "       <use x=\"63.623046875\" xlink:href=\"#DejaVuSans-30\"/>\n",
       "      </g>\n",
       "     </g>\n",
       "    </g>\n",
       "   </g>\n",
       "   <g id=\"matplotlib.axis_2\">\n",
       "    <g id=\"ytick_1\">\n",
       "     <g id=\"line2d_15\">\n",
       "      <defs>\n",
       "       <path d=\"\n",
       "M0 0\n",
       "L4 0\" id=\"me8a85f7bf6\" style=\"stroke:#000000;stroke-linecap:butt;stroke-width:0.5;\"/>\n",
       "      </defs>\n",
       "      <g>\n",
       "       <use style=\"stroke:#000000;stroke-linecap:butt;stroke-width:0.5;\" x=\"24.47875\" xlink:href=\"#me8a85f7bf6\" y=\"281.574375\"/>\n",
       "      </g>\n",
       "     </g>\n",
       "     <g id=\"line2d_16\">\n",
       "      <defs>\n",
       "       <path d=\"\n",
       "M0 0\n",
       "L-4 0\" id=\"m1a32005dea\" style=\"stroke:#000000;stroke-linecap:butt;stroke-width:0.5;\"/>\n",
       "      </defs>\n",
       "      <g>\n",
       "       <use style=\"stroke:#000000;stroke-linecap:butt;stroke-width:0.5;\" x=\"359.27875\" xlink:href=\"#m1a32005dea\" y=\"281.574375\"/>\n",
       "      </g>\n",
       "     </g>\n",
       "     <g id=\"text_7\">\n",
       "      <!-- 0 -->\n",
       "      <g transform=\"translate(14.431875 285.9421875)scale(0.12 -0.12)\">\n",
       "       <use xlink:href=\"#DejaVuSans-30\"/>\n",
       "      </g>\n",
       "     </g>\n",
       "    </g>\n",
       "    <g id=\"ytick_2\">\n",
       "     <g id=\"line2d_17\">\n",
       "      <g>\n",
       "       <use style=\"stroke:#000000;stroke-linecap:butt;stroke-width:0.5;\" x=\"24.47875\" xlink:href=\"#me8a85f7bf6\" y=\"243.002946429\"/>\n",
       "      </g>\n",
       "     </g>\n",
       "     <g id=\"line2d_18\">\n",
       "      <g>\n",
       "       <use style=\"stroke:#000000;stroke-linecap:butt;stroke-width:0.5;\" x=\"359.27875\" xlink:href=\"#m1a32005dea\" y=\"243.002946429\"/>\n",
       "      </g>\n",
       "     </g>\n",
       "     <g id=\"text_8\">\n",
       "      <!-- 2 -->\n",
       "      <g transform=\"translate(14.925 247.456071429)scale(0.12 -0.12)\">\n",
       "       <use xlink:href=\"#DejaVuSans-32\"/>\n",
       "      </g>\n",
       "     </g>\n",
       "    </g>\n",
       "    <g id=\"ytick_3\">\n",
       "     <g id=\"line2d_19\">\n",
       "      <g>\n",
       "       <use style=\"stroke:#000000;stroke-linecap:butt;stroke-width:0.5;\" x=\"24.47875\" xlink:href=\"#me8a85f7bf6\" y=\"204.431517857\"/>\n",
       "      </g>\n",
       "     </g>\n",
       "     <g id=\"line2d_20\">\n",
       "      <g>\n",
       "       <use style=\"stroke:#000000;stroke-linecap:butt;stroke-width:0.5;\" x=\"359.27875\" xlink:href=\"#m1a32005dea\" y=\"204.431517857\"/>\n",
       "      </g>\n",
       "     </g>\n",
       "     <g id=\"text_9\">\n",
       "      <!-- 4 -->\n",
       "      <g transform=\"translate(14.10375 208.805892857)scale(0.12 -0.12)\">\n",
       "       <use xlink:href=\"#DejaVuSans-34\"/>\n",
       "      </g>\n",
       "     </g>\n",
       "    </g>\n",
       "    <g id=\"ytick_4\">\n",
       "     <g id=\"line2d_21\">\n",
       "      <g>\n",
       "       <use style=\"stroke:#000000;stroke-linecap:butt;stroke-width:0.5;\" x=\"24.47875\" xlink:href=\"#me8a85f7bf6\" y=\"165.860089286\"/>\n",
       "      </g>\n",
       "     </g>\n",
       "     <g id=\"line2d_22\">\n",
       "      <g>\n",
       "       <use style=\"stroke:#000000;stroke-linecap:butt;stroke-width:0.5;\" x=\"359.27875\" xlink:href=\"#m1a32005dea\" y=\"165.860089286\"/>\n",
       "      </g>\n",
       "     </g>\n",
       "     <g id=\"text_10\">\n",
       "      <!-- 6 -->\n",
       "      <g transform=\"translate(14.4375 170.227901786)scale(0.12 -0.12)\">\n",
       "       <use xlink:href=\"#DejaVuSans-36\"/>\n",
       "      </g>\n",
       "     </g>\n",
       "    </g>\n",
       "    <g id=\"ytick_5\">\n",
       "     <g id=\"line2d_23\">\n",
       "      <g>\n",
       "       <use style=\"stroke:#000000;stroke-linecap:butt;stroke-width:0.5;\" x=\"24.47875\" xlink:href=\"#me8a85f7bf6\" y=\"127.288660714\"/>\n",
       "      </g>\n",
       "     </g>\n",
       "     <g id=\"line2d_24\">\n",
       "      <g>\n",
       "       <use style=\"stroke:#000000;stroke-linecap:butt;stroke-width:0.5;\" x=\"359.27875\" xlink:href=\"#m1a32005dea\" y=\"127.288660714\"/>\n",
       "      </g>\n",
       "     </g>\n",
       "     <g id=\"text_11\">\n",
       "      <!-- 8 -->\n",
       "      <g transform=\"translate(14.47875 131.656473214)scale(0.12 -0.12)\">\n",
       "       <use xlink:href=\"#DejaVuSans-38\"/>\n",
       "      </g>\n",
       "     </g>\n",
       "    </g>\n",
       "    <g id=\"ytick_6\">\n",
       "     <g id=\"line2d_25\">\n",
       "      <g>\n",
       "       <use style=\"stroke:#000000;stroke-linecap:butt;stroke-width:0.5;\" x=\"24.47875\" xlink:href=\"#me8a85f7bf6\" y=\"88.7172321429\"/>\n",
       "      </g>\n",
       "     </g>\n",
       "     <g id=\"line2d_26\">\n",
       "      <g>\n",
       "       <use style=\"stroke:#000000;stroke-linecap:butt;stroke-width:0.5;\" x=\"359.27875\" xlink:href=\"#m1a32005dea\" y=\"88.7172321429\"/>\n",
       "      </g>\n",
       "     </g>\n",
       "     <g id=\"text_12\">\n",
       "      <!-- 10 -->\n",
       "      <g transform=\"translate(7.32375 93.0850446429)scale(0.12 -0.12)\">\n",
       "       <use xlink:href=\"#DejaVuSans-31\"/>\n",
       "       <use x=\"63.623046875\" xlink:href=\"#DejaVuSans-30\"/>\n",
       "      </g>\n",
       "     </g>\n",
       "    </g>\n",
       "    <g id=\"ytick_7\">\n",
       "     <g id=\"line2d_27\">\n",
       "      <g>\n",
       "       <use style=\"stroke:#000000;stroke-linecap:butt;stroke-width:0.5;\" x=\"24.47875\" xlink:href=\"#me8a85f7bf6\" y=\"50.1458035714\"/>\n",
       "      </g>\n",
       "     </g>\n",
       "     <g id=\"line2d_28\">\n",
       "      <g>\n",
       "       <use style=\"stroke:#000000;stroke-linecap:butt;stroke-width:0.5;\" x=\"359.27875\" xlink:href=\"#m1a32005dea\" y=\"50.1458035714\"/>\n",
       "      </g>\n",
       "     </g>\n",
       "     <g id=\"text_13\">\n",
       "      <!-- 12 -->\n",
       "      <g transform=\"translate(7.72875 54.5989285714)scale(0.12 -0.12)\">\n",
       "       <use xlink:href=\"#DejaVuSans-31\"/>\n",
       "       <use x=\"63.623046875\" xlink:href=\"#DejaVuSans-32\"/>\n",
       "      </g>\n",
       "     </g>\n",
       "    </g>\n",
       "    <g id=\"ytick_8\">\n",
       "     <g id=\"line2d_29\">\n",
       "      <g>\n",
       "       <use style=\"stroke:#000000;stroke-linecap:butt;stroke-width:0.5;\" x=\"24.47875\" xlink:href=\"#me8a85f7bf6\" y=\"11.574375\"/>\n",
       "      </g>\n",
       "     </g>\n",
       "     <g id=\"line2d_30\">\n",
       "      <g>\n",
       "       <use style=\"stroke:#000000;stroke-linecap:butt;stroke-width:0.5;\" x=\"359.27875\" xlink:href=\"#m1a32005dea\" y=\"11.574375\"/>\n",
       "      </g>\n",
       "     </g>\n",
       "     <g id=\"text_14\">\n",
       "      <!-- 14 -->\n",
       "      <g transform=\"translate(7.2 15.94875)scale(0.12 -0.12)\">\n",
       "       <use xlink:href=\"#DejaVuSans-31\"/>\n",
       "       <use x=\"63.623046875\" xlink:href=\"#DejaVuSans-34\"/>\n",
       "      </g>\n",
       "     </g>\n",
       "    </g>\n",
       "   </g>\n",
       "   <g id=\"patch_3\">\n",
       "    <path d=\"\n",
       "M24.4788 11.5744\n",
       "L359.279 11.5744\" style=\"fill:none;stroke:#000000;\"/>\n",
       "   </g>\n",
       "   <g id=\"patch_4\">\n",
       "    <path d=\"\n",
       "M359.279 281.574\n",
       "L359.279 11.5744\" style=\"fill:none;stroke:#000000;\"/>\n",
       "   </g>\n",
       "   <g id=\"patch_5\">\n",
       "    <path d=\"\n",
       "M24.4788 281.574\n",
       "L359.279 281.574\" style=\"fill:none;stroke:#000000;\"/>\n",
       "   </g>\n",
       "   <g id=\"patch_6\">\n",
       "    <path d=\"\n",
       "M24.4788 281.574\n",
       "L24.4788 11.5744\" style=\"fill:none;stroke:#000000;\"/>\n",
       "   </g>\n",
       "  </g>\n",
       " </g>\n",
       " <defs>\n",
       "  <clipPath id=\"pc8f3a406fc\">\n",
       "   <rect height=\"270.0\" width=\"334.8\" x=\"24.47875\" y=\"11.574375\"/>\n",
       "  </clipPath>\n",
       " </defs>\n",
       "</svg>\n"
      ],
      "text/plain": [
       "<matplotlib.figure.Figure at 0xa4af52c>"
      ]
     },
     "metadata": {},
     "output_type": "display_data"
    }
   ],
   "source": [
    "import numpy as np\n",
    "from scipy.optimize import curve_fit\n",
    "# Creating a function to model and create data\n",
    "def func(x, a, b):\n",
    "    return a * x + b\n",
    "# Generating clean data\n",
    "x = np.linspace(0, 10, 100)\n",
    "y = func(x, 1, 2)\n",
    "# Adding noise to the data\n",
    "yn = y + 0.9 * np.random.normal(size=len(x))\n",
    "# Executing curve_fit on noisy data\n",
    "popt, pcov = curve_fit(func, x, yn)\n",
    "# popt returns the best fit values for parameters of\n",
    "# the given model (func).\n",
    "print(popt[0],popt[1])\n",
    "plot(x,yn,'o')\n",
    "yc=popt[1]+popt[0]*x\n",
    "plot(x,yc,'r')"
   ]
  },
  {
   "cell_type": "code",
   "execution_count": 1,
   "metadata": {
    "collapsed": false
   },
   "outputs": [],
   "source": [
    "#\n",
    "# The scipy.special module includes a large number of Bessel-functions\n",
    "# Here we will use the functions jn and yn, which are the Bessel functions \n",
    "# of the first and second kind and real-valued order. We also include the \n",
    "# function jn_zeros and yn_zeros that gives the zeres of the functions jn\n",
    "# and yn.\n",
    "#\n",
    "from scipy.special import jn, yn, jn_zeros, yn_zeros"
   ]
  },
  {
   "cell_type": "code",
   "execution_count": 2,
   "metadata": {
    "collapsed": false
   },
   "outputs": [
    {
     "name": "stdout",
     "output_type": "stream",
     "text": [
      "J_0(0.000000) = 1.000000\n",
      "Y_0(1.000000) = 0.088257\n"
     ]
    }
   ],
   "source": [
    "n = 0    # order\n",
    "x = 0.0\n",
    "\n",
    "# Bessel function of first kind\n",
    "print \"J_%d(%f) = %f\" % (n, x, jn(n, x))\n",
    "\n",
    "x = 1.0\n",
    "# Bessel function of second kind\n",
    "print \"Y_%d(%f) = %f\" % (n, x, yn(n, x))"
   ]
  },
  {
   "cell_type": "code",
   "execution_count": 9,
   "metadata": {
    "collapsed": false
   },
   "outputs": [
    {
     "data": {
      "image/png": "[encoded data removed]",
      "text/plain": [
       "<matplotlib.figure.Figure at 0x97c99cc>"
      ]
     },
     "metadata": {},
     "output_type": "display_data"
    }
   ],
   "source": [
    "x = linspace(0, 10, 100)\n",
    "\n",
    "fig, ax = subplots()\n",
    "for n in range(4):\n",
    "    ax.plot(x, jn(n, x), label=r\"$J_%d(x)$\" % n)\n",
    "ax.legend();"
   ]
  },
  {
   "cell_type": "code",
   "execution_count": 4,
   "metadata": {
    "collapsed": false
   },
   "outputs": [
    {
     "data": {
      "text/plain": [
       "''"
      ]
     },
     "execution_count": 4,
     "metadata": {},
     "output_type": "execute_result"
    }
   ],
   "source": [
    "_\n"
   ]
  },
  {
   "cell_type": "code",
   "execution_count": 5,
   "metadata": {
    "collapsed": false
   },
   "outputs": [
    {
     "data": {
      "text/plain": [
       "''"
      ]
     },
     "execution_count": 5,
     "metadata": {},
     "output_type": "execute_result"
    }
   ],
   "source": [
    "_"
   ]
  },
  {
   "cell_type": "code",
   "execution_count": 8,
   "metadata": {
    "collapsed": false
   },
   "outputs": [
    {
     "data": {
      "text/plain": [
       "{3: '', 4: '', 5: ''}"
      ]
     },
     "execution_count": 8,
     "metadata": {},
     "output_type": "execute_result"
    }
   ],
   "source": [
    "Out\n"
   ]
  },
  {
   "cell_type": "markdown",
   "metadata": {},
   "source": [
    "--------------------------"
   ]
  },
  {
   "cell_type": "code",
   "execution_count": 8,
   "metadata": {
    "collapsed": false
   },
   "outputs": [
    {
     "name": "stdout",
     "output_type": "stream",
     "text": [
      " info(object=None, maxwidth=76,\n",
      "      output=<IPython.kernel.zmq.iostream.OutStream object at 0x91ff70c>,\n",
      "      toplevel='numpy')\n",
      "\n",
      "Get help information for a function, class, or module.\n",
      "\n",
      "Parameters\n",
      "----------\n",
      "object : object or str, optional\n",
      "    Input object or name to get information about. If `object` is a\n",
      "    numpy object, its docstring is given. If it is a string, available\n",
      "    modules are searched for matching objects.  If None, information\n",
      "    about `info` itself is returned.\n",
      "maxwidth : int, optional\n",
      "    Printing width.\n",
      "output : file like object, optional\n",
      "    File like object that the output is written to, default is\n",
      "    ``stdout``.  The object has to be opened in 'w' or 'a' mode.\n",
      "toplevel : str, optional\n",
      "    Start search at this level.\n",
      "\n",
      "See Also\n",
      "--------\n",
      "source, lookfor\n",
      "\n",
      "Notes\n",
      "-----\n",
      "When used interactively with an object, ``np.info(obj)`` is equivalent\n",
      "to ``help(obj)`` on the Python prompt or ``obj?`` on the IPython\n",
      "prompt.\n",
      "\n",
      "Examples\n",
      "--------\n",
      ">>> np.info(np.polyval) # doctest: +SKIP\n",
      "   polyval(p, x)\n",
      "     Evaluate the polynomial p at x.\n",
      "     ...\n",
      "\n",
      "When using a string for `object` it is possible to get multiple results.\n",
      "\n",
      ">>> np.info('fft') # doctest: +SKIP\n",
      "     *** Found in numpy ***\n",
      "Core FFT routines\n",
      "...\n",
      "     *** Found in numpy.fft ***\n",
      " fft(a, n=None, axis=-1)\n",
      "...\n",
      "     *** Repeat reference found in numpy.fft.fftpack ***\n",
      "     *** Total of 3 references found. ***\n"
     ]
    }
   ],
   "source": [
    "import scipy as sp\n",
    "sp.info()"
   ]
  },
  {
   "cell_type": "markdown",
   "metadata": {},
   "source": [
    "------------------"
   ]
  },
  {
   "cell_type": "markdown",
   "metadata": {},
   "source": [
    "### GNU OCTAVE (MATLAB CLONE)"
   ]
  },
  {
   "cell_type": "markdown",
   "metadata": {},
   "source": [
    "Oct2Py is a means to seamlessly call M-files and Octave functions from Python. It manages the Octave session for you, sharing data behind the scenes using MAT files. Usage is as simple as:"
   ]
  },
  {
   "cell_type": "code",
   "execution_count": 10,
   "metadata": {
    "collapsed": false
   },
   "outputs": [],
   "source": [
    "import scipy.io as sci"
   ]
  },
  {
   "cell_type": "code",
   "execution_count": 12,
   "metadata": {
    "collapsed": false
   },
   "outputs": [],
   "source": [
    "%load_ext oct2py.ipython "
   ]
  },
  {
   "cell_type": "code",
   "execution_count": 17,
   "metadata": {
    "collapsed": false
   },
   "outputs": [
    {
     "data": {
      "text/plain": []
     },
     "metadata": {},
     "output_type": "display_data"
    }
   ],
   "source": [
    "%%octave\n",
    "a=1:10;\n",
    "save -6 octave_a.mat a"
   ]
  },
  {
   "cell_type": "code",
   "execution_count": 18,
   "metadata": {
    "collapsed": false
   },
   "outputs": [
    {
     "name": "stdout",
     "output_type": "stream",
     "text": [
      "Computational physics.ipynb  Pandas.ipynb  Scipy.ipynb\toctave_a.mat\r\n"
     ]
    }
   ],
   "source": [
    "!ls"
   ]
  },
  {
   "cell_type": "code",
   "execution_count": 73,
   "metadata": {
    "collapsed": false
   },
   "outputs": [
    {
     "name": "stdout",
     "output_type": "stream",
     "text": [
      "(1, 10)\n"
     ]
    },
    {
     "data": {
      "text/plain": [
       "3.0"
      ]
     },
     "execution_count": 73,
     "metadata": {},
     "output_type": "execute_result"
    }
   ],
   "source": [
    "mat_contents = scio.loadmat(\"octave_a.mat\")\n",
    "a=mat_contents['a']\n",
    "print(a.shape)\n",
    "(a.ravel())[2]     ## return 1D  and then standard indexing\n",
    "(a.reshape(10))[2] ## reshape as 1D array\n",
    "((a.T)[:])         ## still a 10x1 array \n",
    "(a[:][0])[2]       ## get only the first"
   ]
  },
  {
   "cell_type": "code",
   "execution_count": 41,
   "metadata": {
    "collapsed": false
   },
   "outputs": [
    {
     "data": {
      "text/plain": [
       "numpy.ndarray"
      ]
     },
     "execution_count": 41,
     "metadata": {},
     "output_type": "execute_result"
    }
   ],
   "source": [
    "type(a)"
   ]
  },
  {
   "cell_type": "code",
   "execution_count": 46,
   "metadata": {
    "collapsed": false
   },
   "outputs": [
    {
     "data": {
      "text/plain": [
       "(10,)"
      ]
     },
     "execution_count": 46,
     "metadata": {},
     "output_type": "execute_result"
    }
   ],
   "source": [
    "a.shape\n",
    "a[0]"
   ]
  },
  {
   "cell_type": "code",
   "execution_count": 104,
   "metadata": {
    "collapsed": false
   },
   "outputs": [
    {
     "data": {
      "text/plain": [
       "(array([[  1.],\n",
       "        [  2.],\n",
       "        [  3.],\n",
       "        [  4.],\n",
       "        [  5.],\n",
       "        [  6.],\n",
       "        [  7.],\n",
       "        [  8.],\n",
       "        [  9.],\n",
       "        [ 10.]]), 'a')"
      ]
     },
     "execution_count": 104,
     "metadata": {},
     "output_type": "execute_result"
    }
   ],
   "source": [
    "import pandas as pd\n",
    "((mat_contents['a']).T,mat_contents.keys()[0])"
   ]
  },
  {
   "cell_type": "code",
   "execution_count": 102,
   "metadata": {
    "collapsed": false
   },
   "outputs": [
    {
     "data": {
      "text/plain": [
       "0                                                    a\n",
       "1    [[1.0, 2.0, 3.0, 4.0, 5.0, 6.0, 7.0, 8.0, 9.0,...\n",
       "dtype: object"
      ]
     },
     "execution_count": 102,
     "metadata": {},
     "output_type": "execute_result"
    }
   ],
   "source": [
    "pd.Series(mat_contents.items()[0])"
   ]
  }
 ],
 "metadata": {
  "hide_input": false,
  "kernelspec": {
   "display_name": "Python 3",
   "language": "python",
   "name": "python3"
  },
  "language_info": {
   "codemirror_mode": {
    "name": "ipython",
    "version": 3
   },
   "file_extension": ".py",
   "mimetype": "text/x-python",
   "name": "python",
   "nbconvert_exporter": "python",
   "pygments_lexer": "ipython3",
   "version": "3.4.3"
  },
  "widgets": {
   "state": {},
   "version": "1.1.0"
  }
 },
 "nbformat": 4,
 "nbformat_minor": 0
}
