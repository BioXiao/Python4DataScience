{
 "cells": [
  {
   "cell_type": "markdown",
   "metadata": {},
   "source": [
    "## Matplotlib serialization"
   ]
  },
  {
   "cell_type": "markdown",
   "metadata": {},
   "source": [
    "A work in progress\n",
    "\n",
    "### PICKLE"
   ]
  },
  {
   "cell_type": "code",
   "execution_count": 2,
   "metadata": {
    "collapsed": false
   },
   "outputs": [
    {
     "ename": "NameError",
     "evalue": "name 'arange' is not defined",
     "output_type": "error",
     "traceback": [
      "\u001b[1;31m---------------------------------------------------------------------------\u001b[0m\n\u001b[1;31mNameError\u001b[0m                                 Traceback (most recent call last)",
      "\u001b[1;32m<ipython-input-2-9bdaa2e8c8ce>\u001b[0m in \u001b[0;36m<module>\u001b[1;34m()\u001b[0m\n\u001b[0;32m      5\u001b[0m \u001b[1;31m###data = BytesIO()\u001b[0m\u001b[1;33m\u001b[0m\u001b[1;33m\u001b[0m\u001b[0m\n\u001b[0;32m      6\u001b[0m \u001b[1;33m\u001b[0m\u001b[0m\n\u001b[1;32m----> 7\u001b[1;33m \u001b[0mArray\u001b[0m\u001b[1;33m=\u001b[0m\u001b[0marange\u001b[0m\u001b[1;33m(\u001b[0m\u001b[1;36m10\u001b[0m\u001b[1;33m)\u001b[0m\u001b[1;33m\u001b[0m\u001b[0m\n\u001b[0m",
      "\u001b[1;31mNameError\u001b[0m: name 'arange' is not defined"
     ]
    }
   ],
   "source": [
    "import pickle\n",
    "import json\n",
    "file=\"/home/ubuntu/tmp.fi\"\n",
    "from io import  BytesIO\n",
    "###data = BytesIO()\n",
    "\n",
    "Array=arange(10)"
   ]
  },
  {
   "cell_type": "code",
   "execution_count": 3,
   "metadata": {
    "collapsed": false
   },
   "outputs": [
    {
     "ename": "NameError",
     "evalue": "name 'Array' is not defined",
     "output_type": "error",
     "traceback": [
      "\u001b[1;31m---------------------------------------------------------------------------\u001b[0m\n\u001b[1;31mNameError\u001b[0m                                 Traceback (most recent call last)",
      "\u001b[1;32m<ipython-input-3-63f9b948f698>\u001b[0m in \u001b[0;36m<module>\u001b[1;34m()\u001b[0m\n\u001b[0;32m      1\u001b[0m \u001b[0mf\u001b[0m\u001b[1;33m=\u001b[0m\u001b[0mopen\u001b[0m\u001b[1;33m(\u001b[0m\u001b[0mfile\u001b[0m\u001b[1;33m,\u001b[0m\u001b[1;34m'wb'\u001b[0m\u001b[1;33m)\u001b[0m\u001b[1;33m\u001b[0m\u001b[0m\n\u001b[0;32m      2\u001b[0m \u001b[1;31m##json.dump(Array,f) array([0, 1, 2, 3, 4, 5, 6, 7, 8, 9]) is not JSON serializable  ????\u001b[0m\u001b[1;33m\u001b[0m\u001b[1;33m\u001b[0m\u001b[0m\n\u001b[1;32m----> 3\u001b[1;33m \u001b[0mpickle\u001b[0m\u001b[1;33m.\u001b[0m\u001b[0mdump\u001b[0m\u001b[1;33m(\u001b[0m\u001b[0mArray\u001b[0m\u001b[1;33m,\u001b[0m\u001b[0mf\u001b[0m\u001b[1;33m)\u001b[0m\u001b[1;33m\u001b[0m\u001b[0m\n\u001b[0m\u001b[0;32m      4\u001b[0m \u001b[0mf\u001b[0m\u001b[1;33m.\u001b[0m\u001b[0mclose\u001b[0m\u001b[1;33m(\u001b[0m\u001b[1;33m)\u001b[0m\u001b[1;33m\u001b[0m\u001b[0m\n",
      "\u001b[1;31mNameError\u001b[0m: name 'Array' is not defined"
     ]
    }
   ],
   "source": [
    "f=open(file,'wb')\n",
    "##json.dump(Array,f) array([0, 1, 2, 3, 4, 5, 6, 7, 8, 9]) is not JSON serializable  ????\n",
    "pickle.dump(Array,f)\n",
    "f.close()"
   ]
  },
  {
   "cell_type": "code",
   "execution_count": 4,
   "metadata": {
    "collapsed": false
   },
   "outputs": [
    {
     "ename": "EOFError",
     "evalue": "",
     "output_type": "error",
     "traceback": [
      "\u001b[1;31m---------------------------------------------------------------------------\u001b[0m\n\u001b[1;31mEOFError\u001b[0m                                  Traceback (most recent call last)",
      "\u001b[1;32m<ipython-input-4-3a9888711019>\u001b[0m in \u001b[0;36m<module>\u001b[1;34m()\u001b[0m\n\u001b[0;32m      1\u001b[0m \u001b[0mf\u001b[0m\u001b[1;33m=\u001b[0m\u001b[0mopen\u001b[0m\u001b[1;33m(\u001b[0m\u001b[0mfile\u001b[0m\u001b[1;33m,\u001b[0m\u001b[1;34m'rb'\u001b[0m\u001b[1;33m)\u001b[0m\u001b[1;33m\u001b[0m\u001b[0m\n\u001b[1;32m----> 2\u001b[1;33m \u001b[0mArray\u001b[0m\u001b[1;33m=\u001b[0m\u001b[0mpickle\u001b[0m\u001b[1;33m.\u001b[0m\u001b[0mload\u001b[0m\u001b[1;33m(\u001b[0m\u001b[0mf\u001b[0m\u001b[1;33m)\u001b[0m\u001b[1;33m\u001b[0m\u001b[0m\n\u001b[0m\u001b[0;32m      3\u001b[0m \u001b[0mf\u001b[0m\u001b[1;33m.\u001b[0m\u001b[0mclose\u001b[0m\u001b[1;33m(\u001b[0m\u001b[1;33m)\u001b[0m\u001b[1;33m\u001b[0m\u001b[0m\n\u001b[0;32m      4\u001b[0m \u001b[1;32mprint\u001b[0m\u001b[1;33m(\u001b[0m\u001b[0mArray\u001b[0m\u001b[1;33m)\u001b[0m\u001b[1;33m\u001b[0m\u001b[0m\n",
      "\u001b[1;32m/usr/lib/python2.7/pickle.pyc\u001b[0m in \u001b[0;36mload\u001b[1;34m(file)\u001b[0m\n\u001b[0;32m   1376\u001b[0m \u001b[1;33m\u001b[0m\u001b[0m\n\u001b[0;32m   1377\u001b[0m \u001b[1;32mdef\u001b[0m \u001b[0mload\u001b[0m\u001b[1;33m(\u001b[0m\u001b[0mfile\u001b[0m\u001b[1;33m)\u001b[0m\u001b[1;33m:\u001b[0m\u001b[1;33m\u001b[0m\u001b[0m\n\u001b[1;32m-> 1378\u001b[1;33m     \u001b[1;32mreturn\u001b[0m \u001b[0mUnpickler\u001b[0m\u001b[1;33m(\u001b[0m\u001b[0mfile\u001b[0m\u001b[1;33m)\u001b[0m\u001b[1;33m.\u001b[0m\u001b[0mload\u001b[0m\u001b[1;33m(\u001b[0m\u001b[1;33m)\u001b[0m\u001b[1;33m\u001b[0m\u001b[0m\n\u001b[0m\u001b[0;32m   1379\u001b[0m \u001b[1;33m\u001b[0m\u001b[0m\n\u001b[0;32m   1380\u001b[0m \u001b[1;32mdef\u001b[0m \u001b[0mloads\u001b[0m\u001b[1;33m(\u001b[0m\u001b[0mstr\u001b[0m\u001b[1;33m)\u001b[0m\u001b[1;33m:\u001b[0m\u001b[1;33m\u001b[0m\u001b[0m\n",
      "\u001b[1;32m/usr/lib/python2.7/pickle.pyc\u001b[0m in \u001b[0;36mload\u001b[1;34m(self)\u001b[0m\n\u001b[0;32m    856\u001b[0m             \u001b[1;32mwhile\u001b[0m \u001b[1;36m1\u001b[0m\u001b[1;33m:\u001b[0m\u001b[1;33m\u001b[0m\u001b[0m\n\u001b[0;32m    857\u001b[0m                 \u001b[0mkey\u001b[0m \u001b[1;33m=\u001b[0m \u001b[0mread\u001b[0m\u001b[1;33m(\u001b[0m\u001b[1;36m1\u001b[0m\u001b[1;33m)\u001b[0m\u001b[1;33m\u001b[0m\u001b[0m\n\u001b[1;32m--> 858\u001b[1;33m                 \u001b[0mdispatch\u001b[0m\u001b[1;33m[\u001b[0m\u001b[0mkey\u001b[0m\u001b[1;33m]\u001b[0m\u001b[1;33m(\u001b[0m\u001b[0mself\u001b[0m\u001b[1;33m)\u001b[0m\u001b[1;33m\u001b[0m\u001b[0m\n\u001b[0m\u001b[0;32m    859\u001b[0m         \u001b[1;32mexcept\u001b[0m \u001b[0m_Stop\u001b[0m\u001b[1;33m,\u001b[0m \u001b[0mstopinst\u001b[0m\u001b[1;33m:\u001b[0m\u001b[1;33m\u001b[0m\u001b[0m\n\u001b[0;32m    860\u001b[0m             \u001b[1;32mreturn\u001b[0m \u001b[0mstopinst\u001b[0m\u001b[1;33m.\u001b[0m\u001b[0mvalue\u001b[0m\u001b[1;33m\u001b[0m\u001b[0m\n",
      "\u001b[1;32m/usr/lib/python2.7/pickle.pyc\u001b[0m in \u001b[0;36mload_eof\u001b[1;34m(self)\u001b[0m\n\u001b[0;32m    878\u001b[0m \u001b[1;33m\u001b[0m\u001b[0m\n\u001b[0;32m    879\u001b[0m     \u001b[1;32mdef\u001b[0m \u001b[0mload_eof\u001b[0m\u001b[1;33m(\u001b[0m\u001b[0mself\u001b[0m\u001b[1;33m)\u001b[0m\u001b[1;33m:\u001b[0m\u001b[1;33m\u001b[0m\u001b[0m\n\u001b[1;32m--> 880\u001b[1;33m         \u001b[1;32mraise\u001b[0m \u001b[0mEOFError\u001b[0m\u001b[1;33m\u001b[0m\u001b[0m\n\u001b[0m\u001b[0;32m    881\u001b[0m     \u001b[0mdispatch\u001b[0m\u001b[1;33m[\u001b[0m\u001b[1;34m''\u001b[0m\u001b[1;33m]\u001b[0m \u001b[1;33m=\u001b[0m \u001b[0mload_eof\u001b[0m\u001b[1;33m\u001b[0m\u001b[0m\n\u001b[0;32m    882\u001b[0m \u001b[1;33m\u001b[0m\u001b[0m\n",
      "\u001b[1;31mEOFError\u001b[0m: "
     ]
    }
   ],
   "source": [
    "f=open(file,'rb')\n",
    "Array=pickle.load(f)\n",
    "f.close()\n",
    "print(Array)"
   ]
  },
  {
   "cell_type": "markdown",
   "metadata": {},
   "source": [
    "### JSONPICKLE"
   ]
  },
  {
   "cell_type": "code",
   "execution_count": 5,
   "metadata": {
    "collapsed": false
   },
   "outputs": [
    {
     "ename": "NameError",
     "evalue": "name 'Array' is not defined",
     "output_type": "error",
     "traceback": [
      "\u001b[1;31m---------------------------------------------------------------------------\u001b[0m\n\u001b[1;31mNameError\u001b[0m                                 Traceback (most recent call last)",
      "\u001b[1;32m<ipython-input-5-f0e9158a497f>\u001b[0m in \u001b[0;36m<module>\u001b[1;34m()\u001b[0m\n\u001b[0;32m      1\u001b[0m \u001b[1;32mimport\u001b[0m \u001b[0mjsonpickle\u001b[0m\u001b[1;33m\u001b[0m\u001b[0m\n\u001b[1;32m----> 2\u001b[1;33m \u001b[0mArray\u001b[0m\u001b[1;33m\u001b[0m\u001b[0m\n\u001b[0m",
      "\u001b[1;31mNameError\u001b[0m: name 'Array' is not defined"
     ]
    }
   ],
   "source": [
    "import jsonpickle\n",
    "Array"
   ]
  },
  {
   "cell_type": "code",
   "execution_count": 6,
   "metadata": {
    "collapsed": false
   },
   "outputs": [
    {
     "ename": "NameError",
     "evalue": "name 'arange' is not defined",
     "output_type": "error",
     "traceback": [
      "\u001b[1;31m---------------------------------------------------------------------------\u001b[0m\n\u001b[1;31mNameError\u001b[0m                                 Traceback (most recent call last)",
      "\u001b[1;32m<ipython-input-6-6896401c3b9c>\u001b[0m in \u001b[0;36m<module>\u001b[1;34m()\u001b[0m\n\u001b[1;32m----> 1\u001b[1;33m \u001b[0mArray\u001b[0m\u001b[1;33m=\u001b[0m\u001b[0marange\u001b[0m\u001b[1;33m(\u001b[0m\u001b[1;36m10\u001b[0m\u001b[1;33m)\u001b[0m\u001b[1;33m\u001b[0m\u001b[0m\n\u001b[0m\u001b[0;32m      2\u001b[0m \u001b[0meArray\u001b[0m\u001b[1;33m=\u001b[0m\u001b[0mjsonpickle\u001b[0m\u001b[1;33m.\u001b[0m\u001b[0mencode\u001b[0m\u001b[1;33m(\u001b[0m\u001b[0mArray\u001b[0m\u001b[1;33m)\u001b[0m\u001b[1;33m\u001b[0m\u001b[0m\n\u001b[0;32m      3\u001b[0m \u001b[1;32mprint\u001b[0m\u001b[1;33m(\u001b[0m\u001b[0meArray\u001b[0m\u001b[1;33m)\u001b[0m \u001b[1;31m###########\u001b[0m\u001b[1;33m\u001b[0m\u001b[0m\n",
      "\u001b[1;31mNameError\u001b[0m: name 'arange' is not defined"
     ]
    }
   ],
   "source": [
    "Array=arange(10)\n",
    "eArray=jsonpickle.encode(Array)\n",
    "print(eArray) ###########"
   ]
  },
  {
   "cell_type": "raw",
   "metadata": {},
   "source": [
    "Notebooks are json file"
   ]
  },
  {
   "cell_type": "code",
   "execution_count": 7,
   "metadata": {
    "collapsed": false
   },
   "outputs": [
    {
     "ename": "NameError",
     "evalue": "name 'plot' is not defined",
     "output_type": "error",
     "traceback": [
      "\u001b[1;31m---------------------------------------------------------------------------\u001b[0m\n\u001b[1;31mNameError\u001b[0m                                 Traceback (most recent call last)",
      "\u001b[1;32m<ipython-input-7-b958e1239eb4>\u001b[0m in \u001b[0;36m<module>\u001b[1;34m()\u001b[0m\n\u001b[1;32m----> 1\u001b[1;33m \u001b[0mplot\u001b[0m\u001b[1;33m(\u001b[0m\u001b[0marange\u001b[0m\u001b[1;33m(\u001b[0m\u001b[1;36m10\u001b[0m\u001b[1;33m)\u001b[0m\u001b[1;33m)\u001b[0m\u001b[1;33m\u001b[0m\u001b[0m\n\u001b[0m\u001b[0;32m      2\u001b[0m \u001b[0mfig\u001b[0m\u001b[1;33m=\u001b[0m\u001b[0mgcf\u001b[0m\u001b[1;33m(\u001b[0m\u001b[1;33m)\u001b[0m\u001b[1;33m\u001b[0m\u001b[0m\n",
      "\u001b[1;31mNameError\u001b[0m: name 'plot' is not defined"
     ]
    }
   ],
   "source": [
    "plot(arange(10))\n",
    "fig=gcf()"
   ]
  },
  {
   "cell_type": "code",
   "execution_count": 8,
   "metadata": {
    "collapsed": false
   },
   "outputs": [],
   "source": [
    "from io import BytesIO\n",
    "import urllib, base64\n",
    "def _to_png(fig):\n",
    "    \"\"\"Return a base64-encoded PNG from a\n",
    "    matplotlib figure.\"\"\"\n",
    "    imgdata = BytesIO()#### File-like objct\n",
    "    fig.savefig(imgdata, format='png')\n",
    "    imgdata.seek(0)\n",
    "    return urllib.quote(\n",
    "        base64.b64encode(imgdata.getvalue()))"
   ]
  },
  {
   "cell_type": "raw",
   "metadata": {},
   "source": [
    "Object polimorphism\n",
    "An object x is file-like when it behaves polymorphically as a file"
   ]
  },
  {
   "cell_type": "code",
   "execution_count": 9,
   "metadata": {
    "collapsed": false
   },
   "outputs": [
    {
     "ename": "NameError",
     "evalue": "name 'fig' is not defined",
     "output_type": "error",
     "traceback": [
      "\u001b[1;31m---------------------------------------------------------------------------\u001b[0m\n\u001b[1;31mNameError\u001b[0m                                 Traceback (most recent call last)",
      "\u001b[1;32m<ipython-input-9-371621f22367>\u001b[0m in \u001b[0;36m<module>\u001b[1;34m()\u001b[0m\n\u001b[1;32m----> 1\u001b[1;33m \u001b[0mb64\u001b[0m\u001b[1;33m=\u001b[0m\u001b[0m_to_png\u001b[0m\u001b[1;33m(\u001b[0m\u001b[0mfig\u001b[0m\u001b[1;33m)\u001b[0m \u001b[1;31m### from fig to base64\u001b[0m\u001b[1;33m\u001b[0m\u001b[0m\n\u001b[0m",
      "\u001b[1;31mNameError\u001b[0m: name 'fig' is not defined"
     ]
    }
   ],
   "source": [
    "b64=_to_png(fig) ### from fig to base64"
   ]
  },
  {
   "cell_type": "code",
   "execution_count": 10,
   "metadata": {
    "collapsed": false
   },
   "outputs": [],
   "source": [
    "import IPython.display as IPD"
   ]
  },
  {
   "cell_type": "code",
   "execution_count": 11,
   "metadata": {
    "collapsed": false
   },
   "outputs": [
    {
     "ename": "NameError",
     "evalue": "name 'b64' is not defined",
     "output_type": "error",
     "traceback": [
      "\u001b[1;31m---------------------------------------------------------------------------\u001b[0m\n\u001b[1;31mNameError\u001b[0m                                 Traceback (most recent call last)",
      "\u001b[1;32m<ipython-input-11-9c159f32ff58>\u001b[0m in \u001b[0;36m<module>\u001b[1;34m()\u001b[0m\n\u001b[1;32m----> 1\u001b[1;33m \u001b[0mIPD\u001b[0m\u001b[1;33m.\u001b[0m\u001b[0mImage\u001b[0m\u001b[1;33m(\u001b[0m\u001b[0mb64\u001b[0m\u001b[1;33m)\u001b[0m\u001b[1;33m\u001b[0m\u001b[0m\n\u001b[0m\u001b[0;32m      2\u001b[0m \u001b[1;31m### not diplayed by IPD.HTML\u001b[0m\u001b[1;33m\u001b[0m\u001b[1;33m\u001b[0m\u001b[0m\n",
      "\u001b[1;31mNameError\u001b[0m: name 'b64' is not defined"
     ]
    }
   ],
   "source": [
    "IPD.Image(b64)\n",
    "### not diplayed by IPD.HTML\n"
   ]
  },
  {
   "cell_type": "markdown",
   "metadata": {},
   "source": [
    "***JSON***"
   ]
  },
  {
   "cell_type": "code",
   "execution_count": 12,
   "metadata": {
    "collapsed": false
   },
   "outputs": [],
   "source": [
    "import json"
   ]
  },
  {
   "cell_type": "code",
   "execution_count": 13,
   "metadata": {
    "collapsed": false
   },
   "outputs": [
    {
     "ename": "IOError",
     "evalue": "[Errno 2] No such file or directory: '/home/ubuntu/notebooks/Tutorials/03.Matplotlib Serializartion.ipynb'",
     "output_type": "error",
     "traceback": [
      "\u001b[1;31m---------------------------------------------------------------------------\u001b[0m\n\u001b[1;31mIOError\u001b[0m                                   Traceback (most recent call last)",
      "\u001b[1;32m<ipython-input-13-09a647eb2a0b>\u001b[0m in \u001b[0;36m<module>\u001b[1;34m()\u001b[0m\n\u001b[1;32m----> 1\u001b[1;33m \u001b[0mjson_file\u001b[0m\u001b[1;33m=\u001b[0m\u001b[0mopen\u001b[0m\u001b[1;33m(\u001b[0m\u001b[1;34m\"/home/ubuntu/notebooks/Tutorials/03.Matplotlib Serializartion.ipynb\"\u001b[0m\u001b[1;33m)\u001b[0m\u001b[1;33m\u001b[0m\u001b[0m\n\u001b[0m\u001b[0;32m      2\u001b[0m \u001b[0mmetadata\u001b[0m\u001b[1;33m=\u001b[0m\u001b[0mjson\u001b[0m\u001b[1;33m.\u001b[0m\u001b[0mload\u001b[0m\u001b[1;33m(\u001b[0m\u001b[0mjson_file\u001b[0m\u001b[1;33m)\u001b[0m\u001b[1;33m\u001b[0m\u001b[0m\n\u001b[0;32m      3\u001b[0m \u001b[0mtype\u001b[0m\u001b[1;33m(\u001b[0m\u001b[0mmetadata\u001b[0m\u001b[1;33m)\u001b[0m\u001b[1;33m\u001b[0m\u001b[0m\n",
      "\u001b[1;31mIOError\u001b[0m: [Errno 2] No such file or directory: '/home/ubuntu/notebooks/Tutorials/03.Matplotlib Serializartion.ipynb'"
     ]
    }
   ],
   "source": [
    "json_file=open(\"/home/ubuntu/notebooks/Tutorials/03.Matplotlib Serializartion.ipynb\")\n",
    "metadata=json.load(json_file)\n",
    "type(metadata)"
   ]
  },
  {
   "cell_type": "code",
   "execution_count": 14,
   "metadata": {
    "collapsed": false
   },
   "outputs": [
    {
     "ename": "NameError",
     "evalue": "name 'metadata' is not defined",
     "output_type": "error",
     "traceback": [
      "\u001b[1;31m---------------------------------------------------------------------------\u001b[0m\n\u001b[1;31mNameError\u001b[0m                                 Traceback (most recent call last)",
      "\u001b[1;32m<ipython-input-14-1cd2e735c469>\u001b[0m in \u001b[0;36m<module>\u001b[1;34m()\u001b[0m\n\u001b[1;32m----> 1\u001b[1;33m \u001b[0mmetadata\u001b[0m\u001b[1;33m.\u001b[0m\u001b[0mkeys\u001b[0m\u001b[1;33m(\u001b[0m\u001b[1;33m)\u001b[0m\u001b[1;33m\u001b[0m\u001b[0m\n\u001b[0m",
      "\u001b[1;31mNameError\u001b[0m: name 'metadata' is not defined"
     ]
    }
   ],
   "source": [
    "metadata.keys()"
   ]
  },
  {
   "cell_type": "code",
   "execution_count": 15,
   "metadata": {
    "collapsed": false
   },
   "outputs": [
    {
     "ename": "NameError",
     "evalue": "name 'metadata' is not defined",
     "output_type": "error",
     "traceback": [
      "\u001b[1;31m---------------------------------------------------------------------------\u001b[0m\n\u001b[1;31mNameError\u001b[0m                                 Traceback (most recent call last)",
      "\u001b[1;32m<ipython-input-15-00b14ccf24da>\u001b[0m in \u001b[0;36m<module>\u001b[1;34m()\u001b[0m\n\u001b[1;32m----> 1\u001b[1;33m \u001b[0mWorksheetList\u001b[0m\u001b[1;33m=\u001b[0m\u001b[0mmetadata\u001b[0m\u001b[1;33m[\u001b[0m\u001b[1;34m\"worksheets\"\u001b[0m\u001b[1;33m]\u001b[0m\u001b[1;33m\u001b[0m\u001b[0m\n\u001b[0m",
      "\u001b[1;31mNameError\u001b[0m: name 'metadata' is not defined"
     ]
    }
   ],
   "source": [
    "WorksheetList=metadata[\"worksheets\"]"
   ]
  },
  {
   "cell_type": "code",
   "execution_count": 16,
   "metadata": {
    "collapsed": false
   },
   "outputs": [
    {
     "ename": "NameError",
     "evalue": "name 'WorksheetList' is not defined",
     "output_type": "error",
     "traceback": [
      "\u001b[1;31m---------------------------------------------------------------------------\u001b[0m\n\u001b[1;31mNameError\u001b[0m                                 Traceback (most recent call last)",
      "\u001b[1;32m<ipython-input-16-3dc3f6300df5>\u001b[0m in \u001b[0;36m<module>\u001b[1;34m()\u001b[0m\n\u001b[1;32m----> 1\u001b[1;33m \u001b[0mWD\u001b[0m\u001b[1;33m=\u001b[0m\u001b[0mWorksheetList\u001b[0m\u001b[1;33m[\u001b[0m\u001b[1;36m0\u001b[0m\u001b[1;33m]\u001b[0m\u001b[1;33m\u001b[0m\u001b[0m\n\u001b[0m",
      "\u001b[1;31mNameError\u001b[0m: name 'WorksheetList' is not defined"
     ]
    }
   ],
   "source": [
    "WD=WorksheetList[0]\n"
   ]
  },
  {
   "cell_type": "code",
   "execution_count": 17,
   "metadata": {
    "collapsed": false
   },
   "outputs": [
    {
     "ename": "NameError",
     "evalue": "name 'WD' is not defined",
     "output_type": "error",
     "traceback": [
      "\u001b[1;31m---------------------------------------------------------------------------\u001b[0m\n\u001b[1;31mNameError\u001b[0m                                 Traceback (most recent call last)",
      "\u001b[1;32m<ipython-input-17-b64725fccf3b>\u001b[0m in \u001b[0;36m<module>\u001b[1;34m()\u001b[0m\n\u001b[1;32m----> 1\u001b[1;33m \u001b[0mWD\u001b[0m\u001b[1;33m.\u001b[0m\u001b[0mkeys\u001b[0m\u001b[1;33m(\u001b[0m\u001b[1;33m)\u001b[0m\u001b[1;33m\u001b[0m\u001b[0m\n\u001b[0m",
      "\u001b[1;31mNameError\u001b[0m: name 'WD' is not defined"
     ]
    }
   ],
   "source": [
    "WD.keys()"
   ]
  },
  {
   "cell_type": "code",
   "execution_count": 18,
   "metadata": {
    "collapsed": false
   },
   "outputs": [
    {
     "ename": "NameError",
     "evalue": "name 'WD' is not defined",
     "output_type": "error",
     "traceback": [
      "\u001b[1;31m---------------------------------------------------------------------------\u001b[0m\n\u001b[1;31mNameError\u001b[0m                                 Traceback (most recent call last)",
      "\u001b[1;32m<ipython-input-18-128f17af90b3>\u001b[0m in \u001b[0;36m<module>\u001b[1;34m()\u001b[0m\n\u001b[1;32m----> 1\u001b[1;33m \u001b[0mz\u001b[0m\u001b[1;33m=\u001b[0m\u001b[0mWD\u001b[0m\u001b[1;33m[\u001b[0m\u001b[1;34m\"cells\"\u001b[0m\u001b[1;33m]\u001b[0m\u001b[1;33m[\u001b[0m\u001b[1;36m1\u001b[0m\u001b[1;33m]\u001b[0m \u001b[1;31m##cell content\u001b[0m\u001b[1;33m\u001b[0m\u001b[0m\n\u001b[0m",
      "\u001b[1;31mNameError\u001b[0m: name 'WD' is not defined"
     ]
    }
   ],
   "source": [
    "z=WD[\"cells\"][1] ##cell content"
   ]
  },
  {
   "cell_type": "code",
   "execution_count": 19,
   "metadata": {
    "collapsed": false
   },
   "outputs": [
    {
     "ename": "NameError",
     "evalue": "name 'z' is not defined",
     "output_type": "error",
     "traceback": [
      "\u001b[1;31m---------------------------------------------------------------------------\u001b[0m\n\u001b[1;31mNameError\u001b[0m                                 Traceback (most recent call last)",
      "\u001b[1;32m<ipython-input-19-ad2df73c51e4>\u001b[0m in \u001b[0;36m<module>\u001b[1;34m()\u001b[0m\n\u001b[1;32m----> 1\u001b[1;33m \u001b[0mlast\u001b[0m\u001b[1;33m=\u001b[0m\u001b[0mz\u001b[0m\u001b[1;33m[\u001b[0m\u001b[1;34m\"outputs\"\u001b[0m\u001b[1;33m]\u001b[0m\u001b[1;33m[\u001b[0m\u001b[1;36m0\u001b[0m\u001b[1;33m]\u001b[0m\u001b[1;33m\u001b[0m\u001b[0m\n\u001b[0m",
      "\u001b[1;31mNameError\u001b[0m: name 'z' is not defined"
     ]
    }
   ],
   "source": [
    "last=z[\"outputs\"][0]"
   ]
  },
  {
   "cell_type": "code",
   "execution_count": 20,
   "metadata": {
    "collapsed": false
   },
   "outputs": [
    {
     "ename": "NameError",
     "evalue": "name 'last' is not defined",
     "output_type": "error",
     "traceback": [
      "\u001b[1;31m---------------------------------------------------------------------------\u001b[0m\n\u001b[1;31mNameError\u001b[0m                                 Traceback (most recent call last)",
      "\u001b[1;32m<ipython-input-20-1a4398058e37>\u001b[0m in \u001b[0;36m<module>\u001b[1;34m()\u001b[0m\n\u001b[1;32m----> 1\u001b[1;33m \u001b[0mimg\u001b[0m\u001b[1;33m=\u001b[0m\u001b[0mlast\u001b[0m\u001b[1;33m[\u001b[0m\u001b[1;34m\"png\"\u001b[0m\u001b[1;33m]\u001b[0m \u001b[1;31m###the picture\u001b[0m\u001b[1;33m\u001b[0m\u001b[0m\n\u001b[0m",
      "\u001b[1;31mNameError\u001b[0m: name 'last' is not defined"
     ]
    }
   ],
   "source": [
    "img=last[\"png\"] ###the picture"
   ]
  },
  {
   "cell_type": "code",
   "execution_count": 21,
   "metadata": {
    "collapsed": false
   },
   "outputs": [
    {
     "ename": "NameError",
     "evalue": "name 'img' is not defined",
     "output_type": "error",
     "traceback": [
      "\u001b[1;31m---------------------------------------------------------------------------\u001b[0m\n\u001b[1;31mNameError\u001b[0m                                 Traceback (most recent call last)",
      "\u001b[1;32m<ipython-input-21-99c118ad86ac>\u001b[0m in \u001b[0;36m<module>\u001b[1;34m()\u001b[0m\n\u001b[0;32m      1\u001b[0m \u001b[1;32mfrom\u001b[0m \u001b[0mIPython\u001b[0m\u001b[1;33m.\u001b[0m\u001b[0mdisplay\u001b[0m \u001b[1;32mimport\u001b[0m \u001b[0mImage\u001b[0m\u001b[1;33m\u001b[0m\u001b[0m\n\u001b[1;32m----> 2\u001b[1;33m \u001b[0mImage\u001b[0m\u001b[1;33m(\u001b[0m\u001b[0mimg\u001b[0m\u001b[1;33m)\u001b[0m\u001b[1;33m\u001b[0m\u001b[0m\n\u001b[0m",
      "\u001b[1;31mNameError\u001b[0m: name 'img' is not defined"
     ]
    }
   ],
   "source": [
    "from IPython.display import Image\n",
    "Image(img)"
   ]
  },
  {
   "cell_type": "markdown",
   "metadata": {},
   "source": [
    " ----------------"
   ]
  },
  {
   "cell_type": "code",
   "execution_count": 1,
   "metadata": {
    "collapsed": false
   },
   "outputs": [],
   "source": [
    "import urllib\n",
    "import base64\n",
    "from PIL import Image\n",
    "from io import BytesIO\n",
    "\n",
    "\n",
    "def to_b64(img):\n",
    "    imgdata = BytesIO()\n",
    "    pil = Image.fromarray(img)\n",
    "    pil.save(imgdata, format='PNG')\n",
    "    imgdata.seek(0)\n",
    "    return urllib.parse.quote(\n",
    "        base64.b64encode(imgdata.getvalue()))\n",
    "\n",
    "\n",
    "def from_b64(b64):\n",
    "    im = Image.open(BytesIO(base64.b64decode(b64)))\n",
    "    return array(im)"
   ]
  },
  {
   "cell_type": "raw",
   "metadata": {},
   "source": [
    "img=to_b64(fig)\n",
    "imshow(from_b64(img))"
   ]
  },
  {
   "cell_type": "markdown",
   "metadata": {},
   "source": [
    "### TEMPFILE"
   ]
  },
  {
   "cell_type": "code",
   "execution_count": 5,
   "metadata": {
    "collapsed": false
   },
   "outputs": [
    {
     "name": "stdout",
     "output_type": "stream",
     "text": [
      "Help on module tempfile:\n",
      "\n",
      "NAME\n",
      "    tempfile - Temporary files.\n",
      "\n",
      "FILE\n",
      "    /usr/lib/python2.7/tempfile.py\n",
      "\n",
      "MODULE DOCS\n",
      "    http://docs.python.org/library/tempfile\n",
      "\n",
      "DESCRIPTION\n",
      "    This module provides generic, low- and high-level interfaces for\n",
      "    creating temporary files and directories.  The interfaces listed\n",
      "    as \"safe\" just below can be used without fear of race conditions.\n",
      "    Those listed as \"unsafe\" cannot, and are provided for backward\n",
      "    compatibility only.\n",
      "    \n",
      "    This module also provides some data items to the user:\n",
      "    \n",
      "      TMP_MAX  - maximum number of names that will be tried before\n",
      "                 giving up.\n",
      "      template - the default prefix for all temporary names.\n",
      "                 You may change this to control the default prefix.\n",
      "      tempdir  - If this is set to a string before the first use of\n",
      "                 any routine from this module, it will be considered as\n",
      "                 another candidate location to store temporary files.\n",
      "\n",
      "CLASSES\n",
      "    SpooledTemporaryFile\n",
      "    \n",
      "    class SpooledTemporaryFile\n",
      "     |  Temporary file wrapper, specialized to switch from\n",
      "     |  StringIO to a real file when it exceeds a certain size or\n",
      "     |  when a fileno is needed.\n",
      "     |  \n",
      "     |  Methods defined here:\n",
      "     |  \n",
      "     |  __enter__(self)\n",
      "     |      # Context management protocol\n",
      "     |  \n",
      "     |  __exit__(self, exc, value, tb)\n",
      "     |  \n",
      "     |  __init__(self, max_size=0, mode='w+b', bufsize=-1, suffix='', prefix='tmp', dir=None)\n",
      "     |  \n",
      "     |  __iter__(self)\n",
      "     |      # file protocol\n",
      "     |  \n",
      "     |  close(self)\n",
      "     |  \n",
      "     |  fileno(self)\n",
      "     |  \n",
      "     |  flush(self)\n",
      "     |  \n",
      "     |  isatty(self)\n",
      "     |  \n",
      "     |  next(self)\n",
      "     |  \n",
      "     |  read(self, *args)\n",
      "     |  \n",
      "     |  readline(self, *args)\n",
      "     |  \n",
      "     |  readlines(self, *args)\n",
      "     |  \n",
      "     |  rollover(self)\n",
      "     |  \n",
      "     |  seek(self, *args)\n",
      "     |  \n",
      "     |  tell(self)\n",
      "     |  \n",
      "     |  truncate(self)\n",
      "     |  \n",
      "     |  write(self, s)\n",
      "     |  \n",
      "     |  writelines(self, iterable)\n",
      "     |  \n",
      "     |  xreadlines(self, *args)\n",
      "     |  \n",
      "     |  ----------------------------------------------------------------------\n",
      "     |  Data descriptors defined here:\n",
      "     |  \n",
      "     |  closed\n",
      "     |  \n",
      "     |  encoding\n",
      "     |  \n",
      "     |  mode\n",
      "     |  \n",
      "     |  name\n",
      "     |  \n",
      "     |  newlines\n",
      "     |  \n",
      "     |  softspace\n",
      "\n",
      "FUNCTIONS\n",
      "    NamedTemporaryFile(mode='w+b', bufsize=-1, suffix='', prefix='tmp', dir=None, delete=True)\n",
      "        Create and return a temporary file.\n",
      "        Arguments:\n",
      "        'prefix', 'suffix', 'dir' -- as for mkstemp.\n",
      "        'mode' -- the mode argument to os.fdopen (default \"w+b\").\n",
      "        'bufsize' -- the buffer size argument to os.fdopen (default -1).\n",
      "        'delete' -- whether the file is deleted on close (default True).\n",
      "        The file is created as mkstemp() would do it.\n",
      "        \n",
      "        Returns an object with a file-like interface; the name of the file\n",
      "        is accessible as file.name.  The file will be automatically deleted\n",
      "        when it is closed unless the 'delete' argument is set to False.\n",
      "    \n",
      "    TemporaryFile(mode='w+b', bufsize=-1, suffix='', prefix='tmp', dir=None)\n",
      "        Create and return a temporary file.\n",
      "        Arguments:\n",
      "        'prefix', 'suffix', 'dir' -- as for mkstemp.\n",
      "        'mode' -- the mode argument to os.fdopen (default \"w+b\").\n",
      "        'bufsize' -- the buffer size argument to os.fdopen (default -1).\n",
      "        The file is created as mkstemp() would do it.\n",
      "        \n",
      "        Returns an object with a file-like interface.  The file has no\n",
      "        name, and will cease to exist when it is closed.\n",
      "    \n",
      "    gettempdir()\n",
      "        Accessor for tempfile.tempdir.\n",
      "    \n",
      "    gettempprefix()\n",
      "        Accessor for tempdir.template.\n",
      "    \n",
      "    mkdtemp(suffix='', prefix='tmp', dir=None)\n",
      "        User-callable function to create and return a unique temporary\n",
      "        directory.  The return value is the pathname of the directory.\n",
      "        \n",
      "        Arguments are as for mkstemp, except that the 'text' argument is\n",
      "        not accepted.\n",
      "        \n",
      "        The directory is readable, writable, and searchable only by the\n",
      "        creating user.\n",
      "        \n",
      "        Caller is responsible for deleting the directory when done with it.\n",
      "    \n",
      "    mkstemp(suffix='', prefix='tmp', dir=None, text=False)\n",
      "        User-callable function to create and return a unique temporary\n",
      "        file.  The return value is a pair (fd, name) where fd is the\n",
      "        file descriptor returned by os.open, and name is the filename.\n",
      "        \n",
      "        If 'suffix' is specified, the file name will end with that suffix,\n",
      "        otherwise there will be no suffix.\n",
      "        \n",
      "        If 'prefix' is specified, the file name will begin with that prefix,\n",
      "        otherwise a default prefix is used.\n",
      "        \n",
      "        If 'dir' is specified, the file will be created in that directory,\n",
      "        otherwise a default directory is used.\n",
      "        \n",
      "        If 'text' is specified and true, the file is opened in text\n",
      "        mode.  Else (the default) the file is opened in binary mode.  On\n",
      "        some operating systems, this makes no difference.\n",
      "        \n",
      "        The file is readable and writable only by the creating user ID.\n",
      "        If the operating system uses permission bits to indicate whether a\n",
      "        file is executable, the file is executable by no one. The file\n",
      "        descriptor is not inherited by children of this process.\n",
      "        \n",
      "        Caller is responsible for deleting the file when done with it.\n",
      "    \n",
      "    mktemp(suffix='', prefix='tmp', dir=None)\n",
      "        User-callable function to return a unique temporary file name.  The\n",
      "        file is not created.\n",
      "        \n",
      "        Arguments are as for mkstemp, except that the 'text' argument is\n",
      "        not accepted.\n",
      "        \n",
      "        This function is unsafe and should not be used.  The file name\n",
      "        refers to a file that did not exist at some point, but by the time\n",
      "        you get around to creating it, someone else may have beaten you to\n",
      "        the punch.\n",
      "\n",
      "DATA\n",
      "    TMP_MAX = 238328\n",
      "    __all__ = ['NamedTemporaryFile', 'TemporaryFile', 'SpooledTemporaryFil...\n",
      "    tempdir = '/tmp'\n",
      "\n",
      "\n"
     ]
    }
   ],
   "source": [
    "import tempfile\n",
    "help(tempfile)"
   ]
  },
  {
   "cell_type": "code",
   "execution_count": 2,
   "metadata": {
    "collapsed": false
   },
   "outputs": [],
   "source": [
    "fig, ax = plt.subplots()\n",
    "ax.plot(random.rand(100))\n",
    "# write the figure to a temporary file, and encode the results to base64\n",
    "import tempfile\n",
    "with tempfile.NamedTemporaryFile(suffix='.png') as f:\n",
    "    fig.savefig(f.name)\n",
    "    data = open(f.name, 'rb').read().encode('base64')\n",
    "    \n",
    "# close the figure and display the data\n",
    "plt.close(fig)\n",
    "##print data[:460]\n"
   ]
  },
  {
   "cell_type": "code",
   "execution_count": 6,
   "metadata": {
    "collapsed": false
   },
   "outputs": [
    {
     "data": {
      "text/html": [
       "<img src=\"data:image/png;base64,iVBORw0KGgoAAAANSUhEUgAAAbAAAAEgCAYAAADVKCZpAAAABHNCSVQICAgIfAhkiAAAAAlwSFlz\n",
       "AAALEgAACxIB0t1+/AAAIABJREFUeJztfXuUVNWd9a7qd3c1bxsQ1HRrFEVR6UyykhGFZOWhDiqR\n",
       "zGhmFBOTDPFJMmMcs7KM6DgLE+ZbZCXKZBK+6HxZQxRfyedI8k2MJA7msUQEFDUoDTStNM/uhqar\n",
       "n/f743CoW7fOufece899Vf32Wqymq6vqnrp179ln798+52Qsy7JAIBAIBELKkI27AQQCgUAg+AER\n",
       "GIFAIBBSCSIwAoFAIKQSRGAEAoFASCWIwAgEAoGQShCBEQgEAiGVIAIjEAgEQipBBEYgEAiEVIII\n",
       "jEAgEAipBBEYgUAgEFIJIjACgUAgpBJEYAQCgUBIJYjACAQCgZBKEIERCAQCIZUgAiMQCARCKkEE\n",
       "RiAQCIRUggiMQCAQCKkEERiBQCAQUgkiMAKBQCCkEkRgBAKBQEgliMAIBAKBkEoQgREIBAIhlSAC\n",
       "IxAIBEIqkQgCu+OOOzB16lRks1ksXLhQ+rxnn30WZ511FhoaGrBgwQLs2rUrukYSCAQCIVFIBIFl\n",
       "Mhlcf/31J/8vwr59+3DddddhwoQJWLlyJTZt2oQlS5ZE2UwCgUAgJAiJILDvfe97+NrXvub6nLVr\n",
       "12JoaAj33HMPbr31VlxzzTV46aWXsHPnzohaSSAQCIQkIREEBgCWZbn+vaOjAwAwY8YMAMDMmTOL\n",
       "HicQCARCZaE67gb4hRvhyWxIAoFAILjDS0wkCYlRYCLk83kMDw8DANra2gAAnZ2dAICurq6ix52w\n",
       "LIv+WRa+/e1vx94Gv/8WLbLws5/RuQjjH52LyjoXvb0Wxsa8n5c2JILA/uu//guPP/44AGDPnj1Y\n",
       "s2YNduzYgcbGRsydOxcAcN1116G2thYPPfQQvv/97+OZZ57BvHnz0NraGmfTCSFieBgYGYm7FQRC\n",
       "+nH11cDLL8fdCvNIBIGtXLkS99xzDzKZDLZu3YqvfOUrePnE2eZ24LRp07B27Vr09PTgrrvuQnt7\n",
       "Ox599NEYW00IG0RgBIIZ7NwJ9PbG3QrzSEQN7MUXXxQ+7ozJL1q0CIsWLYqiSWWD+fPnx90E3zBN\n",
       "YGk+F6ZRLufiz38GurqABQv8v0e5nAsZRkeB994D8vm4W2IeiVBghPCQ5ptzeJj9M4U0nwvTKJdz\n",
       "8fzzwP33B3sP0+fiqaeSZdft388GgkRghEgxNARU8mIjZCESvHDkCPCHPwCDg3G3pIBf/IK1KSnY\n",
       "u5f9JAIjRIr//m9g6dK4WxEfiMAIXjhyhHXMr7wSd0sKOHQoWYRKBEaIBT09wMBA3K2ID6YtREL5\n",
       "oacHmDIFeOmluFtSwOHDzD0Jgq9+FejuNtMeIjBCLDh6NPiNkGaQAiN44cgR4Morgd/9Lu6WFGBC\n",
       "gb3wAvDOO2bas3cvUF1NBEaIGH19ybIiogYRWHnggQeYUgoDPT3AwoUsNDE6Gs4xdHHoUPCB58gI\n",
       "U3ImsHcv0NpKBEaIGEePEoGRhZhuWBawciWwe3c473/kCHD22cCppwJbt4ZzDB2MjbE2Bb1vh4fN\n",
       "EthZZxGBESJGXx9ZiKTA0o3Dh8N1Enp6gAkTgHnzkmEj9vYyEkuaAiMCI0QOshCJwNIOvttRWNfx\n",
       "kSPAxInApZcmg8AOHWI/TSgw/l5BYFlsoveZZxKBESIGWYhkIaYdnMDC6DyHhti/piZGYC+9xDrs\n",
       "OMFJJykK7OBBdn4mTSICI0QMUmCkwNKOd99lP8O4jrl9mMkAp53GOuq33zZ/HB2YVGAmCGzvXmDm\n",
       "TKC+ngiMEDEqPUY/MkIElnaEaSFyAuNIQh3s8GGgudmMAjNhIRKBEWIDKTAisLRj50420TiM65jX\n",
       "vziSUAc7dAiYPp0UWFQgAkswjh5liaZK7MTHxtg/qoGlG+++C5x3XjQKjNfB4oQJAhsbY7U8IjBv\n",
       "EIElGH197GdSbcTeXrZRXhjgxFWJ5F0uGBoC9u1jEe4oFNiZZ7JtQ+K8Xw4dYnPSgrSBX/NEYN4g\n",
       "AksoLIspsFwuuTbi4cPA738fznsTgaUfu3axzrOpKTwFZiewqirglFPY9iFx4fDh4ApseJgRTn9/\n",
       "cAeCCIwQC44fB+rqgMbG5BLY8HB4o11+45KFmF7s3Am0tbHrOIzO88iRYgsRYOTx/vvmj6UKbiEG\n",
       "VWC1teyzHTkSrD1EYIRY0NcHjBvHbv5KJjBSYOnFzp3M1quvj0aBAckhsKAKrKYGmDw5mI1oWURg\n",
       "hJhw9CiL49bVJbcGNjQUnkIKg8D++7+BLVvMvR/BHe++W1BgKh36ihV69p9Mge3bp9dOkzBVA6uu\n",
       "ZpOPgxBYTw97n+ZmIjBCxOAKrLY22QpsZISlpsJ4b/tPE3jySbYFPSEa2C1ElWv48cf1JiKLFNi0\n",
       "afEqsMOHGYGZUGCTJgWbC8bVF0AERogYdgWWVALjo8wwVFgYCiyf198k8MgR4Ac/MNeGcsX77wMH\n",
       "DhQ/xi1E1Wt4eBg4dkz9mEmrgQ0NsQ1op0xJhgLbu5etUAIwAivHzXGJwBKKtNTAgHAszjAIbHBQ\n",
       "P6H22mvAqlXm2lCuWLUK+Kd/KvxuWfoW4vAwS96pwhmjB+IlsMOHGekEvWdN1cDsCqy6ujznlBKB\n",
       "JRR2AktqDSxtBJbP6xNYdzdbEJXgjsFB4KmnCh33gQPs2h0/Xj2FqKvAnBOZgXhrYIcOFQjMlAIz\n",
       "ZSFmMuGFaeIEEVhCwS3EJNfAorAQTb734KC+hdjdzSZsU5zfHcPD7DytX89+5/YhEK6FmKQa2OHD\n",
       "TDVVV7Pdof3Whu01MFMKDCjPOhgRWEJBFiIj77gtRE54JhZWLWcMDwNz5wJr17LfuX0IqI/8dSxE\n",
       "y2KEOX588ePTprHvLI5tVQ4dYgSWybBr1+99YbIGRgRGiAVpiNGHTWANDeYtxIMH2ehYFZzA0mgj\n",
       "vvwycNdd0RxraAi4/nrgl79k1y5PIALhKLCjR9n1UVNT/Hh9PVv5I44BBycwIJhzEkYNDCACI0QI\n",
       "nRj90aMF6yZKcOIKi8AaG81biGNjep1bmgls927gzTejOdbwMFM/l14KPPssU2C6FuLIiLoCE9W/\n",
       "OOKqg/EaGBBs4BlGDQwgAiNECJ0Y/SuvAPffH0277EijAstm9WzE7m7WCaSRwAYHo1Pv3PK9/npm\n",
       "I4atwET1L4646mC8BgaYUWBBLMSjR9m9Y7dYicDKAE8+qVcojgs6NbDBwXhCBmGuVxgGgQ0Oskmm\n",
       "ugQ2ezYRmBd4p3vVVcDGjcC2beESmGgSM0dcUXq7hWhCgQWxEPv6CrtVcxCBlQGWL2dze5IOnRi9\n",
       "347qnnvY9hN+kUYL8fTT1ZOIlsXIjgjMG5zAcjngyiuZFcjtK5UYvWXpWYiiScwcSSAwEwps3Dj/\n",
       "K9IPDbE22EEEVgYYGAi+wnMU0InR++2onngCWL3aX/uAdFqIp52mrsB6e9n5P+00IjAvDA0VAhWf\n",
       "/zxTX1VV7HeVFCL/nk0psHKogWWz/lekJwIrU+Tz6SCwKCzE4WHgRz/yf6OljcC4AlMlsO5uYOpU\n",
       "tjRQGgksn4++BgYwBfbCC4W/qVzD/FoyocDKpQYG+K+D2b8PDiKwMkDaFFiYFuLwMLtBnnrKXxvD\n",
       "nMg8MhKOAtOxENNOYHFYiACru8yYUfibDoFRDaygwAD/dTC7IuYgAisDpE2BhWkhDg8Dy5b5X6w2\n",
       "CgVmihzHxth7zZxZOQrMBIHt388GU16wE5gTKgTGByqmamBRW4iWZb4GBvhXYGQhliEsKx0KbGyM\n",
       "3ci5nNrN79cqGh4Grr0W6Oz0F2xJk4U4NMTO5dSp6gS2b1/yCcyyWDBJBBME9sADwKOPej9PNOLn\n",
       "UFVg2Wx6FVh/P1NN9fXsd1MKzO9cMLIQyxDDw+yGTzqB9fezzruqKtwa2NAQu6j//u+Bhx/293r7\n",
       "T5MwTWD5fIHAyslCzOeB++4Try5iYnrFsWPMDfCClwLL592XdxoeZopKZx6YTIGNG6e/sn1Q8JXo\n",
       "OUwpMLIQ3ZEYAtu4cSPmzJmD+vp6tLe3Y/PmzSXPsSwLX/va1zB9+nQ0NDTg3HPPxRNPPKF8DL4f\n",
       "TtwE9uc/A//xH/K/c/sQCL8GVlsLfPnLbH6c7nkJW4HV1bH/6yz9JMPgILuBW1r0LcSmJkakSdxP\n",
       "iXeSos7ShAIbGFAjAtGIn6Oqiv1zI9PhYVbzHRpS+77dFFgmE70Ks9uHgFkFRhaiHIkgsHw+j2uv\n",
       "vRb9/f1YtWoVuru7sXjxYow5lnP+5S9/ie9973uYOXMmVq5cia6uLtx0000YVezh+JcXN4G9+irw\n",
       "n/8p/zsPcADqNTCuLlVhWayjqK5mnfoVV7i3SYSwJzLX1LB/JlQYV2BNTeyzq3TKnMAyGabCkrig\n",
       "L7+mRdeIiRRiPq+mitwUGOAdpeevb2pS+27cFBgQfR3MSWAma2BkIcqRCAJbv3499u/fj1tuuQVL\n",
       "ly7FzTffjI6ODmzYsKHoeRNOXLFnnnkmPvGJT2DcuHEYN24cslm1j5EUBca3npDBqcBUCAzQ6+iH\n",
       "hxl58Zn6s2cDXV3qrwdY59jQEJ4Cq6lhbTRBYIOD7FxmMuo2IicwILk2Iu+QRB1TlArMrQYGeF/H\n",
       "fghMpsCA6KP0SVRglWAhVsfdAADo6OgAAMw4kb3lP/njHB/96Edx77334v7778cTTzyB+vp6PPfc\n",
       "c8jY10s5gfvuu+/k/+fPn4/58+cjn2c3SNwENjTkTmB2BaZqIfL3detE7HCOmP2MGIeHWdAkbAIz\n",
       "ofC4hQgUbES+1JEM3d2sIwSSS2D8O5MR2MgICwUpjvFKMDBgRoGpElgup3Y8NwsRiN5CTGINTEWB\n",
       "bdiwoUQopAmJIDAnLIkX9qc//QkPPvggPv3pT2Pp0qVYtmwZlixZgrfffhuNjY1Fz7UTGEc+zy7s\n",
       "vXvDaLU6dBSYqoUIsIu2qUm9DfYOx8+IcXiYHS/MpaRMW4iAWh3MsspDgQHF9UQ/7x+0BgZ4E9jI\n",
       "SEGBeRHY0FDh+pCh0mtgqhYiH9xzLJdFWhOKRFiIbSeGwp2dnQCArhNeVltbG/L5PIZPDME3bNiA\n",
       "0dFR3HDDDbj66qvxiU98Al1dXXhTcc+IgQF2kY2OxiulvRSYroXIP4uOUhERmO6IcWiIdSJpsRC5\n",
       "AlOxEI8eZcEDPiBIM4EF+X7iUGBehMm3UhEYLydR6TUwshAjxOWXX46WlhasXr0auVwOa9asQWtr\n",
       "Ky677DJUV1dj9uzZ2LZtG84991wAwCOPPIL+/n4899xzqKurQ2trq9Jx8nlWs5k4kdmI06eH+ank\n",
       "4BFf2U3vtBB1FJgqnBd4EAsxzBCHSQtRR4HZ1ReQXALzSiECwQhMR4F5EZhb58lf39joTZheAQ4g\n",
       "nhrYRRcVfg+qwPhgy2QKsaGh/AgsEQqsrq4O69atQy6Xw7JlyzBt2jSsW7fuZDiD17gWLlyIb33r\n",
       "W9izZw/uvPNOTJkyBT/96U8xyW4+u2BggF0YnMDiAr+wZfNr/MTo7e+rAqfFkEQL0aQC07UQ00Jg\n",
       "SVFgXvVXkylEr/oXEE8NLAwFNn68vxXpKyWFmAgFBgDz5s3D1q1bSx53Runvv/9+3O9z90anAosL\n",
       "vEPp7S2+6Dn8xOjt76sCUxZi2ARmqgbmtBD/8Af356eFwNxCHPyxoATmFQDhs1j46vMiqFiI1dVq\n",
       "IQ4VBRZHDcw+jq6rU1uCSwR7DYyvSN/TA5xyivp7VIqFmAgFFhWSosD4aEpWB/Mbow9SA/NrIZIC\n",
       "ixdeCqy6OriF6EUoXgEOwGyMXkWBnXIKu8ej2ug1rBoY4K8ORhOZyxD5fDIIzK7ARDh6NBoLMWgK\n",
       "0YQCGxsTvz6KGL0bRAR24EDwdpiG20TmwcHC6hZ+wNcO9SIUr/oXYDZGr6LAqqrYd6az+3YQOOel\n",
       "mUohAv6i9JViIVYUgQ0MJMNC5B1yT4/47319+hZibW30FiJXYEEI5okngNtuk7fPpIXIFZhKCjEt\n",
       "CsxrHlgQAhsaYh0pX8nf7XlBCUwnRq+iwAB/NuKbbwKPPKL3GoD1LfYpLKYVmC6BkYVYhkiLAvMT\n",
       "o29ujsdCDDqRee9e8XcRpoU4eTLrBN3e10lgkyczAtNZrisKeFmIQQiM14y9bD1VBaaSQlSJ0aso\n",
       "MIAlEVUXbuZ47TXguef0XgMUX1+AWQVGFqIcFUVgSVJgtbXuFqJujF6XSJwXeFwW4sGD4s8XpoVY\n",
       "VcWuAbdOwUlgDQ2sPaqrpUcFGYFZVuG68Hv+eM3Yy9YzWQNTsRBVFdi4cfpBiuPH/Q3kMpli0kmC\n",
       "AiMCKzMkSYGdcoq6AlOpgY0bF5+FGITADh1yJ7AwVuIAvG1EJ4EBybQRZfPARkZYpxpkojkf8JlQ\n",
       "YCZj9KoKLJfTJ7D+fv1OnvcrdphWYH5qYGQhlhmSFKN3IzB7iKOqitUg3Bbc51ZRGlOIXgQWxkoc\n",
       "gHeQIy0Els8zonJ2TLzmp1sbdb53Q4O3KjJRA9OJ0fOVOLzQ3KyvmE0RmEkF5vY5vvAFYOfO0sdJ\n",
       "gZUhkhSjnzJFLcSRyXjf/H4sRJMpxCAWnwqBmV6JA3AnsP5+NmDg3wFHnAT27rvuda4wCIzfL6Zq\n",
       "YKoKzIt0jh0r/W5E8KPAjh/3R2ANDcWPmVRgbufkj38E3nuv9HEisDJEGhTY6GhposnrZvBTrE+K\n",
       "hSirgfFUmooC277dm1h0LES+Cr1zrb04CewLXwB+/evSx/N5pkbCIjAVBWa6BuZlIR4/7r6QL0dU\n",
       "CowTvR1BFZidwNzOSX+/+wDQjupqVhs1tct5ElBRBJY0BSYisGPHGCnYVz9wuxnGxtgFqUskSUkh\n",
       "uimw6mq1Gtg//APw85+7P0fHQhTZh0D4BNbZyTY7FeHPfxZ3Yvk8W24oLAsxKgXGBywqFqIqgUWp\n",
       "wEzXwOzn0+2cHDsmPq8iBQZ41yLThooisCQpsJYWMYHZAxwcbjc/nwNWW6tntTnrFnGkEC0reA3M\n",
       "soBNm9SmGqhaiHER2C9+AfzLv5Q+3tfH2sQ3ZLVjcJApMOfnN6nAvGw9kzF6lRBH2ApMt4MPowbm\n",
       "tBBl5+TYMfH360Zg9u9haAj46lf9tTMJqCgCs3v6w8PxjUSGh+UWoj1Cz+FFYH46Kqftw284nXlO\n",
       "fE8mvx1kXx8jpyA1sK4utkKGylQDeyfjZSHGQWD5PPDWW6WPv/MO+ykiMJkC452qqRCHG6mohDhU\n",
       "U4hpVWCma2AqCmx4mB1D1UIESgns8GHg6af9tTMJqCgC4xdaJuNfhVkW8NJLwdoxNCQPcYgUmFsn\n",
       "xDvmoCtxVFUx21LVH+fJyMZG/yGLQ4fY9xEkRs8tNxUCsyswt6Wh9u2Lj8B27Cj9vDt2sJ86BGY6\n",
       "xGFCgZmK0VdiDUz0Ofh50rUQnQSmuJlHIlFRBGa/0JwENjYGvPyy93scPgxcfnmwdriFOOwReg4V\n",
       "BVZTEyxGz4+j2tnx1wcZaR46BMyYEcxCfPVVRr5enY7TQpw4UT6NwbkwK0cUBDY0BOzaVfy4mwLj\n",
       "FmLYIQ6vGpiJEEd1dWHPKtm0kZER9s/reID/eWCjo3pBh7BrYDJS56SmayHar6MjR4jAUgP7heYk\n",
       "sNdfBxYvVnuPgYFgSwoND7NRM7cA7LBH6DnCshBFBKY6auSdVk2N/xv14EHg1FODWYibNrGNBHUt\n",
       "RL5FhQiylR6iIDCg1EbcsQM44wymPESvGT8+nBqYfSmpqBRYNsuOKfqsALv3Ghvdd2Pm8KPA+HF1\n",
       "VFjYNTCZAuOPBbUQicBSAj6iBEoJ7I031G70fF6+groq+OhowoRSFSBTYG4WoikC07np+OuDdJCH\n",
       "DhUIzDkg0LEQP/Yx/RBHEgmMf5ciArvwQrkCC9tCNFEDUyUwwP14x48XTzFxg18FBugTWJg1MC8F\n",
       "FtRCVFmWK6moKAJzU2Dbt6tdcPxikY0QVcDVy/jxpQQmUmBuxBKXAuOdVlACO+UU8Z5VKhbivn3s\n",
       "Oz37bH0Fxv8v6qhkKz3wbS0ce6waQz4PnH++mMDmzJHXwNwsxCAKOcoUor3TdgtyqNa/AHYf+Qlx\n",
       "AMlSYA0N7Dt03gemCIwUWEpgHyn5JTD+5Ys6E1Xwi2v8+FIV4CdG76cGJho169bA/MT37Th4kJGC\n",
       "6POpWIivvgrMnau+4LFdgQFyFSYjMB4ykNXOgiKfZ3aoncB6e1mn2tqa3BSiyYnMgHuQQ4fAOBHq\n",
       "2P39/ez+0yEfWYhjaMhfqcGpwDIZ8Tnhv7vtp+eEk8CoBpYi2C+0SZPEFqLXBWdKgdXUiBWYboiD\n",
       "W2NBY/SAPwuRE6efG/XQIWbLeRGYTIFt2gS0t6tvOaNKYG6LxfJtVcJAPs+sQjuB7dgBnHUW67T9\n",
       "zgMLuhq9CQWmGqMHzCmw2lpWU9Mho+PH2XccVIFls/6XQXMqMEBMYKTAKozAZApscJAlvzIZ90Vz\n",
       "+XsAwQjMrsBULcQoamB+LES+jYSfG5Wn/ZzHtSy1GphdgXl1OE4LEdBXYADrPMNaTy6fB047jV2D\n",
       "nCTfeQf44AfZdRtHjN7UPDBdBWaCwAC9IMfoqDzV6QYRgQH+62BOBQaISZ1qYBVEYCMjrHbBRzZ2\n",
       "AtuxA/jAB9iXq7J1CRDMQuQ3qyjEIbqgvCzE+vp4YvT8BvHbScosxNFRNoLlo1gvBaayPI6qhTgy\n",
       "wr5b2WKxQQjBC4ODjDBmzSqoMK7A4iCwOFKIgHeIQ4fAdIIcPOHIo/yqEIU4AP91MB0FlslQCrEi\n",
       "YJ/EDBQT2BtvALNnq93sYSuw3buB008vfiyqGL0fC5G/zk8nKbMQ7e8tU3cHDjC12tambiGqKLDe\n",
       "Xva9yGLaYRIYb6OTwNwUWNjzwFRSiKYIjHfapixEQE+B9fez91ZR9HaIamBA+Aqsv5/1Y0GWkqIa\n",
       "WErgvMjsBLZ9O3DeeWodeNAamGUVLBcRge3Zw+b82BFVjN6PhQj4r7PILER722QW4ubNwMUXq203\n",
       "A6grMK+9ppJGYFFYiCoKLIkhDkBPgfX3s2PrbjsisxBNKjCZhTh5MtXAKgJOmS8jMFUF5tdCHB0t\n",
       "LNvkTCEODrJOffr04teoxujLxUJ0KjARgXH7kLfba6VzyyrtFEQpUK/dfsMmsLo6dQLjuy43NLDr\n",
       "yl6/jTqFmMQYPaCnwPh7667YHkUNTGYhigjMXkN2gmpgKYWXAovKQrSPjJwKrLOTTeytqip+jWqM\n",
       "XudmERXe/VqIfuYa8fPHLRtdC5EHOADvzlEU4ACSr8COHGFtnzpVTGCc8EQq1KSF6LW8k8nFfIF0\n",
       "KrCwa2AyBTZpUun3a68hO2H/bGNjrP9R2d06qagYAnOOkjiBDQ2xLbnPPlvtZg9qIdpvVGeIY/fu\n",
       "UvsQiC5GH8RC1O0kuX0o6nxVLEQdBSayDwE5gbmNSFU/6w03AK+95v08Zzvr61ldb+9etrzZBz/I\n",
       "zlFjY+k1Z7+mnZ2uyRAHn4cku+bDCHHEpcD8EJjJGhifJO8cxMrmgU2aVHpeZfYhUPzZ+vrYuXaS\n",
       "ZZpQMQRmX0YKKGypsn07iy6r2i1BLUQ3BSaqfwHRxuijshC5fciPq2sh7t7NOnrAe3Qvs3jCVGCv\n",
       "vAKsWuX9PFE7a2rYxOX16xmBAWIFZleWYRCY/Z5xq4Op1MC8JvaGFaMXKbDRUWDRotK28BBHnDWw\n",
       "kRExoejUwNy+D/tnS3v9C6ggAnNeZJkM66g2bmT2IRC9AnMSmB8FZjJGr3PDBQ1x8AQiUEpAXhai\n",
       "s6ZlWoGZILDjx4HHH9eb9Gy/RmfNAv7v/2UResDdQgRKz6FJCxFwr4OpKLBs1t1qDitGL1JgR44A\n",
       "zz5beg9zBaabQjRZA5OdSx0Cc7N0nQSW5voXUGEE5vSpJ05kBHbeeex3VQVWV2euBmbvQEUReiC5\n",
       "q9GbsBBFx/VSYPwz86i7V7tFq3AAYgIzFeLo7wc+8QlgzRrv54raOWtWwUIE2PkYGys+F2ErMPs9\n",
       "46aKVGpggPv3FFaMXqTADh1iP50J4CAKzFQNTKbAZCEOUQ1M1UJMe4QeqCACE/nUEycC//M/BQJT\n",
       "GTENDrLXBbEQZQpMZiFGGaP3YyH6CXG4WYj2FJaoBuZUVCoKLGoL8fhx4BvfAFav9l7dBShMr7AT\n",
       "GFAgMJ42tF939pG/UzWYSCHaLcSgCkzURtl7uIU4OMmoQqTA3AiM18CCroUIhK/AgtbAyEJMEWQK\n",
       "rLNTz0LM59nrgliI/OJSDXFEFaMPYiH6UWDcQtRNIdo7ev56rxRilCGOsTHWnksuYQnC5593fz5Q\n",
       "OJ88OeYkMEBMYHYLUaTAgq5GzztmrxpYUAUWVoxepMAOH2Y/nQRmj9EnrQamE6N3+z7IQkwpZAos\n",
       "kwHOOYf9rloDmzTJjIVo39JjbIwlz047rfQ1YcXog6QQw7YQ+U3sZiFycPKWbXMSdYiDK5dsFrj1\n",
       "VuDhh92fL2rjuecCH/4w226Gw0lgTgvRZA1sbIydU36evRSYyg7JbsomrBi9aEsVFQWW9hoYKbAy\n",
       "g0yBtbUVHtdRYH4tROcFym3EffvY/0VeelgxepMpRN0Qh2oKUcVCzGbVkppO1Ncz687eWZkgMLvN\n",
       "9dd/zeas7djh/hpnJzhuHPDHPxYvaeVHgfldJcU+xwyIpgYWlgJTtRD9xuijqIE5P4dlsd9FS0lR\n",
       "DawMIVNgvP4FqCuwIBai8+LiQQ5Z/curXaZX4kiihehFYF5tl4U4eBLVrsJMEJh91+D6euDGG4Gf\n",
       "/tT9NbI22qFTAwuqwJzTTkzVwKImMF0FZtJCNKnAnKp0cJDNFcvlglmIRGApgWiU1N4OXHll4feo\n",
       "amAiBSarfwHqMfq4FvP1U2fRSSE6iVmXwGQhDqCUwEykEJ1BgzPOKHSaMri1kcPLQjRJYM77Jewa\n",
       "WJgrcYgUWEODXIGZWszX634aHCz9blQVWH8/e0x0TnUsxLTXwFI8B1sPoots0aLi31UX8500ycxE\n",
       "ZqAQ5JBF6IFoY/RxTWS2k4iuhcjfw+sciSBSYEFDHHYFBqil2mSjeDucm1q6WYhBU4jO+8VEDUyV\n",
       "wPjnHBtiYrmwAAAgAElEQVQrXQ7JlAJrbZUrsNpadQLj16aIdLzupzvvZCGdf/iHwmOqCuzYsQKB\n",
       "+bUQSYEZxMaNGzFnzhzU19ejvb0dmzdvFj6vs7MTV199NZqamjBhwgT83d/9ndL7q3QQUSgwZ72A\n",
       "KzA3CzENq9EnwUKUdTpu3709CTo4yI4lqmdw+FFgKiN6leuzoaH4ugszxCFaucaEAnOL0XMSyGbZ\n",
       "5xENEk0psLY2MzF6t+/N7X4aGgKeeIIt52SHqgI7doy1VbTCiaqFSDUwQ8jn87j22mvR39+PVatW\n",
       "obu7G4sXL8aYI1ZmWRYWLVqEF154AXfffTe++93voqWlRfEY7h0TEE0NzDlaVbEQVWL0XKnIlupx\n",
       "wsRivn5DHENDrHMaN4797uzYVCxE5wjTrdNRVWB8YVPZXmBAvArMLcQhq4HxFVpUrwv7e6vWwFRD\n",
       "HLLzMDZWvNksP56IME0pMBGB+YnRu/UrbtfKr3/NCMR5HNUUIldg2SyrhdnvkUpSYImwENevX4/9\n",
       "+/fju9/9LpYuXYr3338fDzzwADZs2ICPf/zjJ5/34osv4tVXX8W3vvUt3H333ajzqnrbIPOp7Ygi\n",
       "hSgLcQS1EDOZQmevYufIFvPVsRD9KrBDh9iNI1tJI6oQB1BMYF4BDiBcBRYkxCGrgWUyBRJTuS44\n",
       "nPdLmDUwrjrsAwd+vKlTC49ZFiMZr4GoHY2N7Jh8GyOgQGAvvlj8XK7A+Dw+Fbj1K05r3I7HH2c2\n",
       "pvN8yBRYQ0Px5+A1MH4c+6COamARo6OjAwAwY8aMop/8cY7t27cDAJ588kk8+OCDaGpqwoMPPojb\n",
       "b7+95D3vu+++k/+fP38+8vn5iVFgJkMc9o6Pt1+VwExZiLohDrt9KDpuGDUwlRCHV4ADCE+BhRXi\n",
       "sLdZh8B0FFjQGpjoWhQdj3fSzpXa3cBX0j92jN1rQIHAnn22+Ln8exse1lNgsu9Ndq3k88AvfgHc\n",
       "dhvbWdwO2WCAf47+fuZccAUmOo6KhTgwwAYEf/zjBvz2txs8P2dSkQgCc8KS+B2DJ67+2tpaPPvs\n",
       "s/jWt76FZcuW4TOf+Qw+aF+yAMUEBgDf/76aAlMZKZuM0U+YwLbdGBuTj4ZU5zjpWHkmUoh+Qxz2\n",
       "BCIQfCUO0XvYoWohegU4gPhrYE4FZo/rc4VkWWIC00FYNTAdAnMeT9c+5ODLSY0fz97DstimsbIQ\n",
       "Rz5vhsBkn/dXvwIuvJCRaGdn8d9kCgwokDonMP7dO4/jNljh733gAHNBFiyYjwUL5p/8+/Lly8Uv\n",
       "TCgSUQNrO7EvRueJb7Orq+vk4/l8HsMnejD+vCuvvBILFy7EFVdcAcuysGvXLs9jmKyBjR/PbjqV\n",
       "Ne6cECmwbduY+pLVXlQ7Zx0lZCKF6Hc1ensCkR837BBHlBZilDUwkQJzLkvll8BUU4hBJzKLrkVR\n",
       "lN4vgdmXk+KDJ+c6pPz9dScy+6mBPf448Dd/Iz4fboMB+yDCrsB0CAxgn++999Jf/wISosAuv/xy\n",
       "tLS0YPXq1cjlclizZg1aW1tx2WWXobq6GrNnz8a2bdvwmc98Bi0tLXjyySfR1taGp556Cs3Nzbj4\n",
       "4os9j2GyBsZ3qR0YKFxEqhDVwN54A7CV+kqgao+pdlS8aK6z87MTzhSizOsXIakWYtw1MD8WoijE\n",
       "IVpqS5fAwpoHJjoPUSkwwJ3A+Pc2Oqp+H3jVwJzvc/w4Wxtz1Sq2kLjzfHgpMP45RDUwDq/vgxNY\n",
       "2utfQEIUWF1dHdatW4dcLodly5Zh2rRpWLduHbInhpCZE9KkoaEBTz75JOrq6nDbbbchl8vh6aef\n",
       "xhR7byiBSQVWXy/eIVcFohj94KC8/gWoxegB9Y6KX+BOxZdUC1GFwNxUTloUmKkQh/P8+JloHsZK\n",
       "HLLzYI/Qc0SlwHi1YmyMfWY/KUSdGtjzzwN/8RdAS4v4fHgpMH5O3GpgpMBiwLx587B169aSx51R\n",
       "+ksuuUT4PC+oKDAVC413NM5JpaoQxegBdwKrrmajQtHETj81MJnl49dC1O0gDx4Epk0rPm4SVuIw\n",
       "qcBmzixum1eHaCLEwT+/CQWmm0IMEuKwr0TPEZYCO3yYEVhdHXMgOGnx+5rPQQurBsbtQ/53vwqM\n",
       "7wUmOo4Kgb3/fnkQWCIUWBQwocBGRgpxdeekUlWIQhyAPEIPsGOK1NHYGCM2fsGrEomsw4lqIrOO\n",
       "AotyJY4jR8yEOOJeiSMMCzHqGphJAhMpMKDYRuQRens7VebO6dbA/ud/gE9/mv1fV4E5CUwW4lC1\n",
       "EInAUgQTNTB7h+HXQhSFOAB3BQaIb377XB9A30J0IqqJzGGFOJJiIUaZQhQt5utUc35WpHdaiI2N\n",
       "7HOJOvUwUogmLURRDQwoJjD7oCObVR8M6tTALItd+3xum64Ck1mITudE1UKkGliKYEKB2TsGvxai\n",
       "KMQBeBOYqG3Ojlm1o5J1OFFNZO7qAk5M9Tt5XF0LUTQJW0YSbvYcn0gOxF8DC7qUFP/8ousiqIVY\n",
       "VSVf3imsGL1zBQ1TCowrD6cC0x10AHo1sN7ewlqLQDAFZg9xOAeeZCGWIVTXQnTraOwdg18L0XmB\n",
       "1tayreenT3d/nZsC49CxEGUEFsVE5s7OYsvUeSObVmBuFmJDA7Nh8/n4FZifEEdUFiIgroONjjIH\n",
       "QGVysQ6BiTYbDaLAvCxE0aAjKIE5P+/Bg6XpW1MKjCzEMocJC9GpwEzUwADgoYe8OwAZgTmtorgs\n",
       "RNUO8vhxdvPZdxrWrYGJJjJ7pRBl3z3fE6y3NzwFxpdJcn4OO/yEOJwpRNMhDieBiepgquoL0IvR\n",
       "T5nCOnw7gigwLwvROehQXdBXR4EdOFBMYGHVwFQU2KFDZCGmBs7t0WXQrYG5WYiWBTzySOnjqgVv\n",
       "lbaJOqogFmJ1dSEYovMeOh1kZydL6Nkj/M4b0J5Kq6pi7bHXXkwqMKAw2jcV4nB2hrx9biP6pM0D\n",
       "Ew34RApM53rWidFPnly6h1qYCswe4uBtVVVgstKESIE5B25BUoh+Y/S8vaTAUgJOPG6rjAN6CszL\n",
       "QhwYAG69lRGCHbqLqnKoWIiqHZWs08lk1OtgzhSiakigsxM47bTix9wUGLen7OrFZIgDYAR25Agj\n",
       "MV6TlMGPAgO8R/QmV+IIy0I0ocBUY/QmCUxFgTnfW5XA3Jwd53l3WohB5oG5TWT2GlTw9hKBpQQq\n",
       "AQ7AbArRXlC3Q3dRVQ7TNTBZG1RtRL8WorP+BRRGnJyknDex00Y0OQ8MYAS2b19hDpAbkqbAZATm\n",
       "x1q2Q2QhihSYCQITvUeaFJhqDcxpIZpSYKIBoJeFCBCBpQYq9S/AbAqRX1DO5+jc8HaYVGBubfCj\n",
       "wHRCHCIFxo/LP5/TUnImEWUE5pZC9FJgu3Z517+AcBVY0BAHf38TKURRxyyKtus4CroEdvhwsXUc\n",
       "VIGNjjLC4jaxW4gjjBSi00KsrWWEZXdpdFbiCFIDy2S83YY0oCIILAwF5mUhygjMrwKLIkYPqCcR\n",
       "/dbA9uxRIzB7+5xJRD8WopcCUyUwTtaySa6W5U+BmQhxmK6BiSzEIDUwHQKrqWHn0L5eYVAF1tPD\n",
       "/s8HR14hjjBqYHYFJlqgQEWB8WuME5ioBuZlIU6YULqqTxpRBh/BG2EpMBULMUoFFjRGD0RjIeoS\n",
       "mIqF6KZwVBRYR4daKiubFUf7OYaG2N+dnZCJGphT9ccR4ogqhQiU2ohBFZhzBRivGL3KfRCkBiY6\n",
       "jkoKkR+TJ5f9WIjlYB8CFUJgYdXA/FiIpmtgJmP0suOIECTEIVo2K2wFZspCBNzPs0h98fYFrYFx\n",
       "y4mnMu3noaaGPT4yEm6II0gNzC2FGCaBcQXmRmBBFJjfGhh/jv04KvPA7PUv0XFULEQisBQhDAUW\n",
       "xEJMaoweUK+BeSmw994DXn+9+DHL8qfARDUw0Uocos7RssTzxuwwSWCi+hdgRoFlMoWOlZ8DbgPx\n",
       "vw0O+lfmdshCHFHVwIDSuWBhKjCVEMf69cCbbxY/5va9cYXEp6U4a2D8OLoKzF7/AsRLSXlZiOUw\n",
       "BwyoEAIzqcBMWIhJiNGbSCG6hTjWrQPuvbf4sZ4eefHYPhI1qcB4IMTN758wAejri1+BeYU4gMLA\n",
       "yc1GNZVCdHbMYdXAZKrDpAJTsRC9FNhjjwG//nXxY159i/0ziyxEEwrMec9WkoWYmO1UwoTK6Bbw\n",
       "Vh/2TiMpFqLpGphfC9F53N5eYMuW4sdk6st5XK8amEhRyQhC5bvnxBWnAlMJcQCFIMfYWOnz+TnI\n",
       "54sHCX4W85UtJbV3b/FjYcXoATGBic6tF6qr2ft3dQVTYD09LBlph5e7w6+VmhpGPM5rzI8Cs88B\n",
       "A/QtxA9/uPg8pBkVQWCqFqIXAdg7Q78WYjnE6MfGmDXHLRLRcfv6gJ07WQfBO1NZ/YsfV8dCVFVg\n",
       "XgEOoNCpqNoqcdXAgOIkovP5dnvReV3oLnummkKMmsD8KDCAtX337uJFpO2bWjrfW/R99faWEpjX\n",
       "98Y/cz7PVI/TCdBRYA0N7Lm9vd4E5vad/MVfsH/lALIQbaiqcl+zzqnA/FiIYcfoo0ghOnd0Fo3w\n",
       "+cjWvveoXwWmYiHKFI6KNZcEBaZLYKLP5UZgOhYi/y5VdkkOk8BM1cAAZiPu2lWsPPh8qHzevwLz\n",
       "+t74uRfZh/w4TgUmI7Bsln3+/ftLCcz+/fotU6QRFUFgqgoMcL/ZnTWwpE1kjspCdI7wRHOj+vqY\n",
       "onnttcJjsjlgzuOaXIlDxZozSWB+FBhfq1Ol07ETmEiBiUIcugQmG/DJFJhqZ8kHOqLl1aJSYE7r\n",
       "jKswlRi9HwLj16WMwEQKzK1/yOXYqjH2tupup1JOqAgCU1VggPvNbu8Yop7InCQL0dlpZbOl6xX2\n",
       "9QHz5hXXwYIosCgsRFMEpqvAeKLQa61OoEBgMhVqQoGJ7EMg+GK+fK1N53lQJTDZ4EAFzc3uBKYS\n",
       "o5fVwNz6Fn7uRRF6fhxVBQaw76C7O5iFWE6oCAILS4H5tRBNxuidaTOVYr1bG3QsRLf29fYCl15a\n",
       "rMCC1MA4OY6OshG88yYPEuJoaGDHM2Uh6iow1QAHb6tMgfFjBE0hyu6XoIv58jb6IbCREfbPr7LI\n",
       "5di50VFg9u+Lh2OCKDBnhJ7/XVeBeREYWYhlhjAUWBALMQkKTNYGPxai6Nh9fcAllwDbtxdI1UQK\n",
       "kX9mp1oJosD4nmBxKTDV+hdQrMBkIY6gayHK7pegNTBA/D3Jggv2GtjAALvnVFSqCM3N7KdfBdbb\n",
       "y1yGOGtgQMFCdMbodbZTKSdUBIGFocCSaCGaqoHpWohAqfrr7WW7TJ92GvD220w17d3L9gKTHVdF\n",
       "gckISUZgqvOr/uM/gLY27+cB5hWYDoHxgZMsxGGiBuZmIQaZyAz4V2BB6l9AocN3IzC3xXx7eph7\n",
       "cORIoYbHF+J1Ixz+eWUWoq4C4xais61UAytjhFkDky3qyufiRB2jD7oShykLsa8PGDcOuOgiVgfb\n",
       "v5/9rrLwqVsNTLQKB8CeL9qMU9We+8xnvHfF5kiCApOFOEzUwGTtCVoDA/QIjBPW8ePBCay5mZ0H\n",
       "53djtxDdFFhPDyOgxsbC1iy8X3FThXYFJrIQ/SgwFQuRamBlhDAUGJ8c6UZ2EyYUExhf1shUDSyM\n",
       "GL1fC9F+LsbGWEfX3MwI7LXX3OtfzuOqWIhOyAICKhaiLsKogam20S3EYa+BhaHAoq6BAQUVZkKB\n",
       "TZ5cSjbjx7PBlXMBZiex9Pay+3nSpIKNqDLwCCOFePCgPEYfpI9JIyqCwEwpMCdhuNmIIgIbHWWj\n",
       "fD/bGKTBQuSvO3aMdTZVVQUCc4vQA8UdhpuF6Lauoegc6agbVZS7ApMRGP/OnXOOdDpLUbrP7T14\n",
       "HcyEAhOtPjF+PFu3U7R/m1OB+SEw0zWwpiZGUrKlpEZHC6ngSkDFEJgJBea0o9ySiPk8mwdlJ7Ag\n",
       "3nRUMXoTFmJfX2H1jQsvLCgwNwLTsRDdCMzZOaZBgekS2PHj3gRm/5vuYr5u7XHWwcKsgQHmFZgT\n",
       "48cD779f+t6mCMx0DYwTl6wGVkn2IVAhBOY1V8MOHQXmlkTkCsxOcEGkfVQx+iApRH7s3l5W7wJY\n",
       "kCOTAf74RzUCsyw2inTuyOxlIcraHjWBRZlClIU4gqYQ3e4XJ4GFWQMDzBFYWArMq1/hA0K3Gpj9\n",
       "OCoKDJDXwCopwAFUyFqIYSkwFQtx167CY0HmZ0QZow9qIfIAB8DI66KL2FYUV18tf0/++Xik2l6r\n",
       "UKmB2d/DjqgtxCgUmMo8sDAJzB7kCDNGDxQIrLo6GIFddZV4/T+uwESL7HoRmEptva6OJRczGfl1\n",
       "YT8fqgpMVgOrNAKrGAVmKsThVGBJshCj2pFZtgU8P7Z9AV+AEVhvr5oCE723qoUoUjlpUGB+JjLr\n",
       "rsShsxq9G6E6gxxhhzhM1cAmTwbOP7/0cU5gzu9MFKP3WwPr6hLbh4C+AhMRmP2eraQAB1AhBKYT\n",
       "4nCz0EQ1MC8L0f73IP50VDF6ExOZ7QoMYAQGBCOwcldguinEOEIcgLgGlgYLUYbx41l7RDUwezt7\n",
       "ethz/dTAurrE9iH/u44C40Qr2tDSsiprFQ6gQggsLAWmm0IMosBkNbAwYvRBLUSnArvwQpaMOvVU\n",
       "+XvaCcw5Ag1iIaZBgZlMIZqayBxmiEMnhRgFgQHeNTBZjF6lBvbee+EqMJ46HB4mC7EsYXIic5AU\n",
       "omkF5iTUqFajl6UQufpzKrBZs9hKFyorFgRVYOWeQuSqX2YhHj9eumagqaWkgNIamK5lJSLyNBBY\n",
       "kBqYm4XoR4FlMqXfD/+OyUIsE2zeXPh/mDUwHQsxihh9FCtxeE1ktsfoATY6/Nu/dX9PEzWwJFiI\n",
       "cSqwujqmFJwr25u0ENNaA5OBX6dhxejDqIE1NYk3xuT3DymwMsA3vlH4f1gKTNdCDKLAVGP0Kh2V\n",
       "V4zehIVoV2AqcCMwu4XoNghIgoUY52r09fVs8OD8vGFbiGmugdXXs2M7Bx38muNLkwWZBzYwYK4G\n",
       "lssV24fO9yELsUzw1lvApk3s/yYU2MgIK5LaR0deFiInML5eYpImMoe5Gr3TQlSBCQtRpHKiVGB8\n",
       "yw9R+7wUmImlpOrr2eAhKIF5WYimJzK7ddphE1gmw1SY870zmeLvzE5gR46wx1QVGGBOgZ16Ktum\n",
       "yAk+8CQLMSZs3LgRc+bMQX19Pdrb27HZ7gE6cODAAUyZMgXZbBb/+q//KnzO178OPPQQIw+dEa7s\n",
       "Zhe9h5eF2NTE7DMTczSSFqPXCXGogCsU0xZilAqMd7KixV2jmAcmIzDRjtlu0JkH5qcGJgpxyDrt\n",
       "8ePZee3tDYfA+DFEti//zjgxNDayuvbhw+xcqiyQwL8LUzWwKVOAxx8vfZzft2QhxoB8Po9rr70W\n",
       "/f39WLVqFbq7u7F48WKMOfceP4E777wT+RN3QUayFPSXvwy8+CLwxhvsglBdf1DWOYlGyV4WYn19\n",
       "ocMBgluI9gt9dLRUEZqK0atYiDohDhWUQ4hDVv8CzNbAjh8Xfy5eA3M+ns0Wn0MvhDkPTHdPsUyG\n",
       "qZ7OznAJTPTe/DvjAzIenshm5YMIJziZyCxEXQUmA1mIMWL9+vXYv38/brnlFixduhQ333wzOjo6\n",
       "sGHDhpLnPv/883juuedw9913u75nLgd89avAAw+o178AfQXmZiHW1RUTWNAYPd9/iLfH2VHxTkrC\n",
       "+ycR9mr0fhWYSg0sySEON5srSgUmei8dGzHMeWDNzaVbsni9x+TJ4ROYLHiTzxfsQw5eB1OtgQHu\n",
       "FiK/Zvl962chXjuBVZKFmIilpDo6OgAAM2bMKPrJH+c4duwYbrnlFqxYsQJNsqGuDbffDrS2ioue\n",
       "MtTWlt5ggFiBeVmIdXXFzwmiwDKZQifEbyxnezIZ9v7Dw+6qI2wLMQwFZrcQZV993BaimwKrrmaK\n",
       "WbRskskQh2y1ft5mhdsmVALL5Qr7aam+x+TJwJ//HB6BTZwo7iP4fdbfLyewlhb39/aqgdkHNn7V\n",
       "F3+foaHKsxATQWBOWBKz/qGHHkJjYyM++clP4plnngEAHDx4ED09PZjgWMzsvvvuAwDMng3s3j0f\n",
       "wHylY+soMF0LMai85xc7H7XJOqogBBbEQpTF6FWgYyFOmuT+HnYkRYHZ9ytzdlI6IQ5OUgMD4hAH\n",
       "IH4vnRXpdVaj172mczl/Cmx0NDwCW7nSfaFdmQLTqYHJrlm7AvOqf7mBDzx1v48NGzYIna60IBEE\n",
       "1nZiL/fOzk4AQFdX18nH8/k8qqqqUFNTg7179+Ktt97COeecc/K1K1asQC6Xwze/+c2i9+QE9sUv\n",
       "Av/rf6m3xa0Gpmoh2hOLpmpgAPCBDwDvvgu0t8tH7SpWkW4UXfR60URK/jnDjNEneS1ENwVmb5/z\n",
       "OToky4mwp0c8D8z+U6XNInjNAwuymK9fCxEIj8BaW8WPm7AQa2uZwnMbMHIF5raosRf8Wojz58/H\n",
       "/PnzT/6+fPlyfw2ICYkgsMsvvxwtLS1YvXo1crkc1qxZg9bWVlx22WWorq7G7NmzsW3bNtx2221Y\n",
       "uHAhAODFF1/Eww8/jCVLlmDx4sXS9z79dGDVKvW2uCkwVQvR/lyTCmzuXODVVwsE5rejCstC7Otj\n",
       "N2E+r2ZV2WFqInNfX/FjcaQQZZDVwXRVYmMj61R1FFhSamAiC1EleQeER2Ay8O+Lr4PIoVsDk9mH\n",
       "QPGgy8RKPWQhxoC6ujqsW7cOt956K5YtW4bzzz8fP/rRj5A9ER3kScP29na0t7cDAI4ePYpMJoML\n",
       "LrgAZ599trG2yDpw0cUqsxDt6igMAuPHkFlFXknEMCxEblHx+pckHCpFWCnEKC1EVQXmhG4bGxpY\n",
       "ByqqgQHu1rIKdDe01CUwkQJzUx5hKzAZ+PcVRIFNn84GnDLwa2lsLJgCsy8lRQQWA+bNm4etW7eW\n",
       "PC6L0i9ZsgRLliwx3g5dBSYiMHtNw6SFePHFwH/+p7w9bu23w0uB8TlDMhJym8jsJ8DBXz8ywj5X\n",
       "Wlfi8KvAdEIcQEEdyQgs6hSiToeZRAtRBhUL0asGds45wNq18r9zS5gHMIIqsEpLISYiRp8kyBSI\n",
       "rAYWpYV40UXAtm2Fjj4MAuNJRrf3cEsh+glw8OPW1rLO0fR2KqYJTHaNBFFgOm3knaZoGkU2G9xC\n",
       "dPscTgWl22H6TSECetNhTEAlxGFC3fOBjYkaWKVZiERgDugoMFULkT8nqAJrbgZmzmTLZMk6PZW0\n",
       "mVc7vGxEt4nMfgIcHPX1rHM0taHl2FhhGwyTiLsG1tBQGGjYwUfzQQiML4cl6wSDWoh8JQ8eNOZr\n",
       "DbrNfZoyhbXHb+fuFzIC46txmLKn+XUbVIFVooVIBOaAiRSizEI0cXHNnctW2veK0ctgWd6jZq8k\n",
       "opeF6EeB8ePKCMyPAjtyhJGpaUslCTWwujqxxVtfH4zABgYKW3aIwAmME5Bup1tTw/7Z5z55vX7y\n",
       "5OjtQ6BAYM5BkE4NTAUmFJg9Rk8WYgUjzBRiUAUGsDrYq6/6txBHRwsb4MnglUQU2RRc+QVRYHV1\n",
       "YgvR70oc+/d7TzT1gyQoMNnzgxJYf7/7Z6iuZv+CJOeamws2osrcp9NOA/76r/WOYQImYvSqxzGh\n",
       "wMhCJGgpsKhTiEAhieh3HpjKTeLXQgwS4uDHDWIhOgkiagLzq8D8hDjCIjCVVd/tdTA/17T99SrX\n",
       "Yy4H/PCHescwAa8YvcpEZp3jmJoHRgRWwdBRYHV17AbkPj6Hm4VoQoG99pp7DczNQlQlML8Wop91\n",
       "EO3HNWkhpkmB6YY43M5BkBSiFwkDxXUwP6rBSWBR17ZUYSJGr3McUzUwshArGDoKLJMR24huFmLQ\n",
       "0dHkyayIvH27v5G2yk3ix0LktbcwFFhaLEQ/Cmx0VH8JobgVWFACs1uIJmz1sCCzEHM59j329SWz\n",
       "BkYKrIKho8AAsY0YpoUIMBX2+9+HR2BBLcQwFJifFGIaFBi/VnQmfjc2hlsDU1VglmVGgSWZwI4d\n",
       "Y9+rfbFfvsWLrvXrdhyqgfkDEZgDOgoMECcRw5rIzDF3LvDKK/5i9GFZiKZCHMeOlY5Ck2YhVlUx\n",
       "5eScY+9HgfmxodwsRBmBqS7mq6PARkdZZ667/UeaCKy7mw3InPsJTprEHjPRdtM1sKSezzBABOaA\n",
       "rgLTsRBNKbC5c/3H6FUucL8WYlgKTGclDrvC6e4Oh8D4pGvneQ6iwHQQdgrRS4FxAvJLPmmyELu7\n",
       "xfMIJ03SV85ux6F5YP5ABOaArgLTsRBN3awXX8x++rUQvS5wLwXmZiGaUGBJD3EA4vPsV4HprhTi\n",
       "FeKIqgbm93q2K7AgW4iEjbo6YN8+8YCME5ip45iqgZGFWOGQqQ83BaZqIZoaHU2fDkydGl+MXpZC\n",
       "DCvEoROjj5PA/Cgwvxai7DV/+7fARz6i1l4RdGpgJggs7QrM1HFM1cAqzUJMaIA1PpiogblZiCYu\n",
       "rkyG2YhhxeiDWIhBY/RHj8oV2NgYq7u4raQfJYE5z5GKAnMuZGuawD73OfHjqqvR6yowPwOyNFmI\n",
       "sqXIJk0ytzYjH9g0NQXfkbnSLEQiMAd0a2B8bTfnc3kHY6+RmZT3X/saU2JOmFJguhYiDwkMDIQX\n",
       "ox8cZJ9PVnfg7ebLZR0/bn4dRA5TCsxPDWzWLLZMlg7CqIH5HZDlcsCBA+z/SZ8HBqRDgfEBlds6\n",
       "luWIhF468aGqinWAo6PF6SrZSNk+mrQ/l6uQMCxEAPjkJ8WPR2UhyhRYf38wBWZZcgvRa2sUvhr7\n",
       "yAjrIFtazBTZRXCe57Ex9j27EZipFOK8eeyfDviGo144ftxbtVaShQiET2AmU4huDkU5gmpgDtj3\n",
       "57FD1nmKCCzMtRC9EJWFKKqBHTvGOnK/25fw18ksRJW9vXhnEKZ9CJQSGK97OuPWorbZEcZ2LyLo\n",
       "hDjCroGlyUIEolFg+by5GlglKTAiMAFEN7uOAgt7IrMbvDoqFdsnyFJS48f7Vz0yArNbiCoENjgY\n",
       "PUtRC/8AABa2SURBVIGpWG+mFJgfmFrMF6g8BSZyFGbOLOxTFhT8mg2qwPimmJVEYGQhCiC62XUU\n",
       "WNgTmd3gZRWpxuh1o/j8c/mtf/Hj2t+LQ9VC5O8RF4F5dfymUoh+EMZivn4HZGmK0QNiBXbJJcBH\n",
       "P2rmODztaKIGxv9fKSAFJoAJBRZmjN4NUa2F6HyPqipmn4VFYCMj7HMllcCOHStebkgEkQIztRyR\n",
       "F5IUoy8HCzGTMRc+MaXAKjFGTwQmQFAFZu+UampYXWh4OJqLK+zV6EdHWdBCtHxQba3/AAc/LhDM\n",
       "QuQkETWB9fSwRZbdUC4KrNIsxLCSrPbjmKqBVZqFSAQmQFAFZrcQM5mCCovi4go7hej2GWprw1Vg\n",
       "PEbv9R5xEZhXR2dqJQ4/SJICS9N2KkD4BGayBkYhDoIRBWZ/LiewtFqIN90EdHR4vz4sBcaTfQMD\n",
       "6inEsNZB5HCeZ5UJ3OWiwHI5RmB+r+e0WIhuNTCTMKHA7NupJPV8hgEiMAFMphCBYgWWNgtx717g\n",
       "sceAl19mv7vdIDU1wRSY3XZ1orqajdqTWgMLosCiIDDV1ehVFViQxXz56jXcWk9qh1tdzf4FGZSp\n",
       "wGQNjCxEglELEUiWAlNpg91CfOYZVu/ato39HoeFyB/r7083gZlaicMPklQDq6oqLIKdZAIDgKef\n",
       "jlaBBVnMd2hIzWYvJxCBCeC82UdGWHBBdHHpWIhRxehNWohPPw3ceGMxgUVtIQLs3OsS2Cmn+G+L\n",
       "F9KmwJJUAwMK902SY/QAsHBheKu5cNgVmN9zwVPAZCESSmpAbqNkHQsxiovLa9FWHQvxwAHg1VeB\n",
       "r3+9QGBunyFMBaZqIdbXM/KqqzO32KoIIgLzWwNLSojDsth16nXe+Pqeg4P+r+ege4qVE0woMKCw\n",
       "EozuBqNpRkLzP/HCebO7xbebm9mNaFmFkZrIQjx6tDBKChOmdmQeGgJ+8QvgU58CzjsPOHyYBRW8\n",
       "LMSwFJiOhbhnT7j2ISAOcSRdgXmtRp/Ps+d5dYBVVew89/X5t6uIwAowocD4+zh3CS93kAITQLTO\n",
       "nayTqa1lpORUbE4C6+2Nxps2uRr9008Dn/0s+3yzZwOvv+7++qAhDlMWYmdn9ATmtwaWJAtRpf7F\n",
       "0dTEPnNQCzHJMfqoYFKBVdpggAhMAB0FBpTaiCICCzJa1YGpGtiBA8BLLwFXXskeu+ACZiO6WYgz\n",
       "ZwKnneav3YBZAps61X87VOCHwGpq2ETw0dHCY0kKcURJYKTACjClwGprKyvAARCBCaGjwIBSAnM+\n",
       "nyuwKG5Urxi96mK+W7YAl15aUFTnn88IzM1CfOop4KKL/LWbHxcIbiEmVYHxnQ7saj1JCkwlwMHR\n",
       "1MT2JCMCCw6TCowIjFCyEkW5KTCVGD3A7EMOrsDC7HD4cUU3MVdgKm2Pg8BUd6J21sGSFOLQUWC5\n",
       "HCMwv9e03UKsdAIzWQOrtHNJBCZAEAU2MsJ+2jvhKBWYKQsxmwWuuqrw2AUXsBpYmElKUylElU0Z\n",
       "g8J+ni1LTYEBpXWwAwfY3lJhIwwFZsJCTHqMPgqQAvMPIjABgtTARGTX2BhtiCNojL6tDVi9Gpgy\n",
       "pfBYSwt73e7d4X0OUzUwIFoCy+eZPahiBToV2J49wBlnhNNGO6gGllzw7ybouaAaGAFAMAUmIjtu\n",
       "IUZVAwuqwBoagK98pfTx888HNm2KR4Hp1MCAaAlMVX0BxQqst5cpEK9V7E0gaTUwshALyGbZ99Pf\n",
       "TylEXRCBCRBEgckILE0xehkuuIBNbA5bgYnmISVZgekQGLeLAKZmzzgj/JUegMLAxrLkz/FTAyMF\n",
       "Zgb19ex8BK2BkQIjBFJgoucmLcQRhMC2bAmvw6mvBx59VNyh6yzmC0RLYKoBDqA4hcgJLApUVbHz\n",
       "ao/wO6GrwExNZK70eWAAuy6OHQt2LshCjBEbN27EnDlzUF9fj/b2dmzevLnkOb///e/xsY99DBMn\n",
       "TsTEiROxePFiHDx40HhbwlJgaYnRy3DBBWwJobA+RyYDLFki/puOhZjNhh+MMKnAokJjIzuHMujW\n",
       "wCyLLERTMKXAKu1cJoLA8vk8rr32WvT392PVqlXo7u7G4sWLMeZYF2XHjh1oaWnBd77zHVxxxRV4\n",
       "+umn8Y1vfMN4e8KogSXJQvTbjvPOKxwjaqhaiPX1LHwS9npwQWpgXIFFFeDgmDSJ2X4y6CowgCxE\n",
       "UzChwMhCjAnr16/H/v37ccstt2Dp0qW4+eab0dHRgQ0bNhQ97/rrr8ezzz6LL3/5y/jhD38IANi+\n",
       "fbvx9jgX8+3tZSQlg4qFGJUCq6pi66HJ1kQL0mHkciyhGEeHU12tvqFl2PYhYE6BnX56OO0TYdIk\n",
       "tqalDLo1MIBi9KZANTB/SIT73HFiu98ZM2YU/eSPc9TYvt1f/vKXAIBLL71U+J733Xffyf/Pnz8f\n",
       "8+fPV26PU8Xs2cM6bhlUFFhU+/RkMoUovaizDzriveCCeDocfkwvApswIdhyVqpwEljSa2CAN4H1\n",
       "96uTP1dgQScyNzYSgQGFxROC1sB0z+WGDRtKhEKakAgCc8Jyi0qB1cu++MUv4kMf+lARUdkhe1wF\n",
       "TgLbvRtw4z8VAgOiu1F54iwMApszhymhqMFvbK8O89JLgQ9/OPz2OEMcaaiBqSiwqC3ESZOIwAD3\n",
       "3chV4UeBOQf3y5cv99+AGJAIAms7IW86OzsBAF1dXScfz+fzyGazqD3xzfzud7/DlVdeibPPPhu/\n",
       "+tWv0KjqeWhApMDcOhoVC5G/bxRwq4MFJbCvf917W44wwAnMS4Fls+o2WBA4FZiq6uMKLJ9nZDJ9\n",
       "enhtdMKkhWiCwCjEUYDbMmo670EWYgy4/PLL0dLSgtWrVyOXy2HNmjVobW3FZZddhurqasyePRvb\n",
       "tm3Dq6++issvvxwA8KUvfQm/+tWvkMvl8Fd/9VdG2yNSYKoE5qbAoiQwGckE7TDC3l5dBlUCiwpB\n",
       "a2B79wIzZkS7+aCKhaiqwILWwPg+ehSjZzClwCptMJCIEEddXR3WrVuHXC6HZcuWYdq0aVi3bh2y\n",
       "J3Z/zJyYGLR161YMDAwgn8/j1ltvxec//3nccccdxttj75yOHmWkNHmy/PlJsxBPOQV47z3x39K6\n",
       "5bhqDSwqBE0hRm0fAuEoML+DsoYGdv7y+XRej6ZhQoFV4jywxIx95s2bh61bt5Y8bo/S33TTTbjp\n",
       "pptCb4u9c9qzhyXF3FZLSJqFeNFFwObNwNy5pX8LEqOPE0lXYKohDq7Aok4gAozA3nxT/vcoY/SZ\n",
       "TPDlqMoJpMD8ITEEliTYt1NR6WiSpsAuvpgRmAhprTkkmcB0QhzlpsCCXEvNzURgHCYU2N/8jftE\n",
       "9XJEIizEpMGpwLw6mlyOXTiWlYwa2MUXszULRUgrgZWLhWhXYHEQmKmJzEFrYPw9+vvTeT2ahgkF\n",
       "dvrpwLnnmmlPWkAEJoC9c1JRYFVV7ALs7xdbiCYuTh1cdBGwdat43bu0EliSFZifGljUq3AAyVNg\n",
       "JkiwXGBCgVUiiMAEcBKYSkfDbUSRAuN7RUWlwCZMAKZOBXbsKP0bEZgZ8GtkcJCdU9WOP24FZiqF\n",
       "2NBQmDTvF3x1mzRej6YR9SC3XEAEJoCuhQgU5rXIFv5taIg2PCGrg6WVwHibk9J2fo3wlehVt0Sp\n",
       "q2MTwffujWbFEDtMKrBMJvgqGqTACiAF5g9EYALoWohAQYHJFv5taIj2RpXVwYaG0ptCrK2NZu8s\n",
       "FfDVTnTsQ4BdG7t2sU0sVXZwNgleixWtpDIywixnnWujqckMgVGnza6FTCbaeYHlACIwAfhivsPD\n",
       "QHc3m3DqBTcLEWCj1SiJY+7c8lJg1dXJsQ8B1tFks8ChQ3oEVlcHvP129PYhh0yFcfWlM0BYsQKY\n",
       "OdN/W0iBFVBXR0TuB0RgAnAF1tXFakkqN5gXgcWhwDZvLt6B17LSu/p3TU2yCAxg18n+/foKbP/+\n",
       "+Ahs4kQxgfX36y/B9YUvUA3MFOrr6Tz4ARGYAJzAdJJiKhZilAps2jR2vD17Co+NjBR25k0bkqbA\n",
       "gAKBqU5iBgqfIYkKTDXAYQqkwAogBeYPRGACcALTWS2Br+2WFAUGlNqIabUPgeQS2IED+goMSB6B\n",
       "+VFgQZHLpXdAZRqkwPyBCEwAO4HpKrCkpBCB0iQiEZhZ+LEQ+WeIehkpjiQpsObm9F6PpkEKzB+I\n",
       "wASormaJrI4OPQXmZiFOnqxnNZmAM4mY1oV8gfKqgQHJU2A6EXpTyOXSez2aBikwfyACE4BP0Hzn\n",
       "HXMK7H//b+DETjCRQaTA0hihB8pPgSWNwHQmMZtCLkeqg4MUmD8QgUlgmsBqa1nsOkq0trK63P79\n",
       "7HeyEM3CT4ijoQEYNy6+fdWSpMDIQiyAFJg/EIFJUFvL9tQyZSHGgUymWIWlmcCSaiHqhjhmzABe\n",
       "eim8NnkhaQosrdejaZAC8wc6ZRLU1bE5M3yuihe8FFhcmDcPuOce1lFMn57eDiOpCkyXwDIZYM6c\n",
       "8NrkhSQpMCKwAk49FWhvj7sV6QMRmAS1tUBLi/rzk0pg3/42MGsW8Pd/H0+U3xRmzQI+/vG4W1GM\n",
       "2loW9onLDvQD2ZYqcSiwM88E7ror2mMmFTNnAv/n/8TdivSBCEyC2lq9QnsSLUSAzbP5/OeBz30O\n",
       "eOwxoLMz7hb5w5w58SoXEXggJup0aRAkSYE1NgK33BLtMQnlBSIwCWpr9ebqJFWBcdTUAF/6Utyt\n",
       "KC9wAkubApPVwKZOjb49BEIQUIhDAr8KLKkERjAPvjq+ap00CWhuZqvRDw8XPx7HRGYCISiIwCQI\n",
       "YiESgVUGamuZfRj19IggyGRYOMlZB4tjKSkCIShSdOtFi2uuAT7yEfXnNzWxkW02S3HYSkFtbbrs\n",
       "Qw6RjUgKjJBGUFcrwT/9k97zMxkWCx4dDac9hOSBK7C0QURgpMAIaQQpMINobk5WApEQLkiBEQjx\n",
       "ghSYQTQ3F28gSShvlBuBkQIjpA2kwAyiuZkCHJWEciKwOCYyEwhBQQRmEGQhVhbSSmATJ5ICI5QH\n",
       "yEI0iOZm8SRRQnni7LOBkZG4W6GPSZOAt98ufowUGCGNIAIzCLIQKws33hh3C/yBamCEcgFZiAZB\n",
       "FiIhDXASmGUxAmtoiK9NBIIfEIEZBCkwQhrgXJGerx5TVRVfmwgEPyACMwgiMEIa4FRgNImZkFYQ\n",
       "gRkEWYiENMBJYDSJmZBWEIEZxPjxVEcgJB8TJgC9vcDYGPudFBghraAUokF87nPAJz8ZdysIBHdU\n",
       "VTG3oLeXzQkjBUZIK0iBGUQux7YGTxI2bNgQdxMSAzoXBTQ0bDhpI1a6AqPrIr1IDIFt3LgRc+bM\n",
       "QX19Pdrb27F582bh85599lmcddZZaGhowIIFC7Br165oG5oy0M1ZAJ2LAjIZRmCHDgEPPgice27c\n",
       "LYoPdF2kF4kgsHw+j2uvvRb9/f1YtWoVuru7sXjxYoxxk/4E9u3bh+uuuw4TJkzAypUrsWnTJixZ\n",
       "siSmVhMI6UVDA/D//h/woQ8Bc+YAjzwSd4sIBH0kgsDWr1+P/fv345ZbbsHSpUtx8803o6Ojo2Rk\n",
       "tHbtWgwNDeGee+7BrbfeimuuuQYvvfQSdu7cGU/DCYSUoqEBeOghYOVK4LvfpU1YCelEIi7bjo4O\n",
       "AMCMGTOKfvLHZc+beaLg1NHRgba2tqLnZjKZ8BqcMixfvjzuJiQGdC7sWI7Fi+NuQzJA10U6kQgC\n",
       "c8JS3FRL9jzV1xMIBAIhvUiEhcjVU2dnJwCgq6vr5OP5fB7Dw8OezyMQCARCZSFjJUCuDA4O4owz\n",
       "zkBjYyPuuusu/PM//zPq6+uxY8cOVFdXY/bs2di2bRv27duHD3zgAzj//POxZMkSfPOb38TcuXPx\n",
       "29/+Nu6PQCAQCISIkQgFVldXh3Xr1iGXy2HZsmWYNm0a1q1bh2yWNY/Xs6ZNm4a1a9eip6cHd911\n",
       "F9rb2/Hoo4/G2HICgUAgxIVEEBgAzJs3D1u3bsXg4CA2bdqEuXPnAgDGxsawdevWk89btGgR3nnn\n",
       "HeTzeWzYsAGtra1F76M6n6zcsGPHDixYsABTpkzBuHHj8KlPfepkOrNSz0k+n8c555yDbDaL22+/\n",
       "HUBlnouenh7ceOONmDBhApqbm3HZZZcBqMxzsWLFCpx++umor69HW1sbfvCDHwCojHNxxx13YOrU\n",
       "qchms1i4cOHJx90+e+LPi1VGGBgYsKZOnWq1tbVZq1evtmbMmGG1tbVZo6OjcTctdGzYsMGaP3++\n",
       "9fDDD1t33HGHlclkrAULFlj5fL5iz8k999xjNTU1WZlMxrr99tsr9lwsWrTIqqqqsv7xH//RWrNm\n",
       "jXXzzTdX5LnYvn27lclkrDPPPNN65JFHrJkzZ1qZTMbq7OysiHNxxx13WHfeeaeVyWSshQsXWpYl\n",
       "7zPHxsZS0Z+WFYE9/fTTViaTsVauXGlZlmXde++9ViaTsV544YWYWxY+hoaGin6fNGmSNXXqVOuZ\n",
       "Z56pyHOyZcsWq6GhwVq5cuVJAqvE6+Pdd9+1MpmMdcMNN1hDQ0PWyMiIZVmVea/s3r3bqqmpsS69\n",
       "9FLrrbfestrb262GhgZr3bp1FXMudu3aVURgbtdBGq6RRMbo/UJ1Plk5oqam5uT/X3nlFRw5cgSL\n",
       "Fy+uyHMyNjaGL33pS7jtttvwoQ996OTjfNmxSjoX27dvBwD86U9/QlNTE6qqqnDnnXdi6tSpACrr\n",
       "XJx++un4t3/7N3zlK1/Bueeei2w2i5/85CfYs2cPgMo4F5YjsyfrH3bu3Im+vj7h35J0XhJTAwsD\n",
       "zi+rEvDWW2/hqquuQmtrK77//e+XnINKOCc/+clPsHv3btxwww3Yu3cvAFYHGhoaKnpeJZyLwcFB\n",
       "AMDx48fxxBNP4C//8i/xne98ByMjI0XPq4RzsWfPHtx555246KKL8POf/xwXXnghbrvtNvT39xc9\n",
       "rxLOhQz8s4sWgkjieSkrBVbp88S2b9+Oj3/842hsbMRvfvMbTJ06tSLPyd69e3HgwAFceOGFJx/7\n",
       "6U9/WpHngn+2efPm4ZprrkF3dzd+85vfnOyMKulc/OEPf0B/fz8++9nPYuHChdiyZQvuvfdenHti\n",
       "JeNKOhccPAQn+uy9vb3SvyUGcXmXYYAXpltbW61HHnnEOvXUU08WJMsde/bssVpaWqzq6mprxYoV\n",
       "1tq1a62f/exnFXlOtm/fbj311FPWU089ZS1fvtzKZDLWFVdcYW3cuLHizoVlWdacOXOslpYW69//\n",
       "/d+tj3zkI1ZNTY31+uuvV9y52LJli5XJZKxZs2ZZP/7xj61Zs2ZZ2WzW2rJlS0Wci+eee85asWKF\n",
       "lclkrAsvvND68Y9/bG3dulX62dPQd5QVgVmWZf3ud7+zLrjgAqu2ttaaO3eutWnTpribFAlefPFF\n",
       "K5PJWNls1spkMif/b1mVe04si6UzeYjDsirzXLzxxhvWRz/6Uau+vt4655xzrLVr11qWVZnn4uGH\n",
       "H7bOPPNMq76+/mQa0bIq41zMnz+/qI/IZrPWY4895vrZk35eErESB4FAIBAIuijrEAeBQCAQyhdE\n",
       "YAQCgUBIJYjACAQCgZBKEIERCAQCIZUgAiMQCARCKkEERiAQCIRUggiMQCAQCKkEERiBQCAQUgki\n",
       "MAKBQCCkEkRgBAKBQEgliMAIBAKBkEoQgREIBAIhlSACIxAIBEIqQQRGIBAIhFSCCIxAIBAIqQQR\n",
       "GIFAIBBSCSIwAoFAIKQSRGAEAoFASCWIwAgEAoGQShCBEQgEAiGVIAIjEAgEQipBBEYgEAiEVIII\n",
       "jEAgEAipxP8HORV1s0Ay4g4AAAAASUVORK5CYII=\n",
       "\">"
      ],
      "text/plain": [
       "<IPython.core.display.HTML at 0x9c3964c>"
      ]
     },
     "execution_count": 6,
     "metadata": {},
     "output_type": "execute_result"
    }
   ],
   "source": [
    "from IPython.display import HTML\n",
    "HTML('<img src=\"data:image/png;base64,{0}\">'.format(data))"
   ]
  },
  {
   "cell_type": "code",
   "execution_count": null,
   "metadata": {
    "collapsed": false
   },
   "outputs": [],
   "source": []
  },
  {
   "cell_type": "markdown",
   "metadata": {},
   "source": [
    "### SAVE FIG ON A STRINGIO"
   ]
  },
  {
   "cell_type": "raw",
   "metadata": {},
   "source": [
    "Has problem it keeps the external frame "
   ]
  },
  {
   "cell_type": "code",
   "execution_count": 13,
   "metadata": {
    "collapsed": false
   },
   "outputs": [
    {
     "data": {
      "image/png": "[encoded data removed]",
      "text/plain": [
       "<matplotlib.figure.Figure at 0x9dbe8cc>"
      ]
     },
     "metadata": {},
     "output_type": "display_data"
    }
   ],
   "source": [
    "plot(arange(10))\n",
    "fig=gcf()"
   ]
  },
  {
   "cell_type": "code",
   "execution_count": 14,
   "metadata": {
    "collapsed": false
   },
   "outputs": [
    {
     "data": {
      "text/plain": [
       "<matplotlib.image.AxesImage at 0x9f185cc>"
      ]
     },
     "execution_count": 14,
     "metadata": {},
     "output_type": "execute_result"
    },
    {
     "data": {
      "image/png": "[encoded data removed]",
      "text/plain": [
       "<matplotlib.figure.Figure at 0x9e5c26c>"
      ]
     },
     "metadata": {},
     "output_type": "display_data"
    }
   ],
   "source": [
    "import StringIO, Image\n",
    "imgdata = StringIO.StringIO()\n",
    "fig.savefig(imgdata, format='png')\n",
    "imgdata.seek(0)  # rewind the data\n",
    "im = Image.open(imgdata)\n",
    "imshow(im)"
   ]
  },
  {
   "cell_type": "markdown",
   "metadata": {},
   "source": [
    "### SYNTHETiC PNG"
   ]
  },
  {
   "cell_type": "code",
   "execution_count": 2,
   "metadata": {
    "collapsed": false
   },
   "outputs": [],
   "source": [
    "import Image,ImageDraw\n",
    "import cStringIO\n",
    "from random import randint as rint\n",
    "\n",
    "def randgradient():\n",
    "    img = Image.new(\"RGB\", (300,300), \"#FFFFFF\")\n",
    "    draw = ImageDraw.Draw(img)\n",
    "\n",
    "    r,g,b = rint(0,255), rint(0,255), rint(0,255)\n",
    "    dr = (rint(0,255) - r)/300.\n",
    "    dg = (rint(0,255) - g)/300.\n",
    "    db = (rint(0,255) - b)/300.\n",
    "    for i in range(300):\n",
    "        r,g,b = r+dr, g+dg, b+db\n",
    "        draw.line((i,0,i,300), fill=(int(r),int(g),int(b)))\n",
    "\n",
    "    \n",
    "    f = cStringIO.StringIO();\n",
    "    img.save(f, \"PNG\")\n",
    "    ##print(f)\n",
    "   \n",
    "    f.seek(0)\n",
    "    print(f,\"Content-type: image/png\\n\")\n",
    "    ##print(f.read())\n",
    "    return f"
   ]
  },
  {
   "cell_type": "code",
   "execution_count": 3,
   "metadata": {
    "collapsed": false
   },
   "outputs": [
    {
     "name": "stdout",
     "output_type": "stream",
     "text": [
      "<cStringIO.StringO object at 0xa408540> Content-type: image/png\n",
      "\n"
     ]
    },
    {
     "data": {
      "text/plain": [
       "<matplotlib.image.AxesImage at 0xa4c930c>"
      ]
     },
     "execution_count": 3,
     "metadata": {},
     "output_type": "execute_result"
    },
    {
     "data": {
      "image/png": "[encoded data removed]",
      "text/plain": [
       "<matplotlib.figure.Figure at 0xa40854c>"
      ]
     },
     "metadata": {},
     "output_type": "display_data"
    }
   ],
   "source": [
    "imshow(imread(randgradient(),\"PNG\"))"
   ]
  },
  {
   "cell_type": "code",
   "execution_count": 11,
   "metadata": {
    "collapsed": false
   },
   "outputs": [],
   "source": [
    "from IPython.nbformat import current\n",
    "f= open(r\"./03.Matplotlib Serializartion.ipynb\",'r')\n",
    "a=current.read(f,'json')"
   ]
  },
  {
   "cell_type": "code",
   "execution_count": 21,
   "metadata": {
    "collapsed": false
   },
   "outputs": [
    {
     "data": {
      "text/plain": [
       "[{u'cell_type': u'heading',\n",
       "  u'level': 3,\n",
       "  u'metadata': {},\n",
       "  u'source': u'PICKLE'}]"
      ]
     },
     "execution_count": 21,
     "metadata": {},
     "output_type": "execute_result"
    }
   ],
   "source": [
    "a['worksheets'][0].cells[0:1]"
   ]
  },
  {
   "cell_type": "code",
   "execution_count": null,
   "metadata": {
    "collapsed": false
   },
   "outputs": [],
   "source": []
  }
 ],
 "metadata": {
  "hide_input": false,
  "kernelspec": {
   "display_name": "Python 3",
   "language": "python",
   "name": "python3"
  },
  "language_info": {
   "codemirror_mode": {
    "name": "ipython",
    "version": 3
   },
   "file_extension": ".py",
   "mimetype": "text/x-python",
   "name": "python",
   "nbconvert_exporter": "python",
   "pygments_lexer": "ipython3",
   "version": "3.4.3"
  },
  "widgets": {
   "state": {},
   "version": "1.1.0"
  }
 },
 "nbformat": 4,
 "nbformat_minor": 0
}
